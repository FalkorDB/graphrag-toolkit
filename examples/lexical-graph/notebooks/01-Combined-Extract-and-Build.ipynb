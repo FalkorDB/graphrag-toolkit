{
 "cells": [
  {
   "cell_type": "markdown",
   "id": "3eb1535a",
   "metadata": {},
   "source": [
    "# 01 - Combined Extract and Build"
   ]
  },
  {
   "cell_type": "markdown",
   "id": "e3f529c1",
   "metadata": {},
   "source": [
    "## Setup\n",
    "\n",
    "If you haven't already, install the toolkit and dependencies using the [Setup](./00-Setup.ipynb) notebook."
   ]
  },
  {
   "cell_type": "markdown",
   "id": "0aa94cc9",
   "metadata": {},
   "source": [
    "## Continous ingest\n",
    "\n",
    "See [Continous ingest](https://github.com/awslabs/graphrag-toolkit/blob/main/docs/lexical-graph/indexing.md#continous-ingest)."
   ]
  },
  {
   "cell_type": "code",
   "id": "7ec68542",
   "metadata": {
    "ExecuteTime": {
     "end_time": "2025-04-27T14:11:18.584246Z",
     "start_time": "2025-04-27T14:11:18.563008Z"
    }
   },
   "source": [
    "%reload_ext dotenv\n",
    "%dotenv\n",
    "\n",
    "import os\n",
    "\n",
    "from graphrag_toolkit.lexical_graph import LexicalGraphIndex, GraphRAGConfig, set_logging_config\n",
    "from graphrag_toolkit.lexical_graph.storage import GraphStoreFactory\n",
    "from graphrag_toolkit.lexical_graph.storage import VectorStoreFactory\n",
    "\n",
    "from llama_index.readers.web import SimpleWebPageReader\n",
    "\n",
    "set_logging_config('INFO')\n",
    "\n",
    "graph_store = GraphStoreFactory.for_graph_store(os.environ['GRAPH_STORE'])\n",
    "vector_store = VectorStoreFactory.for_vector_store(os.environ['VECTOR_STORE'])\n",
    "\n",
    "graph_index = LexicalGraphIndex(\n",
    "    graph_store, \n",
    "    vector_store\n",
    ")\n",
    "\n",
    "doc_urls = [\n",
    "    'https://docs.aws.amazon.com/neptune/latest/userguide/intro.html',\n",
    "    'https://docs.aws.amazon.com/neptune-analytics/latest/userguide/what-is-neptune-analytics.html',\n",
    "    'https://docs.aws.amazon.com/neptune-analytics/latest/userguide/neptune-analytics-features.html',\n",
    "    'https://docs.aws.amazon.com/neptune-analytics/latest/userguide/neptune-analytics-vs-neptune-database.html'\n",
    "]\n",
    "\n",
    "docs = SimpleWebPageReader(\n",
    "    html_to_text=True,\n",
    "    metadata_fn=lambda url:{'url': url}\n",
    ").load_data(doc_urls)\n",
    "\n",
    "graph_index.extract_and_build(docs, show_progress=True)\n",
    "\n",
    "print('Complete')"
   ],
   "outputs": [
    {
     "name": "stdout",
     "output_type": "stream",
     "text": [
      "cannot find .env file\n"
     ]
    },
    {
     "ename": "KeyError",
     "evalue": "'GRAPH_STORE'",
     "output_type": "error",
     "traceback": [
      "\u001B[31m---------------------------------------------------------------------------\u001B[39m",
      "\u001B[31mKeyError\u001B[39m                                  Traceback (most recent call last)",
      "\u001B[36mCell\u001B[39m\u001B[36m \u001B[39m\u001B[32mIn[2]\u001B[39m\u001B[32m, line 14\u001B[39m\n\u001B[32m     10\u001B[39m \u001B[38;5;28;01mfrom\u001B[39;00m\u001B[38;5;250m \u001B[39m\u001B[34;01mllama_index\u001B[39;00m\u001B[34;01m.\u001B[39;00m\u001B[34;01mreaders\u001B[39;00m\u001B[34;01m.\u001B[39;00m\u001B[34;01mweb\u001B[39;00m\u001B[38;5;250m \u001B[39m\u001B[38;5;28;01mimport\u001B[39;00m SimpleWebPageReader\n\u001B[32m     12\u001B[39m set_logging_config(\u001B[33m'\u001B[39m\u001B[33mINFO\u001B[39m\u001B[33m'\u001B[39m)\n\u001B[32m---> \u001B[39m\u001B[32m14\u001B[39m graph_store = GraphStoreFactory.for_graph_store(os.environ[\u001B[33m'\u001B[39m\u001B[33mGRAPH_STORE\u001B[39m\u001B[33m'\u001B[39m])\n\u001B[32m     15\u001B[39m vector_store = VectorStoreFactory.for_vector_store(os.environ[\u001B[33m'\u001B[39m\u001B[33mVECTOR_STORE\u001B[39m\u001B[33m'\u001B[39m])\n\u001B[32m     17\u001B[39m graph_index = LexicalGraphIndex(\n\u001B[32m     18\u001B[39m     graph_store, \n\u001B[32m     19\u001B[39m     vector_store\n\u001B[32m     20\u001B[39m )\n",
      "\u001B[36mFile \u001B[39m\u001B[32m~/anaconda3/envs/graphrag-toolkit4/lib/python3.12/os.py:714\u001B[39m, in \u001B[36m_Environ.__getitem__\u001B[39m\u001B[34m(self, key)\u001B[39m\n\u001B[32m    711\u001B[39m     value = \u001B[38;5;28mself\u001B[39m._data[\u001B[38;5;28mself\u001B[39m.encodekey(key)]\n\u001B[32m    712\u001B[39m \u001B[38;5;28;01mexcept\u001B[39;00m \u001B[38;5;167;01mKeyError\u001B[39;00m:\n\u001B[32m    713\u001B[39m     \u001B[38;5;66;03m# raise KeyError with the original key value\u001B[39;00m\n\u001B[32m--> \u001B[39m\u001B[32m714\u001B[39m     \u001B[38;5;28;01mraise\u001B[39;00m \u001B[38;5;167;01mKeyError\u001B[39;00m(key) \u001B[38;5;28;01mfrom\u001B[39;00m\u001B[38;5;250m \u001B[39m\u001B[38;5;28;01mNone\u001B[39;00m\n\u001B[32m    715\u001B[39m \u001B[38;5;28;01mreturn\u001B[39;00m \u001B[38;5;28mself\u001B[39m.decodevalue(value)\n",
      "\u001B[31mKeyError\u001B[39m: 'GRAPH_STORE'"
     ]
    }
   ],
   "execution_count": 2
  }
 ],
 "metadata": {
  "kernelspec": {
   "display_name": "Python 3",
   "language": "python",
   "name": "python3"
  },
  "language_info": {
   "codemirror_mode": {
    "name": "ipython",
    "version": 3
   },
   "file_extension": ".py",
   "mimetype": "text/x-python",
   "name": "python",
   "nbconvert_exporter": "python",
   "pygments_lexer": "ipython3",
   "version": "3.10.8"
  }
 },
 "nbformat": 4,
 "nbformat_minor": 5
}
