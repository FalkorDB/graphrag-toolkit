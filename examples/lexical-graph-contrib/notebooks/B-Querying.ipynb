{
 "cells": [
  {
   "metadata": {},
   "cell_type": "markdown",
   "source": "# Querying",
   "id": "3bfeb79c9431a3c6"
  },
  {
   "metadata": {
    "ExecuteTime": {
     "end_time": "2025-05-06T03:00:48.700261Z",
     "start_time": "2025-05-06T03:00:48.694126Z"
    }
   },
   "cell_type": "code",
   "source": [
    "%reload_ext dotenv\n",
    "%dotenv\n",
    "\n",
    "import os\n",
    "\n",
    "from graphrag_toolkit.lexical_graph.storage.graph.falkordb import FalkorDBGraphStoreFactory\n",
    "from graphrag_toolkit.lexical_graph.storage import GraphStoreFactory\n",
    "from graphrag_toolkit.lexical_graph.storage import VectorStoreFactory\n",
    "\n",
    "# Register the FalkorDB backend with the factory\n",
    "GraphStoreFactory.register(FalkorDBGraphStoreFactory)\n",
    "\n",
    "# Create graph and vector stores\n",
    "graph_store = GraphStoreFactory.for_graph_store(os.environ['GRAPH_STORE'])\n",
    "vector_store = VectorStoreFactory.for_vector_store(os.environ['VECTOR_STORE'])"
   ],
   "id": "6edfdf2594abab7c",
   "outputs": [],
   "execution_count": 6
  },
  {
   "metadata": {
    "ExecuteTime": {
     "end_time": "2025-05-06T03:00:59.377600Z",
     "start_time": "2025-05-06T03:00:55.167970Z"
    }
   },
   "cell_type": "code",
   "source": [
    "%reload_ext dotenv\n",
    "%dotenv\n",
    "\n",
    "import os\n",
    "\n",
    "from graphrag_toolkit.lexical_graph import set_logging_config\n",
    "from graphrag_toolkit.lexical_graph import LexicalGraphQueryEngine\n",
    "from graphrag_toolkit.lexical_graph.tenant_id import TenantId\n",
    "from graphrag_toolkit.lexical_graph.retrieval.retrievers import RerankingBeamGraphSearch, StatementCosineSimilaritySearch, KeywordRankingSearch\n",
    "from graphrag_toolkit.lexical_graph.retrieval.post_processors import SentenceReranker, SentenceReranker, StatementDiversityPostProcessor, StatementEnhancementPostProcessor\n",
    "import os\n",
    "\n",
    "set_logging_config('INFO')\n",
    "cosine_retriever = StatementCosineSimilaritySearch(\n",
    "    vector_store=vector_store,\n",
    "    graph_store=graph_store,\n",
    "    top_k=50\n",
    ")\n",
    "\n",
    "query_engine = LexicalGraphQueryEngine.for_semantic_guided_search(\n",
    "    graph_store,\n",
    "    vector_store,\n",
    "    tenant_id=TenantId(\"awsgraph1\"),\n",
    "\n",
    "    #post_processors=[\n",
    "    #    SentenceReranker(),\n",
    "    #    StatementDiversityPostProcessor(),\n",
    "    #    StatementEnhancementPostProcessor()\n",
    "    #]\n",
    ")\n",
    "\n",
    "response = query_engine.query(\"What are the differences between Neptune Database and Neptune Analytics?\")\n",
    "\n",
    "print(response.response)\n",
    "\n"
   ],
   "id": "981a43d941d951b3",
   "outputs": [
    {
     "name": "stdout",
     "output_type": "stream",
     "text": [
      "2025-05-05 23:00:55:WARNING:g.l.s.v.pg_vector_indexes:Index statement_awsgraph1 does not exist\n",
      "I apologize, but I do not have enough information from the provided search results to accurately answer your question about the differences between Neptune Database and Neptune Analytics. The search results are empty, so I cannot make any claims or comparisons between these two services. To provide a proper response, I would need access to reliable information about both Neptune Database and Neptune Analytics.\n"
     ]
    }
   ],
   "execution_count": 7
  },
  {
   "cell_type": "code",
   "id": "initial_id",
   "metadata": {
    "collapsed": true,
    "ExecuteTime": {
     "end_time": "2025-05-06T03:01:38.074766Z",
     "start_time": "2025-05-06T03:01:23.880227Z"
    }
   },
   "source": [
    "from graphrag_toolkit.lexical_graph import LexicalGraphQueryEngine\n",
    "from graphrag_toolkit.lexical_graph.retrieval.retrievers import RerankingBeamGraphSearch, StatementCosineSimilaritySearch, KeywordRankingSearch\n",
    "from graphrag_toolkit.lexical_graph.retrieval.post_processors import SentenceReranker\n",
    "from graphrag_toolkit.lexical_graph.tenant_id import TenantId\n",
    "from graphrag_toolkit.lexical_graph import set_logging_config\n",
    "\n",
    "set_logging_config('INFO')\n",
    "\n",
    "cosine_retriever = StatementCosineSimilaritySearch(\n",
    "    vector_store=vector_store,\n",
    "    graph_store=graph_store,\n",
    "    top_k=50\n",
    ")\n",
    "\n",
    "keyword_retriever = KeywordRankingSearch(\n",
    "    vector_store=vector_store,\n",
    "    graph_store=graph_store,\n",
    "    max_keywords=10\n",
    ")\n",
    "\n",
    "reranker = SentenceReranker(\n",
    "    batch_size=128\n",
    ")\n",
    "\n",
    "beam_retriever = RerankingBeamGraphSearch(\n",
    "    vector_store=vector_store,\n",
    "    graph_store=graph_store,\n",
    "    reranker=reranker,\n",
    "    initial_retrievers=[cosine_retriever, keyword_retriever],\n",
    "    max_depth=8,\n",
    "    beam_width=100\n",
    ")\n",
    "\n",
    "query_engine = LexicalGraphQueryEngine.for_semantic_guided_search(\n",
    "    graph_store,\n",
    "    vector_store,\n",
    "    retrievers=[\n",
    "        cosine_retriever,\n",
    "        keyword_retriever,\n",
    "        beam_retriever\n",
    "    ],\n",
    "    #tenant_id=TenantId(\"awsgraph1\")\n",
    ")\n",
    "\n",
    "response = query_engine.query(\"What are the differences between Neptune Database and Neptune Analytics?\")\n",
    "\n",
    "print(response.response)"
   ],
   "outputs": [
    {
     "name": "stdout",
     "output_type": "stream",
     "text": [
      "2025-05-05 23:01:24:WARNING:g.l.s.v.pg_vector_indexes:Index statement_awsgraph1 does not exist\n",
      "2025-05-05 23:01:26:WARNING:g.l.s.v.pg_vector_indexes:Index statement_awsgraph1 does not exist\n",
      "2025-05-05 23:01:26:WARNING:g.l.s.v.pg_vector_indexes:Index statement_awsgraph1 does not exist\n",
      "2025-05-05 23:01:26:INFO:g.l.r.r.rerank_beam_search:Retrieved 99 new nodes through beam search.\n",
      "Neptune Database and Neptune Analytics are distinct components of Amazon Neptune with several key differences:\n",
      "\n",
      "1. Purpose: Neptune Database is a fully managed graph database service, while Neptune Analytics is an analytics database engine designed specifically for graph analytics [source_1, source_2].\n",
      "\n",
      "2. Use cases: Neptune Database is suitable for applications like fraud alerting, Customer 360, and social networking [source_1]. Neptune Analytics is ideal for data science workloads, investigatory and exploratory tasks, and getting insights and trends from large graph datasets [source_2].\n",
      "\n",
      "3. Data processing: Neptune Database is designed for operational workloads, while Neptune Analytics can quickly analyze large amounts of graph data in memory [source_1, source_2].\n",
      "\n",
      "4. Scalability: Neptune Database can scale to 100,000 queries per second and offers multi-Region deployments [source_1]. Neptune Analytics can process thousands of analytic queries per second and analyze graphs with tens of billions of relationships [source_1].\n",
      "\n",
      "5. Features: Neptune Analytics provides a library of optimized graph analytic algorithms, supports vector search capabilities within graph traversals, and enables in-database analytics on large graphs [source_2, source_3].\n",
      "\n",
      "6. Data loading: Neptune Analytics can load data from Neptune Database snapshots, graphs stored in Amazon S3, or directly from a Neptune Database endpoint [source_2, source_3].\n",
      "\n",
      "7. Query language: Neptune Analytics uses the openCypher language for querying and analyzing graph data [source_3].\n",
      "\n",
      "8. Resource management: Neptune Analytics automatically provisions compute resources based on graph size and manages graphs instead of infrastructure [source_3].\n",
      "\n",
      "In summary, Neptune Database is optimized for operational graph database workloads, while Neptune Analytics is designed for intensive graph analysis, data science, and deriving insights from large graph datasets [source_1, source_2].\n"
     ]
    }
   ],
   "execution_count": 9
  }
 ],
 "metadata": {
  "kernelspec": {
   "display_name": "Python 3",
   "language": "python",
   "name": "python3"
  },
  "language_info": {
   "codemirror_mode": {
    "name": "ipython",
    "version": 2
   },
   "file_extension": ".py",
   "mimetype": "text/x-python",
   "name": "python",
   "nbconvert_exporter": "python",
   "pygments_lexer": "ipython2",
   "version": "2.7.6"
  }
 },
 "nbformat": 4,
 "nbformat_minor": 5
}
