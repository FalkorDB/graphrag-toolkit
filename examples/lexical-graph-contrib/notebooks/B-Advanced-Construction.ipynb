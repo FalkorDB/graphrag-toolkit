{
 "cells": [
  {
   "cell_type": "markdown",
   "id": "73c2a2f9",
   "metadata": {},
   "source": "# A - Advanced Construction"
  },
  {
   "cell_type": "markdown",
   "id": "4796b938",
   "metadata": {},
   "source": [
    "## Setup\n",
    "\n",
    "If you haven't already, install the toolkit and dependencies using the [Setup](./00-Setup.ipynb) notebook."
   ]
  },
  {
   "cell_type": "markdown",
   "id": "44e33c3e",
   "metadata": {},
   "source": [
    "## Extract and build pipelines\n",
    "\n",
    "See [Advanced graph construction](https://github.com/awslabs/graphrag-toolkit/blob/main/docs/lexical-graph/indexing.md#advanced-graph-construction)."
   ]
  },
  {
   "cell_type": "code",
   "id": "9c802bb2",
   "metadata": {
    "ExecuteTime": {
     "end_time": "2025-05-06T15:44:56.310799Z",
     "start_time": "2025-05-06T15:43:40.894874Z"
    }
   },
   "source": [
    "%reload_ext dotenv\n",
    "%dotenv\n",
    "\n",
    "import os\n",
    "\n",
    "from graphrag_toolkit.lexical_graph.tenant_id import TenantId\n",
    "from graphrag_toolkit.lexical_graph.storage import GraphStoreFactory\n",
    "from graphrag_toolkit.lexical_graph.storage import VectorStoreFactory\n",
    "from graphrag_toolkit.lexical_graph.indexing import sink\n",
    "from graphrag_toolkit.lexical_graph.indexing.constants import PROPOSITIONS_KEY, DEFAULT_ENTITY_CLASSIFICATIONS\n",
    "from graphrag_toolkit.lexical_graph.indexing.extract import LLMPropositionExtractor\n",
    "from graphrag_toolkit.lexical_graph.indexing.extract import TopicExtractor\n",
    "from graphrag_toolkit.lexical_graph.indexing.extract import GraphScopedValueStore\n",
    "from graphrag_toolkit.lexical_graph.indexing.extract import ScopedValueProvider, DEFAULT_SCOPE\n",
    "from graphrag_toolkit.lexical_graph.indexing.extract import ExtractionPipeline\n",
    "from graphrag_toolkit.lexical_graph.indexing.build import Checkpoint\n",
    "from graphrag_toolkit.lexical_graph.indexing.build import BuildPipeline\n",
    "from graphrag_toolkit.lexical_graph.indexing.build import VectorIndexing\n",
    "from graphrag_toolkit.lexical_graph.indexing.build import GraphConstruction\n",
    "from graphrag_toolkit.lexical_graph.storage.graph import MultiTenantGraphStore\n",
    "from graphrag_toolkit.lexical_graph.storage.vector import MultiTenantVectorStore\n",
    "\n",
    "\n",
    "from llama_index.core.node_parser import SentenceSplitter\n",
    "from llama_index.readers.web import SimpleWebPageReader\n",
    "\n",
    "checkpoint = Checkpoint('multi-tenant-advanced-construction-example', enabled=True)\n",
    "\n",
    "tenant_id = TenantId('tenant1')\n",
    "\n",
    "# Create graph and vector stores\n",
    "\n",
    "graph_store = MultiTenantGraphStore.wrap(\n",
    "    GraphStoreFactory.for_graph_store(os.environ['GRAPH_STORE']),\n",
    "    tenant_id=tenant_id\n",
    ")\n",
    "\n",
    "vector_store = MultiTenantVectorStore.wrap(\n",
    "    VectorStoreFactory.for_vector_store(os.environ['VECTOR_STORE']),\n",
    "    tenant_id=tenant_id\n",
    ")\n",
    "\n",
    "# Create extraction pipeline components\n",
    "\n",
    " # 1. Chunking using SentenceSplitter\n",
    "\n",
    "splitter = SentenceSplitter(\n",
    "    chunk_size=256,\n",
    "    chunk_overlap=20)\n",
    "\n",
    "# 2. Proposition extraction\n",
    "\n",
    "proposition_extractor = LLMPropositionExtractor()\n",
    "\n",
    "# 3. Topic extraction\n",
    "\n",
    "entity_classification_provider = ScopedValueProvider(\n",
    "    label='EntityClassification',\n",
    "    scoped_value_store=GraphScopedValueStore(graph_store=graph_store),\n",
    "    initial_scoped_values = { DEFAULT_SCOPE: DEFAULT_ENTITY_CLASSIFICATIONS }\n",
    ")\n",
    "\n",
    "topic_extractor = TopicExtractor(\n",
    "    source_metadata_field=PROPOSITIONS_KEY, # Omit this line if not performing proposition extraction\n",
    "    entity_classification_provider=entity_classification_provider # Entity classifications saved to graph between LLM invocations\n",
    ")\n",
    "\n",
    "# Create extraction pipeline\n",
    "\n",
    "extraction_pipeline = ExtractionPipeline.create(\n",
    "    components=[\n",
    "        splitter,\n",
    "        proposition_extractor,\n",
    "        topic_extractor\n",
    "        ],\n",
    "\n",
    "    num_workers=2,\n",
    "    batch_size=4,\n",
    "    checkpoint=checkpoint,\n",
    "    show_progress=True,\n",
    "    tenant_id=tenant_id\n",
    ")\n",
    "\n",
    "# Create build pipeline components\n",
    "\n",
    "graph_construction = GraphConstruction.for_graph_store(graph_store)\n",
    "vector_indexing = VectorIndexing.for_vector_store(vector_store)\n",
    "\n",
    "# Create build pipeline\n",
    "\n",
    "build_pipeline = BuildPipeline.create(\n",
    "    components=[\n",
    "        graph_construction,\n",
    "        vector_indexing\n",
    "        ],\n",
    "    num_workers=2,\n",
    "    batch_size=10,\n",
    "    batch_writes_enabled=True,\n",
    "    checkpoint=checkpoint,\n",
    "    show_progress=True,\n",
    "    tenant_id=tenant_id\n",
    ")\n",
    "\n",
    "# Load source documents\n",
    "\n",
    "doc_urls = [\n",
    "\n",
    "    'https://docs.aws.amazon.com/neptune/latest/userguide/intro.html',\n",
    "\n",
    "    'https://docs.aws.amazon.com/neptune-analytics/latest/userguide/what-is-neptune-analytics.html',\n",
    "\n",
    "    'https://docs.aws.amazon.com/neptune-analytics/latest/userguide/neptune-analytics-features.html',\n",
    "\n",
    "    'https://docs.aws.amazon.com/neptune-analytics/latest/userguide/neptune-analytics-vs-neptune-database.html'\n",
    "\n",
    "]\n",
    "\n",
    "docs = SimpleWebPageReader(\n",
    "\n",
    "    html_to_text=True,\n",
    "\n",
    "    metadata_fn=lambda url:{'url': url}\n",
    "\n",
    ").load_data(doc_urls)\n",
    "\n",
    "\n",
    "\n",
    "# Run the build and exraction stages\n",
    "\n",
    "docs | extraction_pipeline | build_pipeline | sink\n"
   ],
   "outputs": [
    {
     "name": "stdout",
     "output_type": "stream",
     "text": [
      "2025-05-06 11:43:41:INFO:g.l.i.e.extraction_pipeline:Running extraction pipeline [batch_size: 4, num_workers: 2]\n"
     ]
    },
    {
     "name": "stderr",
     "output_type": "stream",
     "text": [
      "Extracting propositions [nodes: 5, num_workers: 4]: 100%|██████████| 5/5 [00:11<00:00,  2.32s/it]t]\n",
      "Extracting propositions [nodes: 10, num_workers: 4]: 100%|██████████| 10/10 [00:20<00:00,  2.04s/it]\n",
      "Extracting topics [nodes: 5, num_workers: 4]: 100%|██████████| 5/5 [00:24<00:00,  4.81s/it]t]\n",
      "Extracting topics [nodes: 10, num_workers: 4]: 100%|██████████| 10/10 [00:49<00:00,  4.99s/it]\n"
     ]
    },
    {
     "name": "stdout",
     "output_type": "stream",
     "text": [
      "2025-05-06 11:44:51:INFO:g.l.i.b.build_pipeline:Running build pipeline [batch_size: 10, num_workers: 2, job_sizes: [441, 183], batch_writes_enabled: True, batch_write_size: 25]\n"
     ]
    },
    {
     "name": "stderr",
     "output_type": "stream",
     "text": [
      "Building graph [batch_writes_enabled: True, batch_write_size: 25]: 100%|██████████| 183/183 [00:00<00:00, 55459.37it/s]\n",
      "Building graph [batch_writes_enabled: True, batch_write_size: 25]: 100%|██████████| 441/441 [00:00<00:00, 52717.19it/s]\n",
      "Building vector index [batch_writes_enabled: True, batch_write_size: 25]: 100%|██████████| 183/183 [00:00<00:00, 694622.29it/s]\n",
      "Building vector index [batch_writes_enabled: True, batch_write_size: 25]: 100%|██████████| 441/441 [00:00<00:00, 1134777.95it/s]\n"
     ]
    }
   ],
   "execution_count": 3
  },
  {
   "cell_type": "code",
   "id": "5288cdd2",
   "metadata": {},
   "source": [
    "from graphrag_toolkit.lexical_graph import GraphRAGConfig\n",
    "print(f\"GraphRAGConfig: {GraphRAGConfig}\")"
   ],
   "outputs": [],
   "execution_count": null
  }
 ],
 "metadata": {
  "kernelspec": {
   "display_name": "Python 3",
   "language": "python",
   "name": "python3"
  },
  "language_info": {
   "codemirror_mode": {
    "name": "ipython",
    "version": 3
   },
   "file_extension": ".py",
   "mimetype": "text/x-python",
   "name": "python",
   "nbconvert_exporter": "python",
   "pygments_lexer": "ipython3",
   "version": "3.10.8"
  }
 },
 "nbformat": 4,
 "nbformat_minor": 5
}
