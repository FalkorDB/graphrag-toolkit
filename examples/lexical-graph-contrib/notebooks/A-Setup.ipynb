{
 "cells": [
  {
   "cell_type": "markdown",
   "id": "65a1effc",
   "metadata": {},
   "source": [
    "# Setup"
   ]
  },
  {
   "cell_type": "markdown",
   "id": "a4fd436a",
   "metadata": {},
   "source": [
    "Install the graphrag-toolkit-lexical-graph:"
   ]
  },
  {
   "cell_type": "code",
   "id": "a3947399",
   "metadata": {
    "ExecuteTime": {
     "end_time": "2025-05-06T15:03:08.188820Z",
     "start_time": "2025-05-06T15:03:06.441488Z"
    }
   },
   "source": "!pip install https://github.com/awslabs/graphrag-toolkit/archive/refs/tags/v3.5.2.zip#subdirectory=lexical-graph",
   "outputs": [
    {
     "name": "stdout",
     "output_type": "stream",
     "text": [
      "Collecting https://github.com/awslabs/graphrag-toolkit/archive/refs/tags/v3.5.2.zip#subdirectory=lexical-graph\r\n",
      "  Using cached https://github.com/awslabs/graphrag-toolkit/archive/refs/tags/v3.5.2.zip\r\n",
      "  Installing build dependencies ... \u001B[?25ldone\r\n",
      "\u001B[?25h  Getting requirements to build wheel ... \u001B[?25ldone\r\n",
      "\u001B[?25h  Preparing metadata (pyproject.toml) ... \u001B[?25ldone\r\n",
      "\u001B[?25hRequirement already satisfied: anthropic-bedrock==0.8.0 in /home/evanerwee/anaconda3/envs/graphrag-toolkit5/lib/python3.12/site-packages (from graphrag-toolkit-lexical-graph==3.5.2) (0.8.0)\r\n",
      "Requirement already satisfied: boto3>=1.36.1 in /home/evanerwee/anaconda3/envs/graphrag-toolkit5/lib/python3.12/site-packages (from graphrag-toolkit-lexical-graph==3.5.2) (1.36.1)\r\n",
      "Requirement already satisfied: botocore>=1.36.1 in /home/evanerwee/anaconda3/envs/graphrag-toolkit5/lib/python3.12/site-packages (from graphrag-toolkit-lexical-graph==3.5.2) (1.36.1)\r\n",
      "Requirement already satisfied: json2xml==5.0.4 in /home/evanerwee/anaconda3/envs/graphrag-toolkit5/lib/python3.12/site-packages (from graphrag-toolkit-lexical-graph==3.5.2) (5.0.4)\r\n",
      "Requirement already satisfied: llama-index-core==0.12.26 in /home/evanerwee/anaconda3/envs/graphrag-toolkit5/lib/python3.12/site-packages (from graphrag-toolkit-lexical-graph==3.5.2) (0.12.26)\r\n",
      "Requirement already satisfied: llama-index-embeddings-bedrock==0.5.0 in /home/evanerwee/anaconda3/envs/graphrag-toolkit5/lib/python3.12/site-packages (from graphrag-toolkit-lexical-graph==3.5.2) (0.5.0)\r\n",
      "Requirement already satisfied: llama-index-llms-anthropic==0.6.10 in /home/evanerwee/anaconda3/envs/graphrag-toolkit5/lib/python3.12/site-packages (from graphrag-toolkit-lexical-graph==3.5.2) (0.6.10)\r\n",
      "Requirement already satisfied: llama-index-llms-bedrock-converse==0.4.15 in /home/evanerwee/anaconda3/envs/graphrag-toolkit5/lib/python3.12/site-packages (from graphrag-toolkit-lexical-graph==3.5.2) (0.4.15)\r\n",
      "Requirement already satisfied: lru-dict==1.3.0 in /home/evanerwee/anaconda3/envs/graphrag-toolkit5/lib/python3.12/site-packages (from graphrag-toolkit-lexical-graph==3.5.2) (1.3.0)\r\n",
      "Requirement already satisfied: pipe==2.2 in /home/evanerwee/anaconda3/envs/graphrag-toolkit5/lib/python3.12/site-packages (from graphrag-toolkit-lexical-graph==3.5.2) (2.2)\r\n",
      "Requirement already satisfied: python-dotenv==1.0.1 in /home/evanerwee/anaconda3/envs/graphrag-toolkit5/lib/python3.12/site-packages (from graphrag-toolkit-lexical-graph==3.5.2) (1.0.1)\r\n",
      "Requirement already satisfied: smart_open==7.0.4 in /home/evanerwee/anaconda3/envs/graphrag-toolkit5/lib/python3.12/site-packages (from graphrag-toolkit-lexical-graph==3.5.2) (7.0.4)\r\n",
      "Requirement already satisfied: spacy==3.7.5 in /home/evanerwee/anaconda3/envs/graphrag-toolkit5/lib/python3.12/site-packages (from graphrag-toolkit-lexical-graph==3.5.2) (3.7.5)\r\n",
      "Requirement already satisfied: tfidf_matcher==0.3.0 in /home/evanerwee/anaconda3/envs/graphrag-toolkit5/lib/python3.12/site-packages (from graphrag-toolkit-lexical-graph==3.5.2) (0.3.0)\r\n",
      "Requirement already satisfied: anyio<5,>=3.5.0 in /home/evanerwee/anaconda3/envs/graphrag-toolkit5/lib/python3.12/site-packages (from anthropic-bedrock==0.8.0->graphrag-toolkit-lexical-graph==3.5.2) (4.7.0)\r\n",
      "Requirement already satisfied: distro<2,>=1.7.0 in /home/evanerwee/anaconda3/envs/graphrag-toolkit5/lib/python3.12/site-packages (from anthropic-bedrock==0.8.0->graphrag-toolkit-lexical-graph==3.5.2) (1.9.0)\r\n",
      "Requirement already satisfied: httpx<1,>=0.23.0 in /home/evanerwee/anaconda3/envs/graphrag-toolkit5/lib/python3.12/site-packages (from anthropic-bedrock==0.8.0->graphrag-toolkit-lexical-graph==3.5.2) (0.27.0)\r\n",
      "Requirement already satisfied: pydantic<3,>=1.9.0 in /home/evanerwee/anaconda3/envs/graphrag-toolkit5/lib/python3.12/site-packages (from anthropic-bedrock==0.8.0->graphrag-toolkit-lexical-graph==3.5.2) (2.11.4)\r\n",
      "Requirement already satisfied: sniffio in /home/evanerwee/anaconda3/envs/graphrag-toolkit5/lib/python3.12/site-packages (from anthropic-bedrock==0.8.0->graphrag-toolkit-lexical-graph==3.5.2) (1.3.0)\r\n",
      "Requirement already satisfied: tokenizers>=0.13.0 in /home/evanerwee/anaconda3/envs/graphrag-toolkit5/lib/python3.12/site-packages (from anthropic-bedrock==0.8.0->graphrag-toolkit-lexical-graph==3.5.2) (0.21.1)\r\n",
      "Requirement already satisfied: typing-extensions<5,>=4.7 in /home/evanerwee/anaconda3/envs/graphrag-toolkit5/lib/python3.12/site-packages (from anthropic-bedrock==0.8.0->graphrag-toolkit-lexical-graph==3.5.2) (4.12.2)\r\n",
      "Requirement already satisfied: defusedxml in /home/evanerwee/anaconda3/envs/graphrag-toolkit5/lib/python3.12/site-packages (from json2xml==5.0.4->graphrag-toolkit-lexical-graph==3.5.2) (0.7.1)\r\n",
      "Requirement already satisfied: urllib3 in /home/evanerwee/anaconda3/envs/graphrag-toolkit5/lib/python3.12/site-packages (from json2xml==5.0.4->graphrag-toolkit-lexical-graph==3.5.2) (2.3.0)\r\n",
      "Requirement already satisfied: PyYAML>=6.0.1 in /home/evanerwee/anaconda3/envs/graphrag-toolkit5/lib/python3.12/site-packages (from llama-index-core==0.12.26->graphrag-toolkit-lexical-graph==3.5.2) (6.0.2)\r\n",
      "Requirement already satisfied: SQLAlchemy>=1.4.49 in /home/evanerwee/anaconda3/envs/graphrag-toolkit5/lib/python3.12/site-packages (from SQLAlchemy[asyncio]>=1.4.49->llama-index-core==0.12.26->graphrag-toolkit-lexical-graph==3.5.2) (2.0.40)\r\n",
      "Requirement already satisfied: aiohttp<4.0.0,>=3.8.6 in /home/evanerwee/anaconda3/envs/graphrag-toolkit5/lib/python3.12/site-packages (from llama-index-core==0.12.26->graphrag-toolkit-lexical-graph==3.5.2) (3.11.18)\r\n",
      "Requirement already satisfied: banks<3.0.0,>=2.0.0 in /home/evanerwee/anaconda3/envs/graphrag-toolkit5/lib/python3.12/site-packages (from llama-index-core==0.12.26->graphrag-toolkit-lexical-graph==3.5.2) (2.1.2)\r\n",
      "Requirement already satisfied: dataclasses-json in /home/evanerwee/anaconda3/envs/graphrag-toolkit5/lib/python3.12/site-packages (from llama-index-core==0.12.26->graphrag-toolkit-lexical-graph==3.5.2) (0.6.7)\r\n",
      "Requirement already satisfied: deprecated>=1.2.9.3 in /home/evanerwee/anaconda3/envs/graphrag-toolkit5/lib/python3.12/site-packages (from llama-index-core==0.12.26->graphrag-toolkit-lexical-graph==3.5.2) (1.2.18)\r\n",
      "Requirement already satisfied: dirtyjson<2.0.0,>=1.0.8 in /home/evanerwee/anaconda3/envs/graphrag-toolkit5/lib/python3.12/site-packages (from llama-index-core==0.12.26->graphrag-toolkit-lexical-graph==3.5.2) (1.0.8)\r\n",
      "Requirement already satisfied: filetype<2.0.0,>=1.2.0 in /home/evanerwee/anaconda3/envs/graphrag-toolkit5/lib/python3.12/site-packages (from llama-index-core==0.12.26->graphrag-toolkit-lexical-graph==3.5.2) (1.2.0)\r\n",
      "Requirement already satisfied: fsspec>=2023.5.0 in /home/evanerwee/anaconda3/envs/graphrag-toolkit5/lib/python3.12/site-packages (from llama-index-core==0.12.26->graphrag-toolkit-lexical-graph==3.5.2) (2025.3.0)\r\n",
      "Requirement already satisfied: nest-asyncio<2.0.0,>=1.5.8 in /home/evanerwee/anaconda3/envs/graphrag-toolkit5/lib/python3.12/site-packages (from llama-index-core==0.12.26->graphrag-toolkit-lexical-graph==3.5.2) (1.6.0)\r\n",
      "Requirement already satisfied: networkx>=3.0 in /home/evanerwee/anaconda3/envs/graphrag-toolkit5/lib/python3.12/site-packages (from llama-index-core==0.12.26->graphrag-toolkit-lexical-graph==3.5.2) (3.4.2)\r\n",
      "Requirement already satisfied: nltk>3.8.1 in /home/evanerwee/anaconda3/envs/graphrag-toolkit5/lib/python3.12/site-packages (from llama-index-core==0.12.26->graphrag-toolkit-lexical-graph==3.5.2) (3.9.1)\r\n",
      "Requirement already satisfied: numpy in /home/evanerwee/anaconda3/envs/graphrag-toolkit5/lib/python3.12/site-packages (from llama-index-core==0.12.26->graphrag-toolkit-lexical-graph==3.5.2) (1.26.4)\r\n",
      "Requirement already satisfied: pillow>=9.0.0 in /home/evanerwee/anaconda3/envs/graphrag-toolkit5/lib/python3.12/site-packages (from llama-index-core==0.12.26->graphrag-toolkit-lexical-graph==3.5.2) (11.2.1)\r\n",
      "Requirement already satisfied: requests>=2.31.0 in /home/evanerwee/anaconda3/envs/graphrag-toolkit5/lib/python3.12/site-packages (from llama-index-core==0.12.26->graphrag-toolkit-lexical-graph==3.5.2) (2.32.3)\r\n",
      "Requirement already satisfied: tenacity!=8.4.0,<10.0.0,>=8.2.0 in /home/evanerwee/anaconda3/envs/graphrag-toolkit5/lib/python3.12/site-packages (from llama-index-core==0.12.26->graphrag-toolkit-lexical-graph==3.5.2) (9.1.2)\r\n",
      "Requirement already satisfied: tiktoken>=0.3.3 in /home/evanerwee/anaconda3/envs/graphrag-toolkit5/lib/python3.12/site-packages (from llama-index-core==0.12.26->graphrag-toolkit-lexical-graph==3.5.2) (0.9.0)\r\n",
      "Requirement already satisfied: tqdm<5.0.0,>=4.66.1 in /home/evanerwee/anaconda3/envs/graphrag-toolkit5/lib/python3.12/site-packages (from llama-index-core==0.12.26->graphrag-toolkit-lexical-graph==3.5.2) (4.67.1)\r\n",
      "Requirement already satisfied: typing-inspect>=0.8.0 in /home/evanerwee/anaconda3/envs/graphrag-toolkit5/lib/python3.12/site-packages (from llama-index-core==0.12.26->graphrag-toolkit-lexical-graph==3.5.2) (0.9.0)\r\n",
      "Requirement already satisfied: wrapt in /home/evanerwee/anaconda3/envs/graphrag-toolkit5/lib/python3.12/site-packages (from llama-index-core==0.12.26->graphrag-toolkit-lexical-graph==3.5.2) (1.17.2)\r\n",
      "Requirement already satisfied: aioboto3<14.0.0,>=13.1.1 in /home/evanerwee/anaconda3/envs/graphrag-toolkit5/lib/python3.12/site-packages (from llama-index-embeddings-bedrock==0.5.0->graphrag-toolkit-lexical-graph==3.5.2) (13.4.0)\r\n",
      "Requirement already satisfied: anthropic>=0.49.0 in /home/evanerwee/anaconda3/envs/graphrag-toolkit5/lib/python3.12/site-packages (from anthropic[bedrock,vertex]>=0.49.0->llama-index-llms-anthropic==0.6.10->graphrag-toolkit-lexical-graph==3.5.2) (0.50.0)\r\n",
      "Requirement already satisfied: spacy-legacy<3.1.0,>=3.0.11 in /home/evanerwee/anaconda3/envs/graphrag-toolkit5/lib/python3.12/site-packages (from spacy==3.7.5->graphrag-toolkit-lexical-graph==3.5.2) (3.0.12)\r\n",
      "Requirement already satisfied: spacy-loggers<2.0.0,>=1.0.0 in /home/evanerwee/anaconda3/envs/graphrag-toolkit5/lib/python3.12/site-packages (from spacy==3.7.5->graphrag-toolkit-lexical-graph==3.5.2) (1.0.5)\r\n",
      "Requirement already satisfied: murmurhash<1.1.0,>=0.28.0 in /home/evanerwee/anaconda3/envs/graphrag-toolkit5/lib/python3.12/site-packages (from spacy==3.7.5->graphrag-toolkit-lexical-graph==3.5.2) (1.0.12)\r\n",
      "Requirement already satisfied: cymem<2.1.0,>=2.0.2 in /home/evanerwee/anaconda3/envs/graphrag-toolkit5/lib/python3.12/site-packages (from spacy==3.7.5->graphrag-toolkit-lexical-graph==3.5.2) (2.0.11)\r\n",
      "Requirement already satisfied: preshed<3.1.0,>=3.0.2 in /home/evanerwee/anaconda3/envs/graphrag-toolkit5/lib/python3.12/site-packages (from spacy==3.7.5->graphrag-toolkit-lexical-graph==3.5.2) (3.0.9)\r\n",
      "Requirement already satisfied: thinc<8.3.0,>=8.2.2 in /home/evanerwee/anaconda3/envs/graphrag-toolkit5/lib/python3.12/site-packages (from spacy==3.7.5->graphrag-toolkit-lexical-graph==3.5.2) (8.2.5)\r\n",
      "Requirement already satisfied: wasabi<1.2.0,>=0.9.1 in /home/evanerwee/anaconda3/envs/graphrag-toolkit5/lib/python3.12/site-packages (from spacy==3.7.5->graphrag-toolkit-lexical-graph==3.5.2) (1.1.3)\r\n",
      "Requirement already satisfied: srsly<3.0.0,>=2.4.3 in /home/evanerwee/anaconda3/envs/graphrag-toolkit5/lib/python3.12/site-packages (from spacy==3.7.5->graphrag-toolkit-lexical-graph==3.5.2) (2.5.1)\r\n",
      "Requirement already satisfied: catalogue<2.1.0,>=2.0.6 in /home/evanerwee/anaconda3/envs/graphrag-toolkit5/lib/python3.12/site-packages (from spacy==3.7.5->graphrag-toolkit-lexical-graph==3.5.2) (2.0.10)\r\n",
      "Requirement already satisfied: weasel<0.5.0,>=0.1.0 in /home/evanerwee/anaconda3/envs/graphrag-toolkit5/lib/python3.12/site-packages (from spacy==3.7.5->graphrag-toolkit-lexical-graph==3.5.2) (0.4.1)\r\n",
      "Requirement already satisfied: typer<1.0.0,>=0.3.0 in /home/evanerwee/anaconda3/envs/graphrag-toolkit5/lib/python3.12/site-packages (from spacy==3.7.5->graphrag-toolkit-lexical-graph==3.5.2) (0.15.3)\r\n",
      "Requirement already satisfied: jinja2 in /home/evanerwee/anaconda3/envs/graphrag-toolkit5/lib/python3.12/site-packages (from spacy==3.7.5->graphrag-toolkit-lexical-graph==3.5.2) (3.1.6)\r\n",
      "Requirement already satisfied: setuptools in /home/evanerwee/anaconda3/envs/graphrag-toolkit5/lib/python3.12/site-packages (from spacy==3.7.5->graphrag-toolkit-lexical-graph==3.5.2) (78.1.1)\r\n",
      "Requirement already satisfied: packaging>=20.0 in /home/evanerwee/anaconda3/envs/graphrag-toolkit5/lib/python3.12/site-packages (from spacy==3.7.5->graphrag-toolkit-lexical-graph==3.5.2) (24.2)\r\n",
      "Requirement already satisfied: langcodes<4.0.0,>=3.2.0 in /home/evanerwee/anaconda3/envs/graphrag-toolkit5/lib/python3.12/site-packages (from spacy==3.7.5->graphrag-toolkit-lexical-graph==3.5.2) (3.5.0)\r\n",
      "Requirement already satisfied: scikit-learn in /home/evanerwee/anaconda3/envs/graphrag-toolkit5/lib/python3.12/site-packages (from tfidf_matcher==0.3.0->graphrag-toolkit-lexical-graph==3.5.2) (1.6.1)\r\n",
      "Requirement already satisfied: pandas in /home/evanerwee/anaconda3/envs/graphrag-toolkit5/lib/python3.12/site-packages (from tfidf_matcher==0.3.0->graphrag-toolkit-lexical-graph==3.5.2) (2.2.3)\r\n",
      "Requirement already satisfied: aiobotocore==2.18.0 in /home/evanerwee/anaconda3/envs/graphrag-toolkit5/lib/python3.12/site-packages (from aiobotocore[boto3]==2.18.0->aioboto3<14.0.0,>=13.1.1->llama-index-embeddings-bedrock==0.5.0->graphrag-toolkit-lexical-graph==3.5.2) (2.18.0)\r\n",
      "Requirement already satisfied: aiofiles>=23.2.1 in /home/evanerwee/anaconda3/envs/graphrag-toolkit5/lib/python3.12/site-packages (from aioboto3<14.0.0,>=13.1.1->llama-index-embeddings-bedrock==0.5.0->graphrag-toolkit-lexical-graph==3.5.2) (24.1.0)\r\n",
      "Requirement already satisfied: aioitertools<1.0.0,>=0.5.1 in /home/evanerwee/anaconda3/envs/graphrag-toolkit5/lib/python3.12/site-packages (from aiobotocore==2.18.0->aiobotocore[boto3]==2.18.0->aioboto3<14.0.0,>=13.1.1->llama-index-embeddings-bedrock==0.5.0->graphrag-toolkit-lexical-graph==3.5.2) (0.12.0)\r\n",
      "Requirement already satisfied: python-dateutil<3.0.0,>=2.1 in /home/evanerwee/anaconda3/envs/graphrag-toolkit5/lib/python3.12/site-packages (from aiobotocore==2.18.0->aiobotocore[boto3]==2.18.0->aioboto3<14.0.0,>=13.1.1->llama-index-embeddings-bedrock==0.5.0->graphrag-toolkit-lexical-graph==3.5.2) (2.9.0.post0)\r\n",
      "Requirement already satisfied: jmespath<2.0.0,>=0.7.1 in /home/evanerwee/anaconda3/envs/graphrag-toolkit5/lib/python3.12/site-packages (from aiobotocore==2.18.0->aiobotocore[boto3]==2.18.0->aioboto3<14.0.0,>=13.1.1->llama-index-embeddings-bedrock==0.5.0->graphrag-toolkit-lexical-graph==3.5.2) (1.0.1)\r\n",
      "Requirement already satisfied: multidict<7.0.0,>=6.0.0 in /home/evanerwee/anaconda3/envs/graphrag-toolkit5/lib/python3.12/site-packages (from aiobotocore==2.18.0->aiobotocore[boto3]==2.18.0->aioboto3<14.0.0,>=13.1.1->llama-index-embeddings-bedrock==0.5.0->graphrag-toolkit-lexical-graph==3.5.2) (6.4.3)\r\n",
      "Requirement already satisfied: aiohappyeyeballs>=2.3.0 in /home/evanerwee/anaconda3/envs/graphrag-toolkit5/lib/python3.12/site-packages (from aiohttp<4.0.0,>=3.8.6->llama-index-core==0.12.26->graphrag-toolkit-lexical-graph==3.5.2) (2.6.1)\r\n",
      "Requirement already satisfied: aiosignal>=1.1.2 in /home/evanerwee/anaconda3/envs/graphrag-toolkit5/lib/python3.12/site-packages (from aiohttp<4.0.0,>=3.8.6->llama-index-core==0.12.26->graphrag-toolkit-lexical-graph==3.5.2) (1.3.2)\r\n",
      "Requirement already satisfied: attrs>=17.3.0 in /home/evanerwee/anaconda3/envs/graphrag-toolkit5/lib/python3.12/site-packages (from aiohttp<4.0.0,>=3.8.6->llama-index-core==0.12.26->graphrag-toolkit-lexical-graph==3.5.2) (24.3.0)\r\n",
      "Requirement already satisfied: frozenlist>=1.1.1 in /home/evanerwee/anaconda3/envs/graphrag-toolkit5/lib/python3.12/site-packages (from aiohttp<4.0.0,>=3.8.6->llama-index-core==0.12.26->graphrag-toolkit-lexical-graph==3.5.2) (1.6.0)\r\n",
      "Requirement already satisfied: propcache>=0.2.0 in /home/evanerwee/anaconda3/envs/graphrag-toolkit5/lib/python3.12/site-packages (from aiohttp<4.0.0,>=3.8.6->llama-index-core==0.12.26->graphrag-toolkit-lexical-graph==3.5.2) (0.3.1)\r\n",
      "Requirement already satisfied: yarl<2.0,>=1.17.0 in /home/evanerwee/anaconda3/envs/graphrag-toolkit5/lib/python3.12/site-packages (from aiohttp<4.0.0,>=3.8.6->llama-index-core==0.12.26->graphrag-toolkit-lexical-graph==3.5.2) (1.20.0)\r\n",
      "Requirement already satisfied: idna>=2.8 in /home/evanerwee/anaconda3/envs/graphrag-toolkit5/lib/python3.12/site-packages (from anyio<5,>=3.5.0->anthropic-bedrock==0.8.0->graphrag-toolkit-lexical-graph==3.5.2) (3.7)\r\n",
      "Requirement already satisfied: griffe in /home/evanerwee/anaconda3/envs/graphrag-toolkit5/lib/python3.12/site-packages (from banks<3.0.0,>=2.0.0->llama-index-core==0.12.26->graphrag-toolkit-lexical-graph==3.5.2) (1.7.3)\r\n",
      "Requirement already satisfied: platformdirs in /home/evanerwee/anaconda3/envs/graphrag-toolkit5/lib/python3.12/site-packages (from banks<3.0.0,>=2.0.0->llama-index-core==0.12.26->graphrag-toolkit-lexical-graph==3.5.2) (4.3.7)\r\n",
      "Requirement already satisfied: s3transfer<0.12.0,>=0.11.0 in /home/evanerwee/anaconda3/envs/graphrag-toolkit5/lib/python3.12/site-packages (from boto3>=1.36.1->graphrag-toolkit-lexical-graph==3.5.2) (0.11.3)\r\n",
      "Requirement already satisfied: certifi in /home/evanerwee/anaconda3/envs/graphrag-toolkit5/lib/python3.12/site-packages (from httpx<1,>=0.23.0->anthropic-bedrock==0.8.0->graphrag-toolkit-lexical-graph==3.5.2) (2025.4.26)\r\n",
      "Requirement already satisfied: httpcore==1.* in /home/evanerwee/anaconda3/envs/graphrag-toolkit5/lib/python3.12/site-packages (from httpx<1,>=0.23.0->anthropic-bedrock==0.8.0->graphrag-toolkit-lexical-graph==3.5.2) (1.0.2)\r\n",
      "Requirement already satisfied: h11<0.15,>=0.13 in /home/evanerwee/anaconda3/envs/graphrag-toolkit5/lib/python3.12/site-packages (from httpcore==1.*->httpx<1,>=0.23.0->anthropic-bedrock==0.8.0->graphrag-toolkit-lexical-graph==3.5.2) (0.14.0)\r\n",
      "Requirement already satisfied: language-data>=1.2 in /home/evanerwee/anaconda3/envs/graphrag-toolkit5/lib/python3.12/site-packages (from langcodes<4.0.0,>=3.2.0->spacy==3.7.5->graphrag-toolkit-lexical-graph==3.5.2) (1.3.0)\r\n",
      "Requirement already satisfied: annotated-types>=0.6.0 in /home/evanerwee/anaconda3/envs/graphrag-toolkit5/lib/python3.12/site-packages (from pydantic<3,>=1.9.0->anthropic-bedrock==0.8.0->graphrag-toolkit-lexical-graph==3.5.2) (0.7.0)\r\n",
      "Requirement already satisfied: pydantic-core==2.33.2 in /home/evanerwee/anaconda3/envs/graphrag-toolkit5/lib/python3.12/site-packages (from pydantic<3,>=1.9.0->anthropic-bedrock==0.8.0->graphrag-toolkit-lexical-graph==3.5.2) (2.33.2)\r\n",
      "Requirement already satisfied: typing-inspection>=0.4.0 in /home/evanerwee/anaconda3/envs/graphrag-toolkit5/lib/python3.12/site-packages (from pydantic<3,>=1.9.0->anthropic-bedrock==0.8.0->graphrag-toolkit-lexical-graph==3.5.2) (0.4.0)\r\n",
      "Requirement already satisfied: six>=1.5 in /home/evanerwee/anaconda3/envs/graphrag-toolkit5/lib/python3.12/site-packages (from python-dateutil<3.0.0,>=2.1->aiobotocore==2.18.0->aiobotocore[boto3]==2.18.0->aioboto3<14.0.0,>=13.1.1->llama-index-embeddings-bedrock==0.5.0->graphrag-toolkit-lexical-graph==3.5.2) (1.17.0)\r\n",
      "Requirement already satisfied: charset-normalizer<4,>=2 in /home/evanerwee/anaconda3/envs/graphrag-toolkit5/lib/python3.12/site-packages (from requests>=2.31.0->llama-index-core==0.12.26->graphrag-toolkit-lexical-graph==3.5.2) (3.3.2)\r\n",
      "Requirement already satisfied: blis<0.8.0,>=0.7.8 in /home/evanerwee/anaconda3/envs/graphrag-toolkit5/lib/python3.12/site-packages (from thinc<8.3.0,>=8.2.2->spacy==3.7.5->graphrag-toolkit-lexical-graph==3.5.2) (0.7.11)\r\n",
      "Requirement already satisfied: confection<1.0.0,>=0.0.1 in /home/evanerwee/anaconda3/envs/graphrag-toolkit5/lib/python3.12/site-packages (from thinc<8.3.0,>=8.2.2->spacy==3.7.5->graphrag-toolkit-lexical-graph==3.5.2) (0.1.5)\r\n",
      "Requirement already satisfied: click>=8.0.0 in /home/evanerwee/anaconda3/envs/graphrag-toolkit5/lib/python3.12/site-packages (from typer<1.0.0,>=0.3.0->spacy==3.7.5->graphrag-toolkit-lexical-graph==3.5.2) (8.1.8)\r\n",
      "Requirement already satisfied: shellingham>=1.3.0 in /home/evanerwee/anaconda3/envs/graphrag-toolkit5/lib/python3.12/site-packages (from typer<1.0.0,>=0.3.0->spacy==3.7.5->graphrag-toolkit-lexical-graph==3.5.2) (1.5.4)\r\n",
      "Requirement already satisfied: rich>=10.11.0 in /home/evanerwee/anaconda3/envs/graphrag-toolkit5/lib/python3.12/site-packages (from typer<1.0.0,>=0.3.0->spacy==3.7.5->graphrag-toolkit-lexical-graph==3.5.2) (14.0.0)\r\n",
      "Requirement already satisfied: cloudpathlib<1.0.0,>=0.7.0 in /home/evanerwee/anaconda3/envs/graphrag-toolkit5/lib/python3.12/site-packages (from weasel<0.5.0,>=0.1.0->spacy==3.7.5->graphrag-toolkit-lexical-graph==3.5.2) (0.21.0)\r\n",
      "Requirement already satisfied: jiter<1,>=0.4.0 in /home/evanerwee/anaconda3/envs/graphrag-toolkit5/lib/python3.12/site-packages (from anthropic>=0.49.0->anthropic[bedrock,vertex]>=0.49.0->llama-index-llms-anthropic==0.6.10->graphrag-toolkit-lexical-graph==3.5.2) (0.9.0)\r\n",
      "Requirement already satisfied: google-auth<3,>=2 in /home/evanerwee/anaconda3/envs/graphrag-toolkit5/lib/python3.12/site-packages (from google-auth[requests]<3,>=2; extra == \"vertex\"->anthropic[bedrock,vertex]>=0.49.0->llama-index-llms-anthropic==0.6.10->graphrag-toolkit-lexical-graph==3.5.2) (2.40.0)\r\n",
      "Requirement already satisfied: cachetools<6.0,>=2.0.0 in /home/evanerwee/anaconda3/envs/graphrag-toolkit5/lib/python3.12/site-packages (from google-auth<3,>=2->google-auth[requests]<3,>=2; extra == \"vertex\"->anthropic[bedrock,vertex]>=0.49.0->llama-index-llms-anthropic==0.6.10->graphrag-toolkit-lexical-graph==3.5.2) (5.5.2)\r\n",
      "Requirement already satisfied: pyasn1-modules>=0.2.1 in /home/evanerwee/anaconda3/envs/graphrag-toolkit5/lib/python3.12/site-packages (from google-auth<3,>=2->google-auth[requests]<3,>=2; extra == \"vertex\"->anthropic[bedrock,vertex]>=0.49.0->llama-index-llms-anthropic==0.6.10->graphrag-toolkit-lexical-graph==3.5.2) (0.4.2)\r\n",
      "Requirement already satisfied: rsa<5,>=3.1.4 in /home/evanerwee/anaconda3/envs/graphrag-toolkit5/lib/python3.12/site-packages (from google-auth<3,>=2->google-auth[requests]<3,>=2; extra == \"vertex\"->anthropic[bedrock,vertex]>=0.49.0->llama-index-llms-anthropic==0.6.10->graphrag-toolkit-lexical-graph==3.5.2) (4.9.1)\r\n",
      "Requirement already satisfied: pyasn1>=0.1.3 in /home/evanerwee/anaconda3/envs/graphrag-toolkit5/lib/python3.12/site-packages (from rsa<5,>=3.1.4->google-auth<3,>=2->google-auth[requests]<3,>=2; extra == \"vertex\"->anthropic[bedrock,vertex]>=0.49.0->llama-index-llms-anthropic==0.6.10->graphrag-toolkit-lexical-graph==3.5.2) (0.6.1)\r\n",
      "Requirement already satisfied: marisa-trie>=1.1.0 in /home/evanerwee/anaconda3/envs/graphrag-toolkit5/lib/python3.12/site-packages (from language-data>=1.2->langcodes<4.0.0,>=3.2.0->spacy==3.7.5->graphrag-toolkit-lexical-graph==3.5.2) (1.2.1)\r\n",
      "Requirement already satisfied: joblib in /home/evanerwee/anaconda3/envs/graphrag-toolkit5/lib/python3.12/site-packages (from nltk>3.8.1->llama-index-core==0.12.26->graphrag-toolkit-lexical-graph==3.5.2) (1.5.0)\r\n",
      "Requirement already satisfied: regex>=2021.8.3 in /home/evanerwee/anaconda3/envs/graphrag-toolkit5/lib/python3.12/site-packages (from nltk>3.8.1->llama-index-core==0.12.26->graphrag-toolkit-lexical-graph==3.5.2) (2024.11.6)\r\n",
      "Requirement already satisfied: markdown-it-py>=2.2.0 in /home/evanerwee/anaconda3/envs/graphrag-toolkit5/lib/python3.12/site-packages (from rich>=10.11.0->typer<1.0.0,>=0.3.0->spacy==3.7.5->graphrag-toolkit-lexical-graph==3.5.2) (3.0.0)\r\n",
      "Requirement already satisfied: pygments<3.0.0,>=2.13.0 in /home/evanerwee/anaconda3/envs/graphrag-toolkit5/lib/python3.12/site-packages (from rich>=10.11.0->typer<1.0.0,>=0.3.0->spacy==3.7.5->graphrag-toolkit-lexical-graph==3.5.2) (2.19.1)\r\n",
      "Requirement already satisfied: mdurl~=0.1 in /home/evanerwee/anaconda3/envs/graphrag-toolkit5/lib/python3.12/site-packages (from markdown-it-py>=2.2.0->rich>=10.11.0->typer<1.0.0,>=0.3.0->spacy==3.7.5->graphrag-toolkit-lexical-graph==3.5.2) (0.1.2)\r\n",
      "Requirement already satisfied: greenlet>=1 in /home/evanerwee/anaconda3/envs/graphrag-toolkit5/lib/python3.12/site-packages (from SQLAlchemy>=1.4.49->SQLAlchemy[asyncio]>=1.4.49->llama-index-core==0.12.26->graphrag-toolkit-lexical-graph==3.5.2) (3.2.1)\r\n",
      "Requirement already satisfied: huggingface-hub<1.0,>=0.16.4 in /home/evanerwee/anaconda3/envs/graphrag-toolkit5/lib/python3.12/site-packages (from tokenizers>=0.13.0->anthropic-bedrock==0.8.0->graphrag-toolkit-lexical-graph==3.5.2) (0.30.2)\r\n",
      "Requirement already satisfied: filelock in /home/evanerwee/anaconda3/envs/graphrag-toolkit5/lib/python3.12/site-packages (from huggingface-hub<1.0,>=0.16.4->tokenizers>=0.13.0->anthropic-bedrock==0.8.0->graphrag-toolkit-lexical-graph==3.5.2) (3.18.0)\r\n",
      "Requirement already satisfied: mypy-extensions>=0.3.0 in /home/evanerwee/anaconda3/envs/graphrag-toolkit5/lib/python3.12/site-packages (from typing-inspect>=0.8.0->llama-index-core==0.12.26->graphrag-toolkit-lexical-graph==3.5.2) (1.1.0)\r\n",
      "Requirement already satisfied: marshmallow<4.0.0,>=3.18.0 in /home/evanerwee/anaconda3/envs/graphrag-toolkit5/lib/python3.12/site-packages (from dataclasses-json->llama-index-core==0.12.26->graphrag-toolkit-lexical-graph==3.5.2) (3.26.1)\r\n",
      "Requirement already satisfied: colorama>=0.4 in /home/evanerwee/anaconda3/envs/graphrag-toolkit5/lib/python3.12/site-packages (from griffe->banks<3.0.0,>=2.0.0->llama-index-core==0.12.26->graphrag-toolkit-lexical-graph==3.5.2) (0.4.6)\r\n",
      "Requirement already satisfied: MarkupSafe>=2.0 in /home/evanerwee/anaconda3/envs/graphrag-toolkit5/lib/python3.12/site-packages (from jinja2->spacy==3.7.5->graphrag-toolkit-lexical-graph==3.5.2) (3.0.2)\r\n",
      "Requirement already satisfied: pytz>=2020.1 in /home/evanerwee/anaconda3/envs/graphrag-toolkit5/lib/python3.12/site-packages (from pandas->tfidf_matcher==0.3.0->graphrag-toolkit-lexical-graph==3.5.2) (2025.2)\r\n",
      "Requirement already satisfied: tzdata>=2022.7 in /home/evanerwee/anaconda3/envs/graphrag-toolkit5/lib/python3.12/site-packages (from pandas->tfidf_matcher==0.3.0->graphrag-toolkit-lexical-graph==3.5.2) (2025.2)\r\n",
      "Requirement already satisfied: scipy>=1.6.0 in /home/evanerwee/anaconda3/envs/graphrag-toolkit5/lib/python3.12/site-packages (from scikit-learn->tfidf_matcher==0.3.0->graphrag-toolkit-lexical-graph==3.5.2) (1.15.2)\r\n",
      "Requirement already satisfied: threadpoolctl>=3.1.0 in /home/evanerwee/anaconda3/envs/graphrag-toolkit5/lib/python3.12/site-packages (from scikit-learn->tfidf_matcher==0.3.0->graphrag-toolkit-lexical-graph==3.5.2) (3.6.0)\r\n"
     ]
    }
   ],
   "execution_count": 9
  },
  {
   "metadata": {
    "ExecuteTime": {
     "end_time": "2025-05-06T15:03:13.734907Z",
     "start_time": "2025-05-06T15:03:12.223512Z"
    }
   },
   "cell_type": "code",
   "source": "!pip install https://github.com/awslabs/graphrag-toolkit/archive/refs/tags/v3.5.2.zip#subdirectory=lexical-graph-contrib/falkordb",
   "id": "d2aab3c4d991059",
   "outputs": [
    {
     "name": "stdout",
     "output_type": "stream",
     "text": [
      "Collecting https://github.com/awslabs/graphrag-toolkit/archive/refs/tags/v3.5.2.zip#subdirectory=lexical-graph-contrib/falkordb\r\n",
      "  Using cached https://github.com/awslabs/graphrag-toolkit/archive/refs/tags/v3.5.2.zip\r\n",
      "  Installing build dependencies ... \u001B[?25ldone\r\n",
      "\u001B[?25h  Getting requirements to build wheel ... \u001B[?25ldone\r\n",
      "\u001B[?25h  Preparing metadata (pyproject.toml) ... \u001B[?25ldone\r\n",
      "\u001B[?25hRequirement already satisfied: FalkorDB in /home/evanerwee/anaconda3/envs/graphrag-toolkit5/lib/python3.12/site-packages (from graphrag-toolkit-lexical-graph-falkordb==1.0.1) (1.1.1)\r\n",
      "Requirement already satisfied: redis in /home/evanerwee/anaconda3/envs/graphrag-toolkit5/lib/python3.12/site-packages (from graphrag-toolkit-lexical-graph-falkordb==1.0.1) (5.3.0)\r\n",
      "Requirement already satisfied: PyJWT~=2.9.0 in /home/evanerwee/anaconda3/envs/graphrag-toolkit5/lib/python3.12/site-packages (from redis->graphrag-toolkit-lexical-graph-falkordb==1.0.1) (2.9.0)\r\n"
     ]
    }
   ],
   "execution_count": 10
  },
  {
   "cell_type": "markdown",
   "id": "d0c4cfb7",
   "metadata": {},
   "source": [
    "## Vector Store"
   ]
  },
  {
   "cell_type": "markdown",
   "id": "82508322",
   "metadata": {},
   "source": [
    "### Amazon OpenSearch Serverless\n",
    "\n",
    "If you are using Amazon OpenSearch Serverless as a vector store, install the following dependencies:"
   ]
  },
  {
   "cell_type": "code",
   "id": "48697a86",
   "metadata": {},
   "source": [
    "!pip install opensearch-py llama-index-vector-stores-opensearch"
   ],
   "outputs": [],
   "execution_count": null
  },
  {
   "cell_type": "markdown",
   "id": "7d043070",
   "metadata": {},
   "source": [
    "### Postgres with pgvector\n",
    "\n",
    "If you are using a Postgres database with the pgvector extension as a vector store, install the following dependencies:"
   ]
  },
  {
   "cell_type": "code",
   "id": "cb0cd0a5",
   "metadata": {},
   "source": [
    "!pip install psycopg2-binary pgvector"
   ],
   "outputs": [],
   "execution_count": null
  },
  {
   "cell_type": "markdown",
   "id": "d2a8c967",
   "metadata": {},
   "source": [
    "## Additional dependencies"
   ]
  },
  {
   "cell_type": "markdown",
   "id": "a49587ec",
   "metadata": {},
   "source": [
    "### LlamaIndex"
   ]
  },
  {
   "cell_type": "markdown",
   "id": "402f329a",
   "metadata": {},
   "source": [
    "Install any necessary LlamaIndex reader depedencies. For the examples in these notebooks, you'll need the Web readers:"
   ]
  },
  {
   "cell_type": "code",
   "id": "f439752b",
   "metadata": {},
   "source": [
    "!pip install llama-index-readers-web"
   ],
   "outputs": [],
   "execution_count": null
  },
  {
   "cell_type": "markdown",
   "id": "5a46d96e",
   "metadata": {},
   "source": [
    "### Rerankers"
   ]
  },
  {
   "cell_type": "markdown",
   "id": "4cb92c81",
   "metadata": {},
   "source": [
    "If you intend to use the `SentenceReranker` with the `TraversalBasedRetriever` (see the details [here](https://github.com/awslabs/graphrag-toolkit/blob/main/docs/lexical-graph/querying.md#statement-reranking)), install the following dependencies: "
   ]
  },
  {
   "cell_type": "code",
   "id": "a704c21d",
   "metadata": {},
   "source": [
    "!pip install torch sentence_transformers"
   ],
   "outputs": [],
   "execution_count": null
  },
  {
   "cell_type": "markdown",
   "id": "8e89630b",
   "metadata": {},
   "source": [
    "If you intend to use the `BGEReranker` with a GPU machine (see the details [here](https://github.com/awslabs/graphrag-toolkit/blob/main/docs/lexical-graph/querying.md#semanticguidedretriever-with-a-reranking-beam-search)), install the following dependencies: "
   ]
  },
  {
   "cell_type": "code",
   "id": "67f7d824",
   "metadata": {},
   "source": [
    "!pip install torch FlagEmbedding"
   ],
   "outputs": [],
   "execution_count": null
  }
 ],
 "metadata": {
  "kernelspec": {
   "display_name": "Python 3",
   "language": "python",
   "name": "python3"
  },
  "language_info": {
   "codemirror_mode": {
    "name": "ipython",
    "version": 3
   },
   "file_extension": ".py",
   "mimetype": "text/x-python",
   "name": "python",
   "nbconvert_exporter": "python",
   "pygments_lexer": "ipython3",
   "version": "3.10.8"
  }
 },
 "nbformat": 4,
 "nbformat_minor": 5
}
