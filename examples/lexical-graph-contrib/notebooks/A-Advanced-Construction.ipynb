{
 "cells": [
  {
   "cell_type": "markdown",
   "id": "73c2a2f9",
   "metadata": {},
   "source": "# A - Advanced Construction"
  },
  {
   "cell_type": "markdown",
   "id": "4796b938",
   "metadata": {},
   "source": [
    "## Setup\n",
    "\n",
    "If you haven't already, install the toolkit and dependencies using the [Setup](./00-Setup.ipynb) notebook."
   ]
  },
  {
   "cell_type": "markdown",
   "id": "44e33c3e",
   "metadata": {},
   "source": [
    "## Extract and build pipelines\n",
    "\n",
    "See [Advanced graph construction](https://github.com/awslabs/graphrag-toolkit/blob/main/docs/lexical-graph/indexing.md#advanced-graph-construction)."
   ]
  },
  {
   "cell_type": "code",
   "id": "9c802bb2",
   "metadata": {
    "ExecuteTime": {
     "end_time": "2025-05-06T03:00:40.989925Z",
     "start_time": "2025-05-06T02:59:30.914047Z"
    }
   },
   "source": [
    "%reload_ext dotenv\n",
    "%dotenv\n",
    "\n",
    "import os\n",
    "\n",
    "from graphrag_toolkit.lexical_graph.storage import GraphStoreFactory\n",
    "from graphrag_toolkit.lexical_graph.storage import VectorStoreFactory\n",
    "from graphrag_toolkit.lexical_graph.indexing import sink\n",
    "from graphrag_toolkit.lexical_graph.indexing.constants import PROPOSITIONS_KEY, DEFAULT_ENTITY_CLASSIFICATIONS\n",
    "from graphrag_toolkit.lexical_graph.indexing.extract import LLMPropositionExtractor\n",
    "from graphrag_toolkit.lexical_graph.indexing.extract import TopicExtractor\n",
    "from graphrag_toolkit.lexical_graph.indexing.extract import GraphScopedValueStore\n",
    "from graphrag_toolkit.lexical_graph.indexing.extract import ScopedValueProvider, DEFAULT_SCOPE\n",
    "from graphrag_toolkit.lexical_graph.indexing.extract import ExtractionPipeline\n",
    "from graphrag_toolkit.lexical_graph.indexing.build import Checkpoint\n",
    "from graphrag_toolkit.lexical_graph.indexing.build import BuildPipeline\n",
    "from graphrag_toolkit.lexical_graph.indexing.build import VectorIndexing\n",
    "from graphrag_toolkit.lexical_graph.indexing.build import GraphConstruction\n",
    "from graphrag_toolkit.lexical_graph import LexicalGraphIndex, set_logging_config\n",
    "from graphrag_toolkit.lexical_graph.storage.graph.falkordb import FalkorDBGraphStoreFactory\n",
    "\n",
    "\n",
    "from llama_index.core.node_parser import SentenceSplitter\n",
    "from llama_index.readers.web import SimpleWebPageReader\n",
    "\n",
    "from graphrag_toolkit.lexical_graph.tenant_id import TenantId\n",
    "\n",
    "\n",
    "checkpoint = Checkpoint('advanced-construction-example', enabled=True)\n",
    "set_logging_config('INFO')\n",
    "tenant_id = TenantId(\"awsgraph1\")\n",
    "\n",
    "# Register the FalkorDB backend with the factory\n",
    "GraphStoreFactory.register(FalkorDBGraphStoreFactory)\n",
    "\n",
    "# Create graph and vector stores\n",
    "graph_store = GraphStoreFactory.for_graph_store(os.environ['GRAPH_STORE'])\n",
    "vector_store = VectorStoreFactory.for_vector_store(os.environ['VECTOR_STORE'])\n",
    "\n",
    "graph_index = LexicalGraphIndex(\n",
    "    graph_store,\n",
    "    vector_store,\n",
    "    tenant_id=tenant_id\n",
    ")\n",
    "\n",
    "# Create extraction pipeline components\n",
    "\n",
    "# 1. Chunking using SentenceSplitter\n",
    "splitter = SentenceSplitter(\n",
    "    chunk_size=350,\n",
    "    chunk_overlap=50\n",
    ")\n",
    "\n",
    "# 2. Proposition extraction\n",
    "proposition_extractor = LLMPropositionExtractor()\n",
    "\n",
    "# 3. Topic extraction\n",
    "entity_classification_provider = ScopedValueProvider(\n",
    "    label='EntityClassification',\n",
    "    scoped_value_store=GraphScopedValueStore(graph_store=graph_store),\n",
    "    initial_scoped_values = { DEFAULT_SCOPE: DEFAULT_ENTITY_CLASSIFICATIONS }\n",
    ")\n",
    "\n",
    "topic_extractor = TopicExtractor(\n",
    "    source_metadata_field=PROPOSITIONS_KEY, # Omit this line if not performing proposition extraction\n",
    "    entity_classification_provider=entity_classification_provider # Entity classifications saved to graph between LLM invocations\n",
    ")\n",
    "\n",
    "# Create extraction pipeline\n",
    "extraction_pipeline = ExtractionPipeline.create(\n",
    "    components=[\n",
    "        splitter, \n",
    "        proposition_extractor,\n",
    "        topic_extractor\n",
    "    ],\n",
    "    num_workers=2,\n",
    "    batch_size=4,\n",
    "    checkpoint=checkpoint,\n",
    "    show_progress=True,\n",
    "    tenant_id=tenant_id\n",
    ")\n",
    "\n",
    "# Create build pipeline components\n",
    "graph_construction = GraphConstruction.for_graph_store(graph_store)\n",
    "vector_indexing = VectorIndexing.for_vector_store(vector_store)\n",
    "        \n",
    "# Create build pipeline        \n",
    "build_pipeline = BuildPipeline.create(\n",
    "    components=[\n",
    "        graph_construction,\n",
    "        vector_indexing\n",
    "    ],\n",
    "    num_workers=2,\n",
    "    batch_size=10,\n",
    "    batch_writes_enabled=True,\n",
    "    checkpoint=checkpoint,\n",
    "    show_progress=True,\n",
    "    tenant_id=tenant_id\n",
    ")\n",
    "\n",
    "# Load source documents\n",
    "doc_urls = [\n",
    "    'https://docs.aws.amazon.com/neptune/latest/userguide/intro.html',\n",
    "    'https://docs.aws.amazon.com/neptune-analytics/latest/userguide/what-is-neptune-analytics.html',\n",
    "    'https://docs.aws.amazon.com/neptune-analytics/latest/userguide/neptune-analytics-features.html',\n",
    "    'https://docs.aws.amazon.com/neptune-analytics/latest/userguide/neptune-analytics-vs-neptune-database.html'\n",
    "]\n",
    "\n",
    "docs = SimpleWebPageReader(\n",
    "    html_to_text=True,\n",
    "    metadata_fn=lambda url:{'url': url}\n",
    ").load_data(doc_urls)\n",
    "\n",
    "# Run the build and exraction stages\n",
    "docs | extraction_pipeline | build_pipeline | sink\n",
    "\n",
    "print('Complete')"
   ],
   "outputs": [
    {
     "name": "stdout",
     "output_type": "stream",
     "text": [
      "2025-05-05 22:59:31:INFO:g.l.i.e.extraction_pipeline:Running extraction pipeline [batch_size: 4, num_workers: 2]\n"
     ]
    },
    {
     "name": "stderr",
     "output_type": "stream",
     "text": [
      "Extracting propositions [nodes: 4, num_workers: 4]: 100%|██████████| 4/4 [00:07<00:00,  1.91s/it]\n",
      "Extracting propositions [nodes: 7, num_workers: 4]: 100%|██████████| 7/7 [00:16<00:00,  2.37s/it]\n",
      "Extracting topics [nodes: 4, num_workers: 4]: 100%|██████████| 4/4 [00:18<00:00,  4.59s/it]\n",
      "Extracting topics [nodes: 7, num_workers: 4]: 100%|██████████| 7/7 [00:48<00:00,  6.86s/it]\n"
     ]
    },
    {
     "name": "stdout",
     "output_type": "stream",
     "text": [
      "2025-05-05 23:00:36:INFO:g.l.i.b.build_pipeline:Running build pipeline [batch_size: 10, num_workers: 2, job_sizes: [428, 174], batch_writes_enabled: True, batch_write_size: 25]\n"
     ]
    },
    {
     "name": "stderr",
     "output_type": "stream",
     "text": [
      "Building graph [batch_writes_enabled: True, batch_write_size: 25]: 100%|██████████| 174/174 [00:00<00:00, 49394.85it/s]\n",
      "Building graph [batch_writes_enabled: True, batch_write_size: 25]: 100%|██████████| 428/428 [00:00<00:00, 51539.21it/s]\n",
      "Building vector index [batch_writes_enabled: True, batch_write_size: 25]: 100%|██████████| 174/174 [00:00<00:00, 349692.81it/s]\n",
      "Building vector index [batch_writes_enabled: True, batch_write_size: 25]: 100%|██████████| 428/428 [00:00<00:00, 497274.82it/s]\n"
     ]
    },
    {
     "name": "stdout",
     "output_type": "stream",
     "text": [
      "Complete\n"
     ]
    }
   ],
   "execution_count": 22
  },
  {
   "cell_type": "code",
   "id": "5288cdd2",
   "metadata": {},
   "source": [
    "from graphrag_toolkit.lexical_graph import GraphRAGConfig\n",
    "print(f\"GraphRAGConfig: {GraphRAGConfig}\")"
   ],
   "outputs": [],
   "execution_count": null
  }
 ],
 "metadata": {
  "kernelspec": {
   "display_name": "Python 3",
   "language": "python",
   "name": "python3"
  },
  "language_info": {
   "codemirror_mode": {
    "name": "ipython",
    "version": 3
   },
   "file_extension": ".py",
   "mimetype": "text/x-python",
   "name": "python",
   "nbconvert_exporter": "python",
   "pygments_lexer": "ipython3",
   "version": "3.10.8"
  }
 },
 "nbformat": 4,
 "nbformat_minor": 5
}
