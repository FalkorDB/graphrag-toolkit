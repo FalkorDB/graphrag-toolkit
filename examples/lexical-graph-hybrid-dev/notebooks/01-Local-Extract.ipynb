{
 "cells": [
  {
   "cell_type": "markdown",
   "id": "434fea4e",
   "metadata": {},
   "source": [
    "# 02 - Separate Extract and Build"
   ]
  },
  {
   "cell_type": "markdown",
   "id": "a9fb5cff",
   "metadata": {},
   "source": [
    "## Setup\n",
    "\n",
    "If you haven't already, install the toolkit and dependencies using the [Setup](./00-Setup.ipynb) notebook."
   ]
  },
  {
   "cell_type": "markdown",
   "id": "3dfff49b",
   "metadata": {},
   "source": [
    "## Local extract to folder\n",
    "\n",
    "See [Run the extract and build stages separately](https://github.com/awslabs/graphrag-toolkit/blob/main/docs/lexical-graph/indexing.md#run-the-extract-and-build-stages-separately)"
   ]
  },
  {
   "cell_type": "code",
   "id": "79b6c7bd",
   "metadata": {},
   "source": [
    "%reload_ext dotenv\n",
    "%dotenv\n",
    "\n",
    "import os\n",
    "\n",
    "from graphrag_toolkit.lexical_graph.storage.graph.falkordb import FalkorDBGraphStoreFactory\n",
    "from graphrag_toolkit.lexical_graph import LexicalGraphIndex, set_logging_config\n",
    "from graphrag_toolkit.lexical_graph.storage import GraphStoreFactory\n",
    "from graphrag_toolkit.lexical_graph.storage import VectorStoreFactory\n",
    "from graphrag_toolkit.lexical_graph.indexing.load import FileBasedDocs\n",
    "from graphrag_toolkit.lexical_graph.indexing.build import Checkpoint\n",
    "\n",
    "from llama_index.readers.web import SimpleWebPageReader\n",
    "\n",
    "set_logging_config('INFO')\n",
    "\n",
    "# Register the FalkorDB backend with the factory\n",
    "GraphStoreFactory.register(FalkorDBGraphStoreFactory)\n",
    "\n",
    "extracted_docs = FileBasedDocs(\n",
    "    docs_directory='extracted'\n",
    ")\n",
    "\n",
    "checkpoint = Checkpoint('extraction-checkpoint')\n",
    "\n",
    "graph_store = GraphStoreFactory.for_graph_store(os.environ['GRAPH_STORE'])\n",
    "vector_store = VectorStoreFactory.for_vector_store(os.environ['VECTOR_STORE'])\n",
    "\n",
    "graph_index = LexicalGraphIndex(\n",
    "    graph_store, \n",
    "    vector_store\n",
    ")\n",
    "\n",
    "doc_urls = [\n",
    "    'https://docs.aws.amazon.com/neptune/latest/userguide/intro.html',\n",
    "    'https://docs.aws.amazon.com/neptune-analytics/latest/userguide/what-is-neptune-analytics.html',\n",
    "    'https://docs.aws.amazon.com/neptune-analytics/latest/userguide/neptune-analytics-features.html',\n",
    "    'https://docs.aws.amazon.com/neptune-analytics/latest/userguide/neptune-analytics-vs-neptune-database.html'\n",
    "]\n",
    "\n",
    "docs = SimpleWebPageReader(\n",
    "    html_to_text=True,\n",
    "    metadata_fn=lambda url:{'url': url}\n",
    ").load_data(doc_urls)\n",
    "\n",
    "graph_index.extract(docs, handler=extracted_docs, checkpoint=checkpoint, show_progress=True)\n",
    "\n",
    "collection_id = extracted_docs.collection_id\n",
    "\n",
    "print('Extraction complete')\n",
    "print(f'collection_id: {collection_id}')"
   ],
   "outputs": [],
   "execution_count": null
  },
  {
   "metadata": {},
   "cell_type": "markdown",
   "source": [
    "## Extraction to S3\n",
    "\n",
    "See [Run the extract and build stages separately](https://github.com/awslabs/graphrag-toolkit/blob/main/docs/lexical-graph/indexing.md#run-the-extract-and-build-stages-separately)"
   ],
   "id": "b5ed8c34f6f937fb"
  },
  {
   "metadata": {
    "ExecuteTime": {
     "end_time": "2025-05-09T16:57:44.411929Z",
     "start_time": "2025-05-09T16:57:19.566637Z"
    }
   },
   "cell_type": "code",
   "source": [
    "%reload_ext dotenv\n",
    "%dotenv\n",
    "\n",
    "import os\n",
    "\n",
    "from graphrag_toolkit.lexical_graph.storage.graph.falkordb import FalkorDBGraphStoreFactory\n",
    "from graphrag_toolkit.lexical_graph import LexicalGraphIndex, set_logging_config\n",
    "from graphrag_toolkit.lexical_graph.storage import GraphStoreFactory\n",
    "from graphrag_toolkit.lexical_graph.storage import VectorStoreFactory\n",
    "from graphrag_toolkit.lexical_graph.indexing.load import S3BasedDocs\n",
    "from graphrag_toolkit.lexical_graph.indexing.build import Checkpoint\n",
    "\n",
    "from llama_index.readers.web import SimpleWebPageReader\n",
    "\n",
    "set_logging_config('INFO')\n",
    "\n",
    "# Register the FalkorDB backend with the factory\n",
    "GraphStoreFactory.register(FalkorDBGraphStoreFactory)\n",
    "\n",
    "extracted_docs = S3BasedDocs(\n",
    "    region=os.environ['AWS_REGION'],\n",
    "    bucket_name=os.environ['S3_BUCKET_NAME'],\n",
    "    key_prefix='key_prefix',\n",
    "    collection_id='demo123'\n",
    ")\n",
    "\n",
    "checkpoint = Checkpoint('s3-extraction-checkpoint')\n",
    "\n",
    "graph_store = GraphStoreFactory.for_graph_store(os.environ['GRAPH_STORE'])\n",
    "vector_store = VectorStoreFactory.for_vector_store(os.environ['VECTOR_STORE'])\n",
    "\n",
    "graph_index = LexicalGraphIndex(\n",
    "    graph_store,\n",
    "    vector_store\n",
    ")\n",
    "\n",
    "doc_urls = [\n",
    "    'https://docs.aws.amazon.com/neptune/latest/userguide/intro.html',\n",
    "    'https://docs.aws.amazon.com/neptune-analytics/latest/userguide/what-is-neptune-analytics.html',\n",
    "    'https://docs.aws.amazon.com/neptune-analytics/latest/userguide/neptune-analytics-features.html',\n",
    "    'https://docs.aws.amazon.com/neptune-analytics/latest/userguide/neptune-analytics-vs-neptune-database.html'\n",
    "]\n",
    "\n",
    "docs = SimpleWebPageReader(\n",
    "    html_to_text=True,\n",
    "    metadata_fn=lambda url:{'url': url}\n",
    ").load_data(doc_urls)\n",
    "\n",
    "graph_index.extract(docs, handler=extracted_docs, checkpoint=checkpoint, show_progress=True)\n",
    "\n",
    "collection_id = extracted_docs.collection_id\n",
    "\n",
    "print('Extraction complete')\n",
    "print(f'collection_id: {collection_id}')"
   ],
   "id": "917e0345c606995f",
   "outputs": [
    {
     "name": "stdout",
     "output_type": "stream",
     "text": [
      "2025-05-09 12:57:20:INFO:g.l.i.e.extraction_pipeline:Running extraction pipeline [batch_size: 100, num_workers: 2]\n"
     ]
    },
    {
     "name": "stderr",
     "output_type": "stream",
     "text": [
      "Extracting propositions [nodes: 5, num_workers: 4]: 100%|██████████| 5/5 [00:04<00:00,  1.19it/s]s]\n",
      "Extracting propositions [nodes: 10, num_workers: 4]: 100%|██████████| 10/10 [00:06<00:00,  1.53it/s]\n",
      "Extracting topics [nodes: 5, num_workers: 4]: 100%|██████████| 5/5 [00:10<00:00,  2.16s/it]t]\n",
      "Extracting topics [nodes: 10, num_workers: 4]: 100%|██████████| 10/10 [00:14<00:00,  1.42s/it]\n"
     ]
    },
    {
     "name": "stdout",
     "output_type": "stream",
     "text": [
      "2025-05-09 12:57:44:INFO:g.l.i.b.build_pipeline:Running build pipeline [batch_size: 4, num_workers: 1, job_sizes: [492], batch_writes_enabled: True, batch_write_size: 25]\n",
      "Extraction complete\n",
      "collection_id: demo123\n"
     ]
    }
   ],
   "execution_count": 2
  },
  {
   "metadata": {},
   "cell_type": "markdown",
   "source": "## Using batch inference with the LexicalGraphIndex",
   "id": "87e80915f2101b04"
  },
  {
   "metadata": {},
   "cell_type": "markdown",
   "source": "Ensure you have reviewed batch-extraction.md. For permission creation please see setup-bedrock-batch.md in lexical-graph-hybrid-dev/aws folder.",
   "id": "6e19fc7db1fd8061"
  },
  {
   "metadata": {},
   "cell_type": "code",
   "source": "!pip install PyMuPDF llama-index[pdf]\n",
   "id": "7d15700657e7cd06",
   "outputs": [],
   "execution_count": null
  },
  {
   "metadata": {},
   "cell_type": "code",
   "source": [
    "%reload_ext dotenv\n",
    "%dotenv\n",
    "\n",
    "import os\n",
    "\n",
    "from graphrag_toolkit.lexical_graph import (\n",
    "    LexicalGraphIndex,\n",
    "    GraphRAGConfig,\n",
    "    IndexingConfig,\n",
    "    set_logging_config,\n",
    ")\n",
    "from graphrag_toolkit.lexical_graph.storage import (\n",
    "    GraphStoreFactory,\n",
    "    VectorStoreFactory,\n",
    ")\n",
    "from graphrag_toolkit.lexical_graph.storage.graph.falkordb import FalkorDBGraphStoreFactory\n",
    "from graphrag_toolkit.lexical_graph.indexing.extract import BatchConfig\n",
    "from graphrag_toolkit.lexical_graph.indexing.build import Checkpoint\n",
    "\n",
    "from llama_index.core import SimpleDirectoryReader\n",
    "from llama_index.readers.file import PyMuPDFReader\n",
    "\n",
    "def batch_extract_and_load():\n",
    "    set_logging_config(\"INFO\")\n",
    "\n",
    "    # Register FalkorDB backend\n",
    "    GraphStoreFactory.register(FalkorDBGraphStoreFactory)\n",
    "\n",
    "    # Set batch size\n",
    "    GraphRAGConfig.extraction_batch_size = int(os.environ.get(\"EXTRACTION_BATCH_SIZE\", 4))\n",
    "\n",
    "    # Configure batch S3 setup\n",
    "    batch_config = BatchConfig(\n",
    "        region=os.environ[\"AWS_REGION\"],\n",
    "        bucket_name=os.environ[\"S3_BATCH_BUCKET_NAME\"],\n",
    "        key_prefix=os.environ[\"BATCH_KEY_PREFIX_01\"],\n",
    "        role_arn=f'arn:aws:iam::{os.environ[\"AWS_ACCOUNT\"]}:role/{os.environ[\"BATCH_ROLE_NAME\"]}',\n",
    "\n",
    "    )\n",
    "\n",
    "    indexing_config = IndexingConfig(batch_config=batch_config)\n",
    "    checkpoint = Checkpoint(os.environ[\"BATCH_CHECKPOINT_01\"])\n",
    "\n",
    "    graph_store = GraphStoreFactory.for_graph_store(os.environ[\"GRAPH_STORE\"])\n",
    "    vector_store = VectorStoreFactory.for_vector_store(os.environ[\"VECTOR_STORE\"])\n",
    "\n",
    "    graph_index = LexicalGraphIndex(\n",
    "        graph_store,\n",
    "        vector_store,\n",
    "        indexing_config=indexing_config\n",
    "    )\n",
    "\n",
    "    # Use PyMuPDF for PDFs\n",
    "    file_extractor = {\n",
    "        \".pdf\": PyMuPDFReader()\n",
    "    }\n",
    "\n",
    "    reader = SimpleDirectoryReader(\n",
    "        input_dir=os.environ[\"BATCH_SOURCE_DIR\"],\n",
    "        file_extractor=file_extractor\n",
    "    )\n",
    "    docs = reader.load_data()\n",
    "\n",
    "    graph_index.extract(docs, checkpoint=checkpoint, show_progress=True)\n",
    "\n",
    "# Run the batch job\n",
    "batch_extract_and_load()\n"
   ],
   "id": "1354a15dc501953e",
   "outputs": [],
   "execution_count": null
  }
 ],
 "metadata": {
  "kernelspec": {
   "display_name": "Python 3",
   "language": "python",
   "name": "python3"
  },
  "language_info": {
   "codemirror_mode": {
    "name": "ipython",
    "version": 3
   },
   "file_extension": ".py",
   "mimetype": "text/x-python",
   "name": "python",
   "nbconvert_exporter": "python",
   "pygments_lexer": "ipython3",
   "version": "3.10.8"
  }
 },
 "nbformat": 4,
 "nbformat_minor": 5
}
