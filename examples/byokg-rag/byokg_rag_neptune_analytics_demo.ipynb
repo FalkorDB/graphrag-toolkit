{
 "cells": [
  {
   "cell_type": "markdown",
   "id": "2ad881f1",
   "metadata": {},
   "source": [
    "# BYOKG RAG Demo\n",
    "This notebook demonstrates a RAG (Retrieval Augmented Generation) system built on top of a Knowledge Graph. The system allows querying a knowledge graph using natural language questions and retrieving relevant information to generate answers.\n",
    "\n",
    "1. **Graph Store**: Neptune Analytics endpoint for the graph structure\n",
    "2. **KG Linker**: Links natural language queries to graph entities and paths\n",
    "3. **CypherKGLinker**: Maps natural language queries to cypher queries\n",
    "4. **Entity Linker**: Matches entities from text to graph nodes\n",
    "5. **Triplet Retriever**: Retrieves relevant triplets from the graph\n",
    "6. **Path Retriever**: Finds paths between entities in the graph\n",
    "7. **Query Engine**: Orchestrates all components to answer questions"
   ]
  },
  {
   "cell_type": "markdown",
   "id": "1f71f996",
   "metadata": {},
   "source": [
    "#### Setup\n",
    "If you haven't already, install the toolkit and dependencies in [README.md](../../byokg-rag/README.md).\n",
    "Let's validate if the package is correctly installed."
   ]
  },
  {
   "cell_type": "code",
   "execution_count": 1,
   "id": "fcbdac31-35e0-4cd3-9456-2d7ab58a172e",
   "metadata": {},
   "outputs": [],
   "source": [
    "# !pip install https://github.com/awslabs/graphrag-toolkit/archive/refs/tags/v3.8.1.zip#subdirectory=byokg-rag"
   ]
  },
  {
   "cell_type": "code",
   "execution_count": 2,
   "id": "aceff478",
   "metadata": {},
   "outputs": [],
   "source": [
    "from graphrag_toolkit.byokg_rag.graphstore import NeptuneAnalyticsGraphStore"
   ]
  },
  {
   "cell_type": "markdown",
   "id": "e8d4754e",
   "metadata": {},
   "source": [
    "### Graph Store\n",
    "The `NeptuneAnalyticsGraphStore` class provides an interface to work with the Neptune Analytics graph.\n",
    "If you already have a NeptuneAnalyticsGraphEndpoint you want to use, simply change the cell below to assign `graph_identifier` to your NeptuneAnalytics graph id. \n",
    "\n",
    "If you don't already have a Neptune Graph then you can create one by running the command below from an environment that has the AWS CLI configured with appropriate permissions. Please refer to documentation for more details about [creating a graph](https://docs.aws.amazon.com/neptune-analytics/latest/userguide/create-graph-using-console.html) and [loading data into the graph](https://docs.aws.amazon.com/neptune-analytics/latest/userguide/batch-load.html).\n",
    "\n",
    "```\n",
    "aws neptune-graph create-graph --graph-name 'edgar-byokg' --provisioned-memory 128 --public-connectivity --replica-count 0 --vector-search-configuration '{\"dimension\": 384}'\n",
    "```\n",
    "\n",
    "After running the command you should receive a response that includes the graph id. Change the cell below to assign  `graph_identifier` to the id.\n",
    "\n",
    "To run the rest of the notebook, you'll need to ensure that the environment has the right IAM permissions to interact with your neptune analytics graph endpoint. Specifically you will need `neptune-graph:ReadDataViaQuery` and `neptune-graph:GetGraph`. If you are also using the example dataset, you will need s3 IAM read permissions so that `graphstore.read_from_csv` can access data from `s3://aws-neptune-customer-samples-*/*`. If you're using your own dataset then you also need to provide write access so that `read_from_csv` can upload your csv file to an s3 location you specify where it will be ingested by Neptune Analytics.\n",
    "\n",
    "In the rest of the notebook, we\n",
    "1. Initialize the BYOKG graph store to use a Neptune Analytics Graph\n",
    "2. Optionally, load an example data from a CSV file for a new graph\n",
    "3. Get basic statistics about the graph and sample edges for a specific node\n",
    "4. Run the BYOKG retrieval functions and QueryEngine on a sample question"
   ]
  },
  {
   "cell_type": "code",
   "execution_count": 3,
   "id": "28739bdf",
   "metadata": {},
   "outputs": [],
   "source": [
    "region = \"us-east-1\" #replace with aws region\n",
    "graph_identifier = \"g-owod636z08\" # replace with graph id "
   ]
  },
  {
   "cell_type": "code",
   "execution_count": 4,
   "id": "bfae6b0c",
   "metadata": {},
   "outputs": [],
   "source": [
    "graph_store = NeptuneAnalyticsGraphStore(graph_identifier=graph_identifier,\n",
    "                                         region=region)"
   ]
  },
  {
   "cell_type": "markdown",
   "id": "902a8cd7",
   "metadata": {},
   "source": [
    "#### Loading Data\n",
    "\n",
    "If you ran the command to create a new graph, then uncomment the code cell below to load the new graph with some data. The data we are loading is a public dataset from the [SEC EDGAR system](https://www.sec.gov/search-filings) and contains information on stock holdings. \n",
    "\n",
    "See the [Neptune Analytics example notebook](https://github.com/aws/graph-notebook/blob/main/src/graph_notebook/notebooks/02-Neptune-Analytics/03-Sample-Use-Cases/02-Investment-Analysis/01-EDGAR-Competitor-Analysis-using-Knowledge-Graph-Graph-Algorithms-and-Vector-Search.ipynb) for more details"
   ]
  },
  {
   "cell_type": "code",
   "execution_count": 5,
   "id": "adbc29f1",
   "metadata": {},
   "outputs": [],
   "source": [
    "# graph_store.read_from_csv(s3_path=f\"s3://aws-neptune-customer-samples-{region}/sample-datasets/gremlin/edgar/\")"
   ]
  },
  {
   "cell_type": "code",
   "execution_count": 6,
   "id": "0ee946d1",
   "metadata": {},
   "outputs": [
    {
     "name": "stdout",
     "output_type": "stream",
     "text": [
      "The graph has 43072 nodes and 11335002 edges.\n"
     ]
    }
   ],
   "source": [
    "# Print graph statistics\n",
    "number_of_nodes = len(graph_store.nodes())\n",
    "number_of_edges = len(graph_store.edges())\n",
    "print(f\"The graph has {number_of_nodes} nodes and {number_of_edges} edges.\")"
   ]
  },
  {
   "cell_type": "code",
   "execution_count": 7,
   "id": "c3005cda",
   "metadata": {},
   "outputs": [
    {
     "name": "stdout",
     "output_type": "stream",
     "text": [
      "[\n",
      "    {\n",
      "        \"schema\": {\n",
      "            \"edgeLabelDetails\": {\n",
      "                \"owns\": {\n",
      "                    \"properties\": {\n",
      "                        \"value\": {\n",
      "                            \"datatypes\": [\n",
      "                                \"Float\"\n",
      "                            ]\n",
      "                        },\n",
      "                        \"quantity\": {\n",
      "                            \"datatypes\": [\n",
      "                                \"Float\"\n",
      "                            ]\n",
      "                        }\n",
      "                    }\n",
      "                },\n",
      "                \"has_holderquarter\": {\n",
      "                    \"properties\": {}\n",
      "                }\n",
      "            },\n",
      "            \"edgeLabels\": [\n",
      "                \"has_holderquarter\",\n",
      "                \"owns\"\n",
      "            ],\n",
      "            \"nodeLabels\": [\n",
      "                \"Holding\",\n",
      "                \"Holder\",\n",
      "                \"HolderQuarter\"\n",
      "            ],\n",
      "            \"labelTriples\": [\n",
      "                {\n",
      "                    \"~type\": \"has_holderquarter\",\n",
      "                    \"~from\": \"Holder\",\n",
      "                    \"~to\": \"HolderQuarter\"\n",
      "                },\n",
      "                {\n",
      "                    \"~type\": \"owns\",\n",
      "                    \"~from\": \"HolderQuarter\",\n",
      "                    \"~to\": \"Holding\"\n",
      "                }\n",
      "            ],\n",
      "            \"nodeLabelDetails\": {\n",
      "                \"Holder\": {\n",
      "                    \"properties\": {\n",
      "                        \"description\": {\n",
      "                            \"datatypes\": [\n",
      "                                \"String\"\n",
      "                            ]\n",
      "                        },\n",
      "                        \"name\": {\n",
      "                            \"datatypes\": [\n",
      "                                \"String\"\n",
      "                            ]\n",
      "                        }\n",
      "                    }\n",
      "                },\n",
      "                \"Holding\": {\n",
      "                    \"properties\": {\n",
      "                        \"type\": {\n",
      "                            \"datatypes\": [\n",
      "                                \"String\"\n",
      "                            ]\n",
      "                        },\n",
      "                        \"class\": {\n",
      "                            \"datatypes\": [\n",
      "                                \"String\"\n",
      "                            ]\n",
      "                        },\n",
      "                        \"name\": {\n",
      "                            \"datatypes\": [\n",
      "                                \"String\"\n",
      "                            ]\n",
      "                        }\n",
      "                    }\n",
      "                },\n",
      "                \"HolderQuarter\": {\n",
      "                    \"properties\": {\n",
      "                        \"name\": {\n",
      "                            \"datatypes\": [\n",
      "                                \"String\"\n",
      "                            ]\n",
      "                        }\n",
      "                    }\n",
      "                }\n",
      "            }\n",
      "        }\n",
      "    }\n",
      "]\n"
     ]
    }
   ],
   "source": [
    "# Print graph schema\n",
    "import json\n",
    "\n",
    "schema = graph_store.get_schema()\n",
    "print(json.dumps(schema, indent=4))"
   ]
  },
  {
   "cell_type": "markdown",
   "id": "1c18bc5f",
   "metadata": {},
   "source": [
    "In order to customize how we refer to nodes in the graph, we can tell the graphstore to assign a property as the text representation key for each node.\n",
    "\n",
    "\n",
    "To see the properties available for each node, you can run\n",
    "```\n",
    "print(schema[0][\"schema\"][\"nodeLabelDetails\"])\n",
    "```\n",
    "and select the right property\n",
    "\n",
    "\n",
    "Below we use the `name` property for the `Holder` nodes and for `Holding` nodes. We leave HoldingQuarter as the default `~id` property, by assigning it's representation as None to be able to uniquely identify each holding quarter with it's Holder. This is optional, you only need to pass in the node labels that you want to refer to using a particular property."
   ]
  },
  {
   "cell_type": "code",
   "execution_count": 8,
   "id": "515d7d66",
   "metadata": {},
   "outputs": [],
   "source": [
    "graph_store.assign_text_repr_prop_for_nodes(Holder='name', Holding='name', HoldingQuarter=None)"
   ]
  },
  {
   "cell_type": "markdown",
   "id": "8e37cc3d",
   "metadata": {},
   "source": [
    "Now we can get ask for some details of some nodes in the graph. For example, let's ask for the following nodes:\n",
    "\n",
    "* `\"Miracle Mile Advisors, LLC\"`\n",
    "* `\"Cranbrook Wealth Management, LLC\"`\n"
   ]
  },
  {
   "cell_type": "code",
   "execution_count": 9,
   "id": "b667223c",
   "metadata": {},
   "outputs": [
    {
     "name": "stdout",
     "output_type": "stream",
     "text": [
      "{\n",
      "    \"1599084\": {\n",
      "        \"description\": \"Cranbrook Wealth Management is a registered investment advisor devoted to providing customized investment solutions and comprehensive financial planning for individuals and families. With a flexible mandate anchored to clients\\u00d5 goals  Cranbrook constructs globally diversified portfolios optimized for tax efficiency. The firm provides holistic services including education planning and legacy strategies to reduce uncertainty. Cranbrook distinguishes itself through transparent fees  proactive communication  and a disciplined process designed to limit emotional investing. As an independent fiduciary  Cranbrook places client interests first to help secure financial futures with confidence.\",\n",
      "        \"name\": \"Cranbrook Wealth Management, LLC\"\n",
      "    },\n",
      "    \"1585859\": {\n",
      "        \"description\": \" Here is a 99-word description of Miracle Mile Advisors  LLC and their financial mandate:Miracle Mile Advisors is a registered investment advisory firm based in Los Angeles that provides customized wealth management solutions to high net worth individuals and families. Founded in 2011  Miracle Mile seeks to help clients achieve their financial goals through a holistic approach that integrates investment management  advanced planning  and relationship management. With over $2 billion in assets under management  Miracle Mile constructs personalized portfolios and financial plans tailored to each client's objectives  risk tolerance  and time horizon. Their mandate focuses on preserving and growing client capital through prudent asset allocation  manager due diligence  and risk management.\",\n",
      "        \"name\": \"Miracle Mile Advisors, LLC\"\n",
      "    }\n",
      "}\n"
     ]
    }
   ],
   "source": [
    "nodes_details = graph_store.get_nodes([\"Miracle Mile Advisors, LLC\", \"Cranbrook Wealth Management, LLC\"])\n",
    "print(json.dumps(nodes_details, indent=4))"
   ]
  },
  {
   "cell_type": "markdown",
   "id": "1e102279",
   "metadata": {},
   "source": [
    "We can also take a look the connections from `\"Miracle Mile Advisors, LLC\"`"
   ]
  },
  {
   "cell_type": "code",
   "execution_count": 10,
   "id": "bc50e944",
   "metadata": {},
   "outputs": [
    {
     "data": {
      "text/plain": [
       "{'Miracle Mile Advisors, LLC': {'has_holderquarter': {('Miracle Mile Advisors, LLC',\n",
       "    'has_holderquarter',\n",
       "    '20231025_1585859')}}}"
      ]
     },
     "execution_count": 10,
     "metadata": {},
     "output_type": "execute_result"
    }
   ],
   "source": [
    "graph_store.get_one_hop_edges([\"Miracle Mile Advisors, LLC\"])"
   ]
  },
  {
   "cell_type": "code",
   "execution_count": 11,
   "id": "b4f3663a",
   "metadata": {},
   "outputs": [
    {
     "data": {
      "text/plain": [
       "{'20231025_1585859': {'owns': {('20231025_1585859',\n",
       "    'owns',\n",
       "    '23ANDME HOLDING CO'),\n",
       "   ('20231025_1585859', 'owns', '3-D SYS CORP DEL'),\n",
       "   ('20231025_1585859', 'owns', '3M CO'),\n",
       "   ('20231025_1585859', 'owns', 'ABBOTT LABS'),\n",
       "   ('20231025_1585859', 'owns', 'ABBVIE INC'),\n",
       "   ('20231025_1585859', 'owns', 'ACCENTURE PLC IRELAND'),\n",
       "   ('20231025_1585859', 'owns', 'ACCOLADE INC'),\n",
       "   ('20231025_1585859', 'owns', 'ACTIVISION BLIZZARD INC'),\n",
       "   ('20231025_1585859', 'owns', 'ADC THERAPEUTICS SA'),\n",
       "   ('20231025_1585859', 'owns', 'ADOBE INC'),\n",
       "   ('20231025_1585859', 'owns', 'ADVANCED MICRO DEVICES INC'),\n",
       "   ('20231025_1585859', 'owns', 'AFLAC INC'),\n",
       "   ('20231025_1585859', 'owns', 'AIR PRODS & CHEMS INC'),\n",
       "   ('20231025_1585859', 'owns', 'AIRBNB INC'),\n",
       "   ('20231025_1585859', 'owns', 'AKERO THERAPEUTICS INC'),\n",
       "   ('20231025_1585859', 'owns', 'ALBERTSONS COS INC'),\n",
       "   ('20231025_1585859', 'owns', 'ALIBABA GROUP HLDG LTD'),\n",
       "   ('20231025_1585859', 'owns', 'ALLSTATE CORP'),\n",
       "   ('20231025_1585859', 'owns', 'ALPHABET INC'),\n",
       "   ('20231025_1585859', 'owns', 'ALTIMMUNE INC'),\n",
       "   ('20231025_1585859', 'owns', 'AMAZON COM INC'),\n",
       "   ('20231025_1585859', 'owns', 'AMEREN CORP'),\n",
       "   ('20231025_1585859', 'owns', 'AMERICAN TOWER CORP NEW'),\n",
       "   ('20231025_1585859', 'owns', 'AMERICAN WTR WKS CO INC NEW'),\n",
       "   ('20231025_1585859', 'owns', 'AMERIPRISE FINL INC'),\n",
       "   ('20231025_1585859', 'owns', 'AMETEK INC'),\n",
       "   ('20231025_1585859', 'owns', 'AMGEN INC'),\n",
       "   ('20231025_1585859', 'owns', 'ANALOG DEVICES INC'),\n",
       "   ('20231025_1585859', 'owns', 'ANAVEX LIFE SCIENCES CORP'),\n",
       "   ('20231025_1585859', 'owns', 'AON PLC'),\n",
       "   ('20231025_1585859', 'owns', 'APOLLO GLOBAL MGMT INC'),\n",
       "   ('20231025_1585859', 'owns', 'APPLE INC'),\n",
       "   ('20231025_1585859', 'owns', 'APPLIED MATLS INC'),\n",
       "   ('20231025_1585859', 'owns', 'ARES CAPITAL CORP'),\n",
       "   ('20231025_1585859', 'owns', 'ARES DYNAMIC CR ALLOCATION F'),\n",
       "   ('20231025_1585859', 'owns', 'ASTRAZENECA PLC'),\n",
       "   ('20231025_1585859', 'owns', 'AT&T INC'),\n",
       "   ('20231025_1585859', 'owns', 'AUTOMATIC DATA PROCESSING IN'),\n",
       "   ('20231025_1585859', 'owns', 'BAIDU INC'),\n",
       "   ('20231025_1585859', 'owns', 'BANK AMERICA CORP'),\n",
       "   ('20231025_1585859', 'owns', 'BECTON DICKINSON & CO'),\n",
       "   ('20231025_1585859', 'owns', 'BERKSHIRE HATHAWAY INC DEL'),\n",
       "   ('20231025_1585859', 'owns', 'BLACKROCK CALIF MUN INCOME T'),\n",
       "   ('20231025_1585859', 'owns', 'BLACKROCK INC'),\n",
       "   ('20231025_1585859', 'owns', 'BLACKSTONE INC'),\n",
       "   ('20231025_1585859', 'owns', 'BLINK CHARGING CO'),\n",
       "   ('20231025_1585859', 'owns', 'BLOCK INC'),\n",
       "   ('20231025_1585859', 'owns', 'BOEING CO'),\n",
       "   ('20231025_1585859', 'owns', 'BORGWARNER INC'),\n",
       "   ('20231025_1585859', 'owns', 'BOSTON SCIENTIFIC CORP'),\n",
       "   ('20231025_1585859', 'owns', 'BRINKS CO'),\n",
       "   ('20231025_1585859', 'owns', 'BRISTOL-MYERS SQUIBB CO'),\n",
       "   ('20231025_1585859', 'owns', 'BROADCOM INC'),\n",
       "   ('20231025_1585859', 'owns', 'BROWN FORMAN CORP'),\n",
       "   ('20231025_1585859', 'owns', 'BUCKLE INC'),\n",
       "   ('20231025_1585859', 'owns', 'BWX TECHNOLOGIES INC'),\n",
       "   ('20231025_1585859', 'owns', 'CAMECO CORP'),\n",
       "   ('20231025_1585859', 'owns', 'CARDINAL HEALTH INC'),\n",
       "   ('20231025_1585859', 'owns', 'CARRIER GLOBAL CORPORATION'),\n",
       "   ('20231025_1585859', 'owns', 'CATERPILLAR INC'),\n",
       "   ('20231025_1585859', 'owns', 'CELANESE CORP DEL'),\n",
       "   ('20231025_1585859', 'owns', 'CHEVRON CORP NEW'),\n",
       "   ('20231025_1585859', 'owns', 'CISCO SYS INC'),\n",
       "   ('20231025_1585859', 'owns', 'CITIGROUP INC'),\n",
       "   ('20231025_1585859', 'owns', 'CLEARWATER PAPER CORP'),\n",
       "   ('20231025_1585859', 'owns', 'CLOUDFLARE INC'),\n",
       "   ('20231025_1585859', 'owns', 'COCA COLA CO'),\n",
       "   ('20231025_1585859', 'owns', 'COLGATE PALMOLIVE CO'),\n",
       "   ('20231025_1585859', 'owns', 'COMCAST CORP NEW'),\n",
       "   ('20231025_1585859', 'owns', 'CONAGRA BRANDS INC'),\n",
       "   ('20231025_1585859', 'owns', 'CONCENTRIX CORP'),\n",
       "   ('20231025_1585859', 'owns', 'CONOCOPHILLIPS'),\n",
       "   ('20231025_1585859', 'owns', 'COPA HOLDINGS SA'),\n",
       "   ('20231025_1585859', 'owns', 'CORNING INC'),\n",
       "   ('20231025_1585859', 'owns', 'CORTEVA INC'),\n",
       "   ('20231025_1585859', 'owns', 'COSTCO WHSL CORP NEW'),\n",
       "   ('20231025_1585859', 'owns', 'CRISPR THERAPEUTICS AG'),\n",
       "   ('20231025_1585859', 'owns', 'CSG SYS INTL INC'),\n",
       "   ('20231025_1585859', 'owns', 'CSX CORP'),\n",
       "   ('20231025_1585859', 'owns', 'CVS HEALTH CORP'),\n",
       "   ('20231025_1585859', 'owns', 'CYMABAY THERAPEUTICS INC'),\n",
       "   ('20231025_1585859', 'owns', 'D R HORTON INC'),\n",
       "   ('20231025_1585859', 'owns', 'DBX ETF TR'),\n",
       "   ('20231025_1585859', 'owns', 'DEERE & CO'),\n",
       "   ('20231025_1585859', 'owns', 'DELL TECHNOLOGIES INC'),\n",
       "   ('20231025_1585859', 'owns', 'DIAMONDBACK ENERGY INC'),\n",
       "   ('20231025_1585859', 'owns', 'DIMENSIONAL ETF TRUST'),\n",
       "   ('20231025_1585859', 'owns', 'DISNEY WALT CO'),\n",
       "   ('20231025_1585859', 'owns', 'DOMINION ENERGY INC'),\n",
       "   ('20231025_1585859', 'owns', 'DOW INC'),\n",
       "   ('20231025_1585859', 'owns', 'DUPONT DE NEMOURS INC'),\n",
       "   ('20231025_1585859', 'owns', 'EBAY INC.'),\n",
       "   ('20231025_1585859', 'owns', 'ECOLAB INC'),\n",
       "   ('20231025_1585859', 'owns', 'EDWARDS LIFESCIENCES CORP'),\n",
       "   ('20231025_1585859', 'owns', 'ELANCO ANIMAL HEALTH INC'),\n",
       "   ('20231025_1585859', 'owns', 'ELEVANCE HEALTH INC'),\n",
       "   ('20231025_1585859', 'owns', 'ELI LILLY & CO'),\n",
       "   ('20231025_1585859', 'owns', 'EMERSON ELEC CO'),\n",
       "   ('20231025_1585859', 'owns', 'ENCOMPASS HEALTH CORP'),\n",
       "   ('20231025_1585859', 'owns', 'ENERGIZER HLDGS INC NEW'),\n",
       "   ('20231025_1585859', 'owns', 'ENPHASE ENERGY INC'),\n",
       "   ('20231025_1585859', 'owns', 'EOG RES INC'),\n",
       "   ('20231025_1585859', 'owns', 'EQUINIX INC'),\n",
       "   ('20231025_1585859', 'owns', 'ESSEX PPTY TR INC'),\n",
       "   ('20231025_1585859', 'owns', 'EXLSERVICE HOLDINGS INC'),\n",
       "   ('20231025_1585859', 'owns', 'EXXON MOBIL CORP'),\n",
       "   ('20231025_1585859', 'owns', 'FACTSET RESH SYS INC'),\n",
       "   ('20231025_1585859', 'owns', 'FEDEX CORP'),\n",
       "   ('20231025_1585859', 'owns', 'FERRARI N V'),\n",
       "   ('20231025_1585859', 'owns', 'FIDELITY COVINGTON TRUST'),\n",
       "   ('20231025_1585859', 'owns', 'FIRST MAJESTIC SILVER CORP'),\n",
       "   ('20231025_1585859', 'owns', 'FIRST TR EXCH TRADED FD III'),\n",
       "   ('20231025_1585859', 'owns', 'FIRST TR EXCHANGE TRAD FD VI'),\n",
       "   ('20231025_1585859', 'owns', 'FIRST TR EXCHANGE-TRADED FD'),\n",
       "   ('20231025_1585859', 'owns', 'FISERV INC'),\n",
       "   ('20231025_1585859', 'owns', 'FORD MTR CO DEL'),\n",
       "   ('20231025_1585859', 'owns', 'FORTUNA SILVER MINES INC'),\n",
       "   ('20231025_1585859', 'owns', 'FORWARD INDS INC N Y'),\n",
       "   ('20231025_1585859', 'owns', 'FULTON FINL CORP PA'),\n",
       "   ('20231025_1585859', 'owns', 'GEN DIGITAL INC'),\n",
       "   ('20231025_1585859', 'owns', 'GENERAL DYNAMICS CORP'),\n",
       "   ('20231025_1585859', 'owns', 'GENERAL ELECTRIC CO'),\n",
       "   ('20231025_1585859', 'owns', 'GILEAD SCIENCES INC'),\n",
       "   ('20231025_1585859', 'owns', 'GLOBAL X FDS'),\n",
       "   ('20231025_1585859', 'owns', 'GOLDMAN SACHS ETF TR'),\n",
       "   ('20231025_1585859', 'owns', 'GOLDMAN SACHS GROUP INC'),\n",
       "   ('20231025_1585859', 'owns', 'GSK PLC'),\n",
       "   ('20231025_1585859', 'owns', 'HESS CORP'),\n",
       "   ('20231025_1585859', 'owns', 'HOME DEPOT INC'),\n",
       "   ('20231025_1585859', 'owns', 'HONEYWELL INTL INC'),\n",
       "   ('20231025_1585859', 'owns', 'HSBC HLDGS PLC'),\n",
       "   ('20231025_1585859', 'owns', 'ILLINOIS TOOL WKS INC'),\n",
       "   ('20231025_1585859', 'owns', 'INDIA FD INC'),\n",
       "   ('20231025_1585859', 'owns', 'INNOVATOR ETFS TR'),\n",
       "   ('20231025_1585859', 'owns', 'INTEL CORP'),\n",
       "   ('20231025_1585859', 'owns', 'INTERNATIONAL BUSINESS MACHS'),\n",
       "   ('20231025_1585859', 'owns', 'INTUIT'),\n",
       "   ('20231025_1585859', 'owns', 'INTUITIVE SURGICAL INC'),\n",
       "   ('20231025_1585859', 'owns', 'INVESCO EXCH TRADED FD TR II'),\n",
       "   ('20231025_1585859', 'owns', 'INVESCO EXCHANGE TRADED FD T'),\n",
       "   ('20231025_1585859', 'owns', 'INVESCO QQQ TR'),\n",
       "   ('20231025_1585859', 'owns', 'ISHARES INC'),\n",
       "   ('20231025_1585859', 'owns', 'ISHARES TR'),\n",
       "   ('20231025_1585859', 'owns', 'J P MORGAN EXCHANGE TRADED F'),\n",
       "   ('20231025_1585859', 'owns', 'JOHNSON & JOHNSON'),\n",
       "   ('20231025_1585859', 'owns', 'JOHNSON CTLS INTL PLC'),\n",
       "   ('20231025_1585859', 'owns', 'JPMORGAN CHASE & CO'),\n",
       "   ('20231025_1585859', 'owns', 'JUNIPER NETWORKS INC'),\n",
       "   ('20231025_1585859', 'owns', 'KLA CORP'),\n",
       "   ('20231025_1585859', 'owns', 'LAM RESEARCH CORP'),\n",
       "   ('20231025_1585859', 'owns', 'LAMB WESTON HLDGS INC'),\n",
       "   ('20231025_1585859', 'owns', 'LENDINGCLUB CORP'),\n",
       "   ('20231025_1585859', 'owns', 'LINDE PLC'),\n",
       "   ('20231025_1585859', 'owns', 'LITMAN GREGORY FDS TR'),\n",
       "   ('20231025_1585859', 'owns', 'LOUISIANA PAC CORP'),\n",
       "   ('20231025_1585859', 'owns', 'LOWES COS INC'),\n",
       "   ('20231025_1585859', 'owns', 'LULULEMON ATHLETICA INC'),\n",
       "   ('20231025_1585859', 'owns', 'LYFT INC'),\n",
       "   ('20231025_1585859', 'owns', 'MANCHESTER UTD PLC NEW'),\n",
       "   ('20231025_1585859', 'owns', 'MARATHON OIL CORP'),\n",
       "   ('20231025_1585859', 'owns', 'MARSH & MCLENNAN COS INC'),\n",
       "   ('20231025_1585859', 'owns', 'MARVELL TECHNOLOGY INC'),\n",
       "   ('20231025_1585859', 'owns', 'MASTERCARD INCORPORATED'),\n",
       "   ('20231025_1585859', 'owns', 'MATTEL INC'),\n",
       "   ('20231025_1585859', 'owns', 'MCCORMICK & CO INC'),\n",
       "   ('20231025_1585859', 'owns', 'MCDONALDS CORP'),\n",
       "   ('20231025_1585859', 'owns', 'MCKESSON CORP'),\n",
       "   ('20231025_1585859', 'owns', 'MEDTRONIC PLC'),\n",
       "   ('20231025_1585859', 'owns', 'MERCK & CO INC'),\n",
       "   ('20231025_1585859', 'owns', 'META PLATFORMS INC'),\n",
       "   ('20231025_1585859', 'owns', 'MFA FINL INC'),\n",
       "   ('20231025_1585859', 'owns', 'MICROSOFT CORP'),\n",
       "   ('20231025_1585859', 'owns', 'MICROVISION INC DEL'),\n",
       "   ('20231025_1585859', 'owns', 'MODERNA INC'),\n",
       "   ('20231025_1585859', 'owns', 'MOODYS CORP'),\n",
       "   ('20231025_1585859', 'owns', 'MORGAN STANLEY'),\n",
       "   ('20231025_1585859', 'owns', 'MOSAIC CO NEW'),\n",
       "   ('20231025_1585859', 'owns', 'MP MATERIALS CORP'),\n",
       "   ('20231025_1585859', 'owns', 'NATIONAL FUEL GAS CO'),\n",
       "   ('20231025_1585859', 'owns', 'NCR CORP NEW'),\n",
       "   ('20231025_1585859', 'owns', 'NETAPP INC'),\n",
       "   ('20231025_1585859', 'owns', 'NETFLIX INC'),\n",
       "   ('20231025_1585859', 'owns', 'NEW PAC METALS CORP'),\n",
       "   ('20231025_1585859', 'owns', 'NEXSTAR MEDIA GROUP INC'),\n",
       "   ('20231025_1585859', 'owns', 'NEXTERA ENERGY INC'),\n",
       "   ('20231025_1585859', 'owns', 'NIKE INC'),\n",
       "   ('20231025_1585859', 'owns', 'NORFOLK SOUTHN CORP'),\n",
       "   ('20231025_1585859', 'owns', 'NOVO-NORDISK A S'),\n",
       "   ('20231025_1585859', 'owns', 'NSTS BANCORP INC'),\n",
       "   ('20231025_1585859', 'owns', 'NUSHARES ETF TR'),\n",
       "   ('20231025_1585859', 'owns', 'NVENT ELECTRIC PLC'),\n",
       "   ('20231025_1585859', 'owns', 'NVIDIA CORPORATION'),\n",
       "   ('20231025_1585859', 'owns', 'OKTA INC'),\n",
       "   ('20231025_1585859', 'owns', 'OMNICOM GROUP INC'),\n",
       "   ('20231025_1585859', 'owns', 'ORACLE CORP'),\n",
       "   ('20231025_1585859', 'owns', 'PACCAR INC'),\n",
       "   ('20231025_1585859', 'owns', 'PALANTIR TECHNOLOGIES INC'),\n",
       "   ('20231025_1585859', 'owns', 'PALO ALTO NETWORKS INC'),\n",
       "   ('20231025_1585859', 'owns', 'PARKER-HANNIFIN CORP'),\n",
       "   ('20231025_1585859', 'owns', 'PAYCHEX INC'),\n",
       "   ('20231025_1585859', 'owns', 'PAYCOM SOFTWARE INC'),\n",
       "   ('20231025_1585859', 'owns', 'PAYPAL HLDGS INC'),\n",
       "   ('20231025_1585859', 'owns', 'PENTAIR PLC'),\n",
       "   ('20231025_1585859', 'owns', 'PEPSICO INC'),\n",
       "   ('20231025_1585859', 'owns', 'PFIZER INC'),\n",
       "   ('20231025_1585859', 'owns', 'PHILIP MORRIS INTL INC'),\n",
       "   ('20231025_1585859', 'owns', 'PHILLIPS 66'),\n",
       "   ('20231025_1585859', 'owns', 'PIMCO ETF TR'),\n",
       "   ('20231025_1585859', 'owns', 'PLAINS ALL AMERN PIPELINE L'),\n",
       "   ('20231025_1585859', 'owns', 'PLUG POWER INC'),\n",
       "   ('20231025_1585859', 'owns', 'POLARIS INC'),\n",
       "   ('20231025_1585859', 'owns', 'POLISHED COM INC'),\n",
       "   ('20231025_1585859', 'owns', 'POOL CORP'),\n",
       "   ('20231025_1585859', 'owns', 'POTLATCHDELTIC CORPORATION'),\n",
       "   ('20231025_1585859', 'owns', 'PRICE T ROWE GROUP INC'),\n",
       "   ('20231025_1585859', 'owns', 'PROCTER AND GAMBLE CO'),\n",
       "   ('20231025_1585859', 'owns', 'PROGRESS SOFTWARE CORP'),\n",
       "   ('20231025_1585859', 'owns', 'PROLOGIS INC.'),\n",
       "   ('20231025_1585859', 'owns', 'PROSHARES TR'),\n",
       "   ('20231025_1585859', 'owns', 'QUALCOMM INC'),\n",
       "   ('20231025_1585859', 'owns', 'QUALYS INC'),\n",
       "   ('20231025_1585859', 'owns', 'QUEST DIAGNOSTICS INC'),\n",
       "   ('20231025_1585859', 'owns', 'RADNET INC'),\n",
       "   ('20231025_1585859', 'owns', 'RAMBUS INC DEL'),\n",
       "   ('20231025_1585859', 'owns', 'REALTY INCOME CORP'),\n",
       "   ('20231025_1585859', 'owns', 'REGENERON PHARMACEUTICALS'),\n",
       "   ('20231025_1585859', 'owns', 'RETAIL OPPORTUNITY INVTS COR'),\n",
       "   ('20231025_1585859', 'owns', 'REVOLVE GROUP INC'),\n",
       "   ('20231025_1585859', 'owns', 'ROPER TECHNOLOGIES INC'),\n",
       "   ('20231025_1585859', 'owns', 'ROYCE VALUE TR INC'),\n",
       "   ('20231025_1585859', 'owns', 'RTX CORPORATION'),\n",
       "   ('20231025_1585859', 'owns', 'RYDER SYS INC'),\n",
       "   ('20231025_1585859', 'owns', 'S&P GLOBAL INC'),\n",
       "   ('20231025_1585859', 'owns', 'SALESFORCE INC'),\n",
       "   ('20231025_1585859', 'owns', 'SANGAMO THERAPEUTICS INC'),\n",
       "   ('20231025_1585859', 'owns', 'SCHWAB CHARLES CORP'),\n",
       "   ('20231025_1585859', 'owns', 'SCHWAB STRATEGIC TR'),\n",
       "   ('20231025_1585859', 'owns', 'SELECT SECTOR SPDR TR'),\n",
       "   ('20231025_1585859', 'owns', 'SEMTECH CORP'),\n",
       "   ('20231025_1585859', 'owns', 'SERVICENOW INC'),\n",
       "   ('20231025_1585859', 'owns', 'SHELL PLC'),\n",
       "   ('20231025_1585859', 'owns', 'SHERWIN WILLIAMS CO'),\n",
       "   ('20231025_1585859', 'owns', 'SHOCKWAVE MED INC'),\n",
       "   ('20231025_1585859', 'owns', 'SHOPIFY INC'),\n",
       "   ('20231025_1585859', 'owns', 'SILVERCREST METALS INC'),\n",
       "   ('20231025_1585859', 'owns', 'SIMON PPTY GROUP INC NEW'),\n",
       "   ('20231025_1585859', 'owns', 'SIRIUS XM HOLDINGS INC'),\n",
       "   ('20231025_1585859', 'owns', 'SMUCKER J M CO'),\n",
       "   ('20231025_1585859', 'owns', 'SNAP INC'),\n",
       "   ('20231025_1585859', 'owns', 'SOFI TECHNOLOGIES INC'),\n",
       "   ('20231025_1585859', 'owns', 'SOUTHERN CO'),\n",
       "   ('20231025_1585859', 'owns', 'SPDR DOW JONES INDL AVERAGE'),\n",
       "   ('20231025_1585859', 'owns', 'SPDR GOLD TR'),\n",
       "   ('20231025_1585859', 'owns', 'SPDR INDEX SHS FDS'),\n",
       "   ('20231025_1585859', 'owns', 'SPDR S&P 500 ETF TR'),\n",
       "   ('20231025_1585859', 'owns', 'SPDR S&P MIDCAP 400 ETF TR'),\n",
       "   ('20231025_1585859', 'owns', 'SPDR SER TR'),\n",
       "   ('20231025_1585859', 'owns', 'SSGA ACTIVE ETF TR'),\n",
       "   ('20231025_1585859', 'owns', 'STARBUCKS CORP'),\n",
       "   ('20231025_1585859', 'owns', 'STRATASYS LTD'),\n",
       "   ('20231025_1585859', 'owns', 'SYNCHRONY FINANCIAL'),\n",
       "   ('20231025_1585859', 'owns', 'SYSCO CORP'),\n",
       "   ('20231025_1585859', 'owns', 'TARGET CORP'),\n",
       "   ('20231025_1585859', 'owns', 'TE CONNECTIVITY LTD'),\n",
       "   ('20231025_1585859', 'owns', 'TEGNA INC'),\n",
       "   ('20231025_1585859', 'owns', 'TERADATA CORP DEL'),\n",
       "   ('20231025_1585859', 'owns', 'TEREX CORP NEW'),\n",
       "   ('20231025_1585859', 'owns', 'TESLA INC'),\n",
       "   ('20231025_1585859', 'owns', 'TEXAS INSTRS INC'),\n",
       "   ('20231025_1585859', 'owns', 'TEXTAINER GROUP HOLDINGS LTD'),\n",
       "   ('20231025_1585859', 'owns', 'THE CIGNA GROUP'),\n",
       "   ('20231025_1585859', 'owns', 'THERMO FISHER SCIENTIFIC INC'),\n",
       "   ('20231025_1585859', 'owns', 'TRANSDIGM GROUP INC'),\n",
       "   ('20231025_1585859', 'owns', 'TRAVELERS COMPANIES INC'),\n",
       "   ('20231025_1585859', 'owns', 'TWILIO INC'),\n",
       "   ('20231025_1585859', 'owns', 'UBER TECHNOLOGIES INC'),\n",
       "   ('20231025_1585859', 'owns', 'UNION PAC CORP'),\n",
       "   ('20231025_1585859', 'owns', 'UNITEDHEALTH GROUP INC'),\n",
       "   ('20231025_1585859', 'owns', 'UPSTART HLDGS INC'),\n",
       "   ('20231025_1585859', 'owns', 'URANIUM ENERGY CORP'),\n",
       "   ('20231025_1585859', 'owns', 'URBAN OUTFITTERS INC'),\n",
       "   ('20231025_1585859', 'owns', 'US BANCORP DEL'),\n",
       "   ('20231025_1585859', 'owns', 'VALERO ENERGY CORP'),\n",
       "   ('20231025_1585859', 'owns', 'VANECK ETF TRUST'),\n",
       "   ('20231025_1585859', 'owns', 'VANGUARD ADMIRAL FDS INC'),\n",
       "   ('20231025_1585859', 'owns', 'VANGUARD BD INDEX FDS'),\n",
       "   ('20231025_1585859', 'owns', 'VANGUARD INDEX FDS'),\n",
       "   ('20231025_1585859', 'owns', 'VANGUARD INTL EQUITY INDEX F'),\n",
       "   ('20231025_1585859', 'owns', 'VANGUARD MALVERN FDS'),\n",
       "   ('20231025_1585859', 'owns', 'VANGUARD MUN BD FDS'),\n",
       "   ('20231025_1585859', 'owns', 'VANGUARD SCOTTSDALE FDS'),\n",
       "   ('20231025_1585859', 'owns', 'VANGUARD SPECIALIZED FUNDS'),\n",
       "   ('20231025_1585859', 'owns', 'VANGUARD STAR FDS'),\n",
       "   ('20231025_1585859', 'owns', 'VANGUARD TAX-MANAGED FDS'),\n",
       "   ('20231025_1585859', 'owns', 'VANGUARD WHITEHALL FDS'),\n",
       "   ('20231025_1585859', 'owns', 'VANGUARD WORLD FD'),\n",
       "   ('20231025_1585859', 'owns', 'VANGUARD WORLD FDS'),\n",
       "   ('20231025_1585859', 'owns', 'VERIZON COMMUNICATIONS INC'),\n",
       "   ('20231025_1585859', 'owns', 'VERRICA PHARMACEUTICALS INC'),\n",
       "   ('20231025_1585859', 'owns', 'VERTEX ENERGY INC'),\n",
       "   ('20231025_1585859', 'owns', 'VICTORY CAP HLDGS INC'),\n",
       "   ('20231025_1585859', 'owns', 'VISA INC'),\n",
       "   ('20231025_1585859', 'owns', 'WABTEC'),\n",
       "   ('20231025_1585859', 'owns', 'WALMART INC'),\n",
       "   ('20231025_1585859', 'owns', 'WARNER BROS DISCOVERY INC'),\n",
       "   ('20231025_1585859', 'owns', 'WASTE MGMT INC DEL'),\n",
       "   ('20231025_1585859', 'owns', 'WELLS FARGO CO NEW'),\n",
       "   ('20231025_1585859', 'owns', 'WESTERN DIGITAL CORP.'),\n",
       "   ('20231025_1585859', 'owns', 'WESTROCK CO'),\n",
       "   ('20231025_1585859', 'owns', 'WISDOMTREE TR'),\n",
       "   ('20231025_1585859', 'owns', 'WOORI FINL GROUP INC'),\n",
       "   ('20231025_1585859', 'owns', 'WORLD GOLD TR'),\n",
       "   ('20231025_1585859', 'owns', 'WYNN RESORTS LTD'),\n",
       "   ('20231025_1585859', 'owns', 'XYLEM INC')}}}"
      ]
     },
     "execution_count": 11,
     "metadata": {},
     "output_type": "execute_result"
    }
   ],
   "source": [
    "graph_store.get_one_hop_edges([\"20231025_1585859\"])"
   ]
  },
  {
   "cell_type": "markdown",
   "id": "2e4a06a1",
   "metadata": {},
   "source": [
    "### Question Answering\n",
    "\n",
    "We define a sample question to test our system. The question requires reasoning through multiple hops in the knowledge graph to find the answer."
   ]
  },
  {
   "cell_type": "code",
   "execution_count": 12,
   "id": "3965af5b",
   "metadata": {},
   "outputs": [],
   "source": [
    "question = \"Does Miracle Mile Advisors own any Vanguard Index funds\""
   ]
  },
  {
   "cell_type": "code",
   "execution_count": 13,
   "id": "5cc495bc",
   "metadata": {},
   "outputs": [
    {
     "name": "stdout",
     "output_type": "stream",
     "text": [
      "('20231025_1585859', 'owns', 'VANGUARD INDEX FDS')\n"
     ]
    }
   ],
   "source": [
    "# check answers\n",
    "for triplet in graph_store.get_one_hop_edges([\"20231025_1585859\"])['20231025_1585859']['owns']:\n",
    "    if \"vanguard index\" in triplet[2].lower():\n",
    "        print(triplet)"
   ]
  },
  {
   "cell_type": "markdown",
   "id": "3921a095",
   "metadata": {},
   "source": [
    "### Cypher KG Linker & Cypher Retrieval\n",
    "The `CypherKGLinker` uses an LLM (Claude 3.5 Sonnet) to:\n",
    "1. Generate opencypher queries for linking question entities to KG nodes\n",
    "2. Generate opencypher queries for retrieving KG answers\n",
    "3. Generate initial responses based on its knowledge"
   ]
  },
  {
   "cell_type": "code",
   "execution_count": 14,
   "id": "ecfe591a",
   "metadata": {},
   "outputs": [
    {
     "data": {
      "text/plain": [
       "{'opencypher-linking': ['MATCH (h:Holder), (holding:Holding)',\n",
       "  \"WHERE toLower(h.name) CONTAINS toLower('Miracle Mile Advisors')\",\n",
       "  \"  AND toLower(holding.name) CONTAINS toLower('Vanguard')\",\n",
       "  \"  AND toLower(holding.type) CONTAINS toLower('Index')\",\n",
       "  'RETURN ID(h), ID(holding)',\n",
       "  'LIMIT 5'],\n",
       " 'opencypher': ['MATCH (h:Holder)-[:has_holderquarter]->(hq:HolderQuarter)-[o:owns]->(holding:Holding)',\n",
       "  \"WHERE toLower(h.name) CONTAINS toLower('Miracle Mile Advisors')\",\n",
       "  \"  AND toLower(holding.name) CONTAINS toLower('Vanguard')\",\n",
       "  \"  AND toLower(holding.type) CONTAINS toLower('Index')\",\n",
       "  'RETURN h.name AS Holder, holding.name AS Fund, o.quantity AS Quantity, o.value AS Value'],\n",
       " 'draft-answer-generation': []}"
      ]
     },
     "execution_count": 14,
     "metadata": {},
     "output_type": "execute_result"
    }
   ],
   "source": [
    "from graphrag_toolkit.byokg_rag.graph_connectors import CypherKGLinker\n",
    "from graphrag_toolkit.byokg_rag.llm import BedrockGenerator\n",
    "\n",
    "# Initialize llm\n",
    "llm_generator = BedrockGenerator(\n",
    "                model_name='us.anthropic.claude-3-5-sonnet-20240620-v1:0',\n",
    "                region_name='us-west-2')\n",
    "\n",
    "cypher_linker = CypherKGLinker(graph_store=graph_store, llm_generator=llm_generator)\n",
    "response = cypher_linker.generate_response(\n",
    "                question=question,\n",
    "                schema=schema,\n",
    "                graph_context=\"Not provided. Use the above schema to understand the graph.\"\n",
    "            )\n",
    "response\n",
    "artifacts = cypher_linker.parse_response(response)\n",
    "artifacts"
   ]
  },
  {
   "cell_type": "code",
   "execution_count": 15,
   "id": "fb1da2a1",
   "metadata": {},
   "outputs": [
    {
     "data": {
      "text/plain": [
       "[]"
      ]
     },
     "execution_count": 15,
     "metadata": {},
     "output_type": "execute_result"
    }
   ],
   "source": [
    "from graphrag_toolkit.byokg_rag.graph_retrievers import GraphQueryRetriever\n",
    "graph_query_executor = GraphQueryRetriever(graph_store)\n",
    "graph_query = \" \".join(artifacts[\"opencypher\"])\n",
    "cypher_context, cypher_answers = graph_query_executor.retrieve(graph_query, return_answers=True)\n",
    "cypher_answers"
   ]
  },
  {
   "cell_type": "markdown",
   "id": "1401f060",
   "metadata": {},
   "source": [
    "### KG Linker\n",
    "The `KGLinker` uses an LLM (Claude 3.5 Sonnet) to:\n",
    "1. Extract entities from the question\n",
    "2. Identify potential relationship paths in the graph\n",
    "3. Generate initial responses based on its knowledge"
   ]
  },
  {
   "cell_type": "code",
   "execution_count": 16,
   "id": "5e6699b1",
   "metadata": {},
   "outputs": [
    {
     "data": {
      "text/plain": [
       "'<entities>\\nMiracle Mile Advisors\\nVanguard Index funds\\n</entities>\\n\\n<paths>\\nHolder -has_holderquarter-> HolderQuarter -owns-> Holding\\n</paths>\\n\\n<answers>\\n</answers>\\n\\n<opencypher>\\nMATCH (h:Holder {name: \"Miracle Mile Advisors\"})-[:has_holderquarter]->(hq:HolderQuarter)-[:owns]->(holding:Holding)\\nWHERE holding.name CONTAINS \"Vanguard\" AND holding.type = \"Index Fund\"\\nRETURN DISTINCT holding.name AS VanguardIndexFunds\\n</opencypher>'"
      ]
     },
     "execution_count": 16,
     "metadata": {},
     "output_type": "execute_result"
    }
   ],
   "source": [
    "\n",
    "from graphrag_toolkit.byokg_rag.graph_connectors import KGLinker\n",
    "from graphrag_toolkit.byokg_rag.llm import BedrockGenerator\n",
    "\n",
    "\n",
    "\n",
    "# Initialize llm\n",
    "llm_generator = BedrockGenerator(\n",
    "                model_name='us.anthropic.claude-3-5-sonnet-20240620-v1:0',\n",
    "                region_name='us-west-2')\n",
    "\n",
    "kg_linker = KGLinker(graph_store=graph_store, llm_generator=llm_generator)\n",
    "response = kg_linker.generate_response(\n",
    "                question=question,\n",
    "                schema=schema,\n",
    "                graph_context=\"Not provided. Use the above schema to understand the graph.\"\n",
    "            )\n",
    "response\n"
   ]
  },
  {
   "cell_type": "code",
   "execution_count": 17,
   "id": "9c42fb7e",
   "metadata": {},
   "outputs": [
    {
     "data": {
      "text/plain": [
       "{'entity-extraction': ['Miracle Mile Advisors', 'Vanguard Index funds'],\n",
       " 'path-extraction': ['Holder -has_holderquarter-> HolderQuarter -owns-> Holding'],\n",
       " 'draft-answer-generation': [],\n",
       " 'opencypher': ['MATCH (h:Holder {name: \"Miracle Mile Advisors\"})-[:has_holderquarter]->(hq:HolderQuarter)-[:owns]->(holding:Holding)',\n",
       "  'WHERE holding.name CONTAINS \"Vanguard\" AND holding.type = \"Index Fund\"',\n",
       "  'RETURN DISTINCT holding.name AS VanguardIndexFunds']}"
      ]
     },
     "execution_count": 17,
     "metadata": {},
     "output_type": "execute_result"
    }
   ],
   "source": [
    "artifacts = kg_linker.parse_response(response)\n",
    "artifacts"
   ]
  },
  {
   "cell_type": "markdown",
   "id": "d5cfc82c",
   "metadata": {},
   "source": [
    "### Entity Linking\n",
    "The `EntityLinker` uses fuzzy string matching to\n",
    "1. Match extracted entities to actual nodes in the graph\n",
    "3. Link potential answers to graph nodes"
   ]
  },
  {
   "cell_type": "code",
   "execution_count": 18,
   "id": "dde72518",
   "metadata": {},
   "outputs": [
    {
     "data": {
      "text/plain": [
       "(['VANGUARD INDEX FUNDS',\n",
       "  'Miracle Mile Advisors, LLC',\n",
       "  'Vanguard Index Fds',\n",
       "  'VANGUARD INDEX FDS          ',\n",
       "  'Scotts Miracle-Gro Company Class A',\n",
       "  'Professional Financial Advisors, LLC'],\n",
       " [])"
      ]
     },
     "execution_count": 18,
     "metadata": {},
     "output_type": "execute_result"
    }
   ],
   "source": [
    "from graphrag_toolkit.byokg_rag.indexing import FuzzyStringIndex\n",
    "from graphrag_toolkit.byokg_rag.graph_retrievers import EntityLinker\n",
    "\n",
    "# Add graph nodes text for string matching\n",
    "string_index = FuzzyStringIndex()\n",
    "string_index.add(graph_store.nodes())\n",
    "retriever = string_index.as_entity_matcher()\n",
    "entity_linker = EntityLinker(retriever=retriever)\n",
    "\n",
    "linked_entities = entity_linker.link(artifacts[\"entity-extraction\"], return_dict=False)\n",
    "linked_answers = entity_linker.link(artifacts[\"draft-answer-generation\"], return_dict=False)\n",
    "linked_entities, linked_answers"
   ]
  },
  {
   "cell_type": "markdown",
   "id": "cb56d7d7",
   "metadata": {},
   "source": [
    "### Triplet Retrieval\n",
    "The `AgenticRetriever` uses an LLM to:\n",
    "1. Navigate the graph starting from linked entities\n",
    "2. Select relevant relations based on the question\n",
    "3. Expand those relations and decide which relevant entities to explore next.\n",
    "4. It returns the relevant (head->relation->tail) based on the question.\n"
   ]
  },
  {
   "cell_type": "code",
   "execution_count": 19,
   "id": "5438c866",
   "metadata": {},
   "outputs": [],
   "source": [
    "from graphrag_toolkit.byokg_rag.graph_retrievers import AgenticRetriever\n",
    "from graphrag_toolkit.byokg_rag.graph_retrievers import GTraversal, TripletGVerbalizer\n",
    "graph_traversal = GTraversal(graph_store)\n",
    "graph_verbalizer = TripletGVerbalizer()\n",
    "triplet_retriever = AgenticRetriever(\n",
    "    llm_generator=llm_generator, \n",
    "    graph_traversal=graph_traversal,\n",
    "    graph_verbalizer=graph_verbalizer)"
   ]
  },
  {
   "cell_type": "code",
   "execution_count": 20,
   "id": "91c66868",
   "metadata": {},
   "outputs": [
    {
     "data": {
      "text/plain": [
       "['Miracle Mile Advisors, LLC -> has_holderquarter -> 20231025_1585859',\n",
       " 'Professional Financial Advisors, LLC -> has_holderquarter -> 20231025_1798221',\n",
       " '20231025_1585859 -> owns -> JOHNSON CTLS INTL PLC | D R HORTON INC | TESLA INC | BRISTOL-MYERS SQUIBB CO | MANCHESTER UTD PLC NEW | WABTEC | AUTOMATIC DATA PROCESSING IN | GENERAL ELECTRIC CO | FIRST MAJESTIC SILVER CORP | ALTIMMUNE INC | EXLSERVICE HOLDINGS INC | ACCENTURE PLC IRELAND | HSBC HLDGS PLC | NCR CORP NEW | DUPONT DE NEMOURS INC | FACTSET RESH SYS INC | BANK AMERICA CORP | ELEVANCE HEALTH INC | CARRIER GLOBAL CORPORATION | INVESCO QQQ TR | PROSHARES TR | AMGEN INC | FIRST TR EXCHANGE-TRADED FD | RETAIL OPPORTUNITY INVTS COR | AMETEK INC | EQUINIX INC | TEXAS INSTRS INC | XYLEM INC | CHEVRON CORP NEW | SHOCKWAVE MED INC | AFLAC INC | NETAPP INC | NATIONAL FUEL GAS CO | CISCO SYS INC | CLEARWATER PAPER CORP | BROADCOM INC | KLA CORP | ECOLAB INC | TEGNA INC | COPA HOLDINGS SA | CARDINAL HEALTH INC | QUALYS INC | SYSCO CORP | EDWARDS LIFESCIENCES CORP | ROYCE VALUE TR INC | BUCKLE INC | HESS CORP | PALO ALTO NETWORKS INC | ABBOTT LABS | CAMECO CORP | INTEL CORP | ASTRAZENECA PLC | FERRARI N V | NVENT ELECTRIC PLC | DISNEY WALT CO | TEXTAINER GROUP HOLDINGS LTD | PEPSICO INC | CVS HEALTH CORP | NEW PAC METALS CORP | POOL CORP | TERADATA CORP DEL | BOSTON SCIENTIFIC CORP | OKTA INC | CSX CORP | SIRIUS XM HOLDINGS INC | ALLSTATE CORP | URANIUM ENERGY CORP | 23ANDME HOLDING CO | VANGUARD INDEX FDS | COLGATE PALMOLIVE CO | CORNING INC | INNOVATOR ETFS TR | SNAP INC | SCHWAB CHARLES CORP | DBX ETF TR | INVESCO EXCHANGE TRADED FD T | SILVERCREST METALS INC | AMEREN CORP | MICROSOFT CORP | BLACKROCK CALIF MUN INCOME T | ENPHASE ENERGY INC | RYDER SYS INC | DIAMONDBACK ENERGY INC | HOME DEPOT INC | INTUIT | MARVELL TECHNOLOGY INC | MARSH & MCLENNAN COS INC | SHELL PLC | PIMCO ETF TR | DOW INC | QUALCOMM INC | HONEYWELL INTL INC | DELL TECHNOLOGIES INC | BROWN FORMAN CORP | UPSTART HLDGS INC | FISERV INC | PLAINS ALL AMERN PIPELINE L | BECTON DICKINSON & CO | SSGA ACTIVE ETF TR | CORTEVA INC | MOODYS CORP | DIMENSIONAL ETF TRUST | JPMORGAN CHASE & CO | AIRBNB INC | MORGAN STANLEY | VANGUARD SPECIALIZED FUNDS | GOLDMAN SACHS ETF TR | AON PLC | REALTY INCOME CORP | AMAZON COM INC | ISHARES TR | BWX TECHNOLOGIES INC | LOUISIANA PAC CORP | STRATASYS LTD | WALMART INC | TARGET CORP | THE CIGNA GROUP | RTX CORPORATION | AMERICAN TOWER CORP NEW | WISDOMTREE TR | BLACKROCK INC | SPDR SER TR | COMCAST CORP NEW | SOUTHERN CO | WORLD GOLD TR | ALBERTSONS COS INC | CYMABAY THERAPEUTICS INC | LYFT INC | PALANTIR TECHNOLOGIES INC | DEERE & CO | BERKSHIRE HATHAWAY INC DEL | MCKESSON CORP | INTUITIVE SURGICAL INC | FORTUNA SILVER MINES INC | WESTROCK CO | CONOCOPHILLIPS | ACTIVISION BLIZZARD INC | FORWARD INDS INC N Y | LAM RESEARCH CORP | ANAVEX LIFE SCIENCES CORP | REGENERON PHARMACEUTICALS | BLINK CHARGING CO | J P MORGAN EXCHANGE TRADED F | RADNET INC | MARATHON OIL CORP | MASTERCARD INCORPORATED | VANGUARD MALVERN FDS | TE CONNECTIVITY LTD | SCHWAB STRATEGIC TR | FULTON FINL CORP PA | UBER TECHNOLOGIES INC | VISA INC | APPLIED MATLS INC | BRINKS CO | ELI LILLY & CO | UNITEDHEALTH GROUP INC | VANECK ETF TRUST | PFIZER INC | EBAY INC. | PROGRESS SOFTWARE CORP | PAYCHEX INC | AT&T INC | QUEST DIAGNOSTICS INC | BORGWARNER INC | MODERNA INC | FIDELITY COVINGTON TRUST | FEDEX CORP | CONAGRA BRANDS INC | PARKER-HANNIFIN CORP | GLOBAL X FDS | NSTS BANCORP INC | VANGUARD INTL EQUITY INDEX F | US BANCORP DEL | VANGUARD ADMIRAL FDS INC | NUSHARES ETF TR | GILEAD SCIENCES INC | SHERWIN WILLIAMS CO | VERTEX ENERGY INC | BLOCK INC | SEMTECH CORP | ROPER TECHNOLOGIES INC | MFA FINL INC | MP MATERIALS CORP | ORACLE CORP | SPDR INDEX SHS FDS | PENTAIR PLC | COSTCO WHSL CORP NEW | WESTERN DIGITAL CORP. | AMERIPRISE FINL INC | APPLE INC | NEXSTAR MEDIA GROUP INC | WARNER BROS DISCOVERY INC | LINDE PLC | APOLLO GLOBAL MGMT INC | URBAN OUTFITTERS INC | PAYCOM SOFTWARE INC | INDIA FD INC | VALERO ENERGY CORP | NEXTERA ENERGY INC | TRANSDIGM GROUP INC | NVIDIA CORPORATION | MATTEL INC | MCDONALDS CORP | COCA COLA CO | SPDR DOW JONES INDL AVERAGE | LOWES COS INC | ANALOG DEVICES INC | ESSEX PPTY TR INC | SYNCHRONY FINANCIAL | LENDINGCLUB CORP | POLARIS INC | AIR PRODS & CHEMS INC | VANGUARD MUN BD FDS | STARBUCKS CORP | 3-D SYS CORP DEL | NORFOLK SOUTHN CORP | BLACKSTONE INC | VANGUARD WORLD FDS | PACCAR INC | PROLOGIS INC. | SHOPIFY INC | 3M CO | AKERO THERAPEUTICS INC | ADVANCED MICRO DEVICES INC | VERIZON COMMUNICATIONS INC | PHILLIPS 66 | SPDR S&P 500 ETF TR | SMUCKER J M CO | JOHNSON & JOHNSON | S&P GLOBAL INC | OMNICOM GROUP INC | LAMB WESTON HLDGS INC | VANGUARD STAR FDS | SIMON PPTY GROUP INC NEW | TRAVELERS COMPANIES INC | UNION PAC CORP | TEREX CORP NEW | GEN DIGITAL INC | CLOUDFLARE INC | VANGUARD BD INDEX FDS | AMERICAN WTR WKS CO INC NEW | VICTORY CAP HLDGS INC | VERRICA PHARMACEUTICALS INC | ALIBABA GROUP HLDG LTD | ELANCO ANIMAL HEALTH INC | SALESFORCE INC | POTLATCHDELTIC CORPORATION | ARES DYNAMIC CR ALLOCATION F | BOEING CO | ALPHABET INC | CRISPR THERAPEUTICS AG | WELLS FARGO CO NEW | SPDR S&P MIDCAP 400 ETF TR | INTERNATIONAL BUSINESS MACHS | GENERAL DYNAMICS CORP | FORD MTR CO DEL | REVOLVE GROUP INC | INVESCO EXCH TRADED FD TR II | WYNN RESORTS LTD | ISHARES INC | GOLDMAN SACHS GROUP INC | SPDR GOLD TR | SANGAMO THERAPEUTICS INC | GSK PLC | ADOBE INC | BAIDU INC | NOVO-NORDISK A S | PHILIP MORRIS INTL INC | META PLATFORMS INC | VANGUARD TAX-MANAGED FDS | TWILIO INC | ENCOMPASS HEALTH CORP | CATERPILLAR INC | PLUG POWER INC | ENERGIZER HLDGS INC NEW | FIRST TR EXCH TRADED FD III | SERVICENOW INC | FIRST TR EXCHANGE TRAD FD VI | NETFLIX INC | WASTE MGMT INC DEL | SELECT SECTOR SPDR TR | PRICE T ROWE GROUP INC | ABBVIE INC | PROCTER AND GAMBLE CO | VANGUARD WORLD FD | MERCK & CO INC | MICROVISION INC DEL | DOMINION ENERGY INC | MCCORMICK & CO INC | CELANESE CORP DEL | VANGUARD SCOTTSDALE FDS | CONCENTRIX CORP | EOG RES INC | CSG SYS INTL INC | JUNIPER NETWORKS INC | ILLINOIS TOOL WKS INC | VANGUARD WHITEHALL FDS | PAYPAL HLDGS INC | LULULEMON ATHLETICA INC | NIKE INC | ARES CAPITAL CORP | CITIGROUP INC | RAMBUS INC DEL | EMERSON ELEC CO | WOORI FINL GROUP INC | ADC THERAPEUTICS SA | MOSAIC CO NEW | SOFI TECHNOLOGIES INC | THERMO FISHER SCIENTIFIC INC | EXXON MOBIL CORP | POLISHED COM INC | LITMAN GREGORY FDS TR | MEDTRONIC PLC | ACCOLADE INC']"
      ]
     },
     "execution_count": 20,
     "metadata": {},
     "output_type": "execute_result"
    }
   ],
   "source": [
    "triplet_context = triplet_retriever.retrieve(query=question, source_nodes=linked_entities)\n",
    "triplet_context"
   ]
  },
  {
   "cell_type": "markdown",
   "id": "d5da3c24",
   "metadata": {},
   "source": [
    "### Path Retrieval\n",
    "The `PathRetriever` uses the identified metapaths and candidate answers to:\n",
    "1. Retrieve actual paths in the graph following the metapath\n",
    "2. Retrieve shortest paths connecting question entities and candidate answers (if any) \n",
    "3. Verbalize the paths for context"
   ]
  },
  {
   "cell_type": "code",
   "execution_count": 21,
   "id": "7576abf8",
   "metadata": {},
   "outputs": [
    {
     "data": {
      "text/plain": [
       "[]"
      ]
     },
     "execution_count": 21,
     "metadata": {},
     "output_type": "execute_result"
    }
   ],
   "source": [
    "from graphrag_toolkit.byokg_rag.graph_retrievers import PathRetriever\n",
    "from graphrag_toolkit.byokg_rag.graph_retrievers import GTraversal, PathVerbalizer\n",
    "graph_traversal = GTraversal(graph_store)\n",
    "path_verbalizer = PathVerbalizer()\n",
    "path_retriever = PathRetriever(\n",
    "    graph_traversal=graph_traversal,\n",
    "    path_verbalizer=path_verbalizer)\n",
    "\n",
    "metapaths = [[component.strip() for component in path.split(\"->\")] for path in artifacts[\"path-extraction\"]]\n",
    "\n",
    "path_context = path_retriever.retrieve(linked_entities, metapaths, linked_answers)\n",
    "path_context"
   ]
  },
  {
   "cell_type": "markdown",
   "id": "106a3a13",
   "metadata": {},
   "source": [
    "Let's try answering the question now with the retrieved context from various retrieval mechanisms.\n",
    "\n",
    "First we can create a `ByoKGQueryEngine` instance which can invoke an LLM and generate a response using the context we already retrieved from the graph"
   ]
  },
  {
   "cell_type": "code",
   "execution_count": 22,
   "id": "a41d5e6c",
   "metadata": {},
   "outputs": [],
   "source": [
    "from graphrag_toolkit.byokg_rag.byokg_query_engine import ByoKGQueryEngine\n",
    "\n",
    "byokg_query_engine = ByoKGQueryEngine(\n",
    "    graph_store=graph_store,\n",
    "    kg_linker=kg_linker,\n",
    "    cypher_kg_linker=cypher_linker,\n",
    "    triplet_retriever=triplet_retriever,\n",
    "    path_retriever=path_retriever,\n",
    "    entity_linker=entity_linker\n",
    ")"
   ]
  },
  {
   "cell_type": "markdown",
   "id": "7e844e96",
   "metadata": {},
   "source": [
    "Generating a response using the triplet context from graph traversal"
   ]
  },
  {
   "cell_type": "code",
   "execution_count": 23,
   "id": "914cc3c2",
   "metadata": {},
   "outputs": [
    {
     "name": "stdout",
     "output_type": "stream",
     "text": [
      "Generated answers:  ['VANGUARD INDEX FDS', 'VANGUARD SPECIALIZED FUNDS', 'VANGUARD MALVERN FDS', 'VANGUARD INTL EQUITY INDEX F', 'VANGUARD ADMIRAL FDS INC', 'VANGUARD MUN BD FDS', 'VANGUARD WORLD FDS', 'VANGUARD STAR FDS', 'VANGUARD BD INDEX FDS', 'VANGUARD TAX-MANAGED FDS', 'VANGUARD SCOTTSDALE FDS', 'VANGUARD WHITEHALL FDS']\n",
      "Success! Ground-truth answer retrieved!\n"
     ]
    }
   ],
   "source": [
    "answers, response = byokg_query_engine.generate_response(question, \"\\n\".join(triplet_context))\n",
    "\n",
    "print(\"Generated answers: \", answers)\n",
    "if (\"Yes\" in '\\n'.join(answers) or \"vanguard index\" in ('\\n'.join(answers)).lower()):\n",
    "    print(f\"Success! Ground-truth answer retrieved!\") \n"
   ]
  },
  {
   "cell_type": "markdown",
   "id": "c6b5307b",
   "metadata": {},
   "source": [
    "### BYOKG RAG Pipeline\n",
    "\n",
    "We can also use the `ByoKGQueryEngine` to combine all into a single call to:\n",
    "1. Process natural language questions\n",
    "2. Retrieve relevant context from the graph\n",
    "3. Generate answers based on the retrieved information"
   ]
  },
  {
   "cell_type": "code",
   "execution_count": 25,
   "id": "eac11cfe",
   "metadata": {
    "scrolled": true
   },
   "outputs": [
    {
     "name": "stdout",
     "output_type": "stream",
     "text": [
      "['Miracle Mile Advisors, LLC -> has_holderquarter -> 20231025_1585859', 'Professional Financial Advisors, LLC -> has_holderquarter -> 20231025_1798221', '20231025_1585859 -> owns -> JOHNSON CTLS INTL PLC | D R HORTON INC | TESLA INC | BRISTOL-MYERS SQUIBB CO | MANCHESTER UTD PLC NEW | WABTEC | AUTOMATIC DATA PROCESSING IN | GENERAL ELECTRIC CO | FIRST MAJESTIC SILVER CORP | ALTIMMUNE INC | EXLSERVICE HOLDINGS INC | ACCENTURE PLC IRELAND | HSBC HLDGS PLC | NCR CORP NEW | DUPONT DE NEMOURS INC | FACTSET RESH SYS INC | BANK AMERICA CORP | ELEVANCE HEALTH INC | CARRIER GLOBAL CORPORATION | INVESCO QQQ TR | PROSHARES TR | AMGEN INC | FIRST TR EXCHANGE-TRADED FD | RETAIL OPPORTUNITY INVTS COR | AMETEK INC | EQUINIX INC | TEXAS INSTRS INC | XYLEM INC | CHEVRON CORP NEW | SHOCKWAVE MED INC | AFLAC INC | NETAPP INC | NATIONAL FUEL GAS CO | CISCO SYS INC | CLEARWATER PAPER CORP | BROADCOM INC | KLA CORP | ECOLAB INC | TEGNA INC | COPA HOLDINGS SA | CARDINAL HEALTH INC | QUALYS INC | SYSCO CORP | EDWARDS LIFESCIENCES CORP | ROYCE VALUE TR INC | BUCKLE INC | HESS CORP | PALO ALTO NETWORKS INC | ABBOTT LABS | CAMECO CORP | INTEL CORP | ASTRAZENECA PLC | FERRARI N V | NVENT ELECTRIC PLC | DISNEY WALT CO | TEXTAINER GROUP HOLDINGS LTD | PEPSICO INC | CVS HEALTH CORP | NEW PAC METALS CORP | POOL CORP | TERADATA CORP DEL | BOSTON SCIENTIFIC CORP | OKTA INC | CSX CORP | SIRIUS XM HOLDINGS INC | ALLSTATE CORP | URANIUM ENERGY CORP | 23ANDME HOLDING CO | VANGUARD INDEX FDS | COLGATE PALMOLIVE CO | CORNING INC | INNOVATOR ETFS TR | SNAP INC | SCHWAB CHARLES CORP | DBX ETF TR | INVESCO EXCHANGE TRADED FD T | SILVERCREST METALS INC | AMEREN CORP | MICROSOFT CORP | BLACKROCK CALIF MUN INCOME T | ENPHASE ENERGY INC | RYDER SYS INC | DIAMONDBACK ENERGY INC | HOME DEPOT INC | INTUIT | MARVELL TECHNOLOGY INC | MARSH & MCLENNAN COS INC | SHELL PLC | PIMCO ETF TR | DOW INC | QUALCOMM INC | HONEYWELL INTL INC | DELL TECHNOLOGIES INC | BROWN FORMAN CORP | UPSTART HLDGS INC | FISERV INC | PLAINS ALL AMERN PIPELINE L | BECTON DICKINSON & CO | SSGA ACTIVE ETF TR | CORTEVA INC | MOODYS CORP | DIMENSIONAL ETF TRUST | JPMORGAN CHASE & CO | AIRBNB INC | MORGAN STANLEY | VANGUARD SPECIALIZED FUNDS | GOLDMAN SACHS ETF TR | AON PLC | REALTY INCOME CORP | AMAZON COM INC | ISHARES TR | BWX TECHNOLOGIES INC | LOUISIANA PAC CORP | STRATASYS LTD | WALMART INC | TARGET CORP | THE CIGNA GROUP | RTX CORPORATION | AMERICAN TOWER CORP NEW | WISDOMTREE TR | BLACKROCK INC | SPDR SER TR | COMCAST CORP NEW | SOUTHERN CO | WORLD GOLD TR | ALBERTSONS COS INC | CYMABAY THERAPEUTICS INC | LYFT INC | PALANTIR TECHNOLOGIES INC | DEERE & CO | BERKSHIRE HATHAWAY INC DEL | MCKESSON CORP | INTUITIVE SURGICAL INC | FORTUNA SILVER MINES INC | WESTROCK CO | CONOCOPHILLIPS | ACTIVISION BLIZZARD INC | FORWARD INDS INC N Y | LAM RESEARCH CORP | ANAVEX LIFE SCIENCES CORP | REGENERON PHARMACEUTICALS | BLINK CHARGING CO | J P MORGAN EXCHANGE TRADED F | RADNET INC | MARATHON OIL CORP | MASTERCARD INCORPORATED | VANGUARD MALVERN FDS | TE CONNECTIVITY LTD | SCHWAB STRATEGIC TR | FULTON FINL CORP PA | UBER TECHNOLOGIES INC | VISA INC | APPLIED MATLS INC | BRINKS CO | ELI LILLY & CO | UNITEDHEALTH GROUP INC | VANECK ETF TRUST | PFIZER INC | EBAY INC. | PROGRESS SOFTWARE CORP | PAYCHEX INC | AT&T INC | QUEST DIAGNOSTICS INC | BORGWARNER INC | MODERNA INC | FIDELITY COVINGTON TRUST | FEDEX CORP | CONAGRA BRANDS INC | PARKER-HANNIFIN CORP | GLOBAL X FDS | NSTS BANCORP INC | VANGUARD INTL EQUITY INDEX F | US BANCORP DEL | VANGUARD ADMIRAL FDS INC | NUSHARES ETF TR | GILEAD SCIENCES INC | SHERWIN WILLIAMS CO | VERTEX ENERGY INC | BLOCK INC | SEMTECH CORP | ROPER TECHNOLOGIES INC | MFA FINL INC | MP MATERIALS CORP | ORACLE CORP | SPDR INDEX SHS FDS | PENTAIR PLC | COSTCO WHSL CORP NEW | WESTERN DIGITAL CORP. | AMERIPRISE FINL INC | APPLE INC | NEXSTAR MEDIA GROUP INC | WARNER BROS DISCOVERY INC | LINDE PLC | APOLLO GLOBAL MGMT INC | URBAN OUTFITTERS INC | PAYCOM SOFTWARE INC | INDIA FD INC | VALERO ENERGY CORP | NEXTERA ENERGY INC | TRANSDIGM GROUP INC | NVIDIA CORPORATION | MATTEL INC | MCDONALDS CORP | COCA COLA CO | SPDR DOW JONES INDL AVERAGE | LOWES COS INC | ANALOG DEVICES INC | ESSEX PPTY TR INC | SYNCHRONY FINANCIAL | LENDINGCLUB CORP | POLARIS INC | AIR PRODS & CHEMS INC | VANGUARD MUN BD FDS | STARBUCKS CORP | 3-D SYS CORP DEL | NORFOLK SOUTHN CORP | BLACKSTONE INC | VANGUARD WORLD FDS | PACCAR INC | PROLOGIS INC. | SHOPIFY INC | 3M CO | AKERO THERAPEUTICS INC | ADVANCED MICRO DEVICES INC | VERIZON COMMUNICATIONS INC | PHILLIPS 66 | SPDR S&P 500 ETF TR | SMUCKER J M CO | JOHNSON & JOHNSON | S&P GLOBAL INC | OMNICOM GROUP INC | LAMB WESTON HLDGS INC | VANGUARD STAR FDS | SIMON PPTY GROUP INC NEW | TRAVELERS COMPANIES INC | UNION PAC CORP | TEREX CORP NEW | GEN DIGITAL INC | CLOUDFLARE INC | VANGUARD BD INDEX FDS | AMERICAN WTR WKS CO INC NEW | VICTORY CAP HLDGS INC | VERRICA PHARMACEUTICALS INC | ALIBABA GROUP HLDG LTD | ELANCO ANIMAL HEALTH INC | SALESFORCE INC | POTLATCHDELTIC CORPORATION | ARES DYNAMIC CR ALLOCATION F | BOEING CO | ALPHABET INC | CRISPR THERAPEUTICS AG | WELLS FARGO CO NEW | SPDR S&P MIDCAP 400 ETF TR | INTERNATIONAL BUSINESS MACHS | GENERAL DYNAMICS CORP | FORD MTR CO DEL | REVOLVE GROUP INC | INVESCO EXCH TRADED FD TR II | WYNN RESORTS LTD | ISHARES INC | GOLDMAN SACHS GROUP INC | SPDR GOLD TR | SANGAMO THERAPEUTICS INC | GSK PLC | ADOBE INC | BAIDU INC | NOVO-NORDISK A S | PHILIP MORRIS INTL INC | META PLATFORMS INC | VANGUARD TAX-MANAGED FDS | TWILIO INC | ENCOMPASS HEALTH CORP | CATERPILLAR INC | PLUG POWER INC | ENERGIZER HLDGS INC NEW | FIRST TR EXCH TRADED FD III | SERVICENOW INC | FIRST TR EXCHANGE TRAD FD VI | NETFLIX INC | WASTE MGMT INC DEL | SELECT SECTOR SPDR TR | PRICE T ROWE GROUP INC | ABBVIE INC | PROCTER AND GAMBLE CO | VANGUARD WORLD FD | MERCK & CO INC | MICROVISION INC DEL | DOMINION ENERGY INC | MCCORMICK & CO INC | CELANESE CORP DEL | VANGUARD SCOTTSDALE FDS | CONCENTRIX CORP | EOG RES INC | CSG SYS INTL INC | JUNIPER NETWORKS INC | ILLINOIS TOOL WKS INC | VANGUARD WHITEHALL FDS | PAYPAL HLDGS INC | LULULEMON ATHLETICA INC | NIKE INC | ARES CAPITAL CORP | CITIGROUP INC | RAMBUS INC DEL | EMERSON ELEC CO | WOORI FINL GROUP INC | ADC THERAPEUTICS SA | MOSAIC CO NEW | SOFI TECHNOLOGIES INC | THERMO FISHER SCIENTIFIC INC | EXXON MOBIL CORP | POLISHED COM INC | LITMAN GREGORY FDS TR | MEDTRONIC PLC | ACCOLADE INC', 'Graph Query: MATCH (h:Holder {name: \"Miracle Mile Advisors\"})-[:has_holderquarter]->(hq:HolderQuarter)-[:owns]->(holding:Holding) WHERE holding.name CONTAINS \"Vanguard\" AND holding.type = \"Index Fund\" RETURN DISTINCT holding.name\\nExecution Result: []']\n",
      "['VANGUARD INDEX FDS']\n",
      "Based on the provided graph context, I cannot definitively determine if Miracle Mile Advisors owns any Vanguard Index funds. However, the context does show that Miracle Mile Advisors owns some Vanguard funds, though it's not specified if they are index funds. Given this information and the question asked, I'll provide the most relevant answer possible:\n",
      "\n",
      "<answers>\n",
      "VANGUARD INDEX FDS\n",
      "</answers>\n"
     ]
    }
   ],
   "source": [
    "from graphrag_toolkit.byokg_rag.byokg_query_engine import ByoKGQueryEngine\n",
    "\n",
    "byokg_query_engine = ByoKGQueryEngine(\n",
    "    graph_store=graph_store,\n",
    "    kg_linker=kg_linker,\n",
    "    cypher_kg_linker=None, # deactivate cypher linker and rely on entity linker\n",
    "    triplet_retriever=triplet_retriever,\n",
    "    path_retriever=path_retriever,\n",
    "    entity_linker=entity_linker\n",
    ")\n",
    "\n",
    "iterations=1\n",
    "retrieved_context = byokg_query_engine.query(question, iterations=iterations)\n",
    "answers, response = byokg_query_engine.generate_response(question, \"\\n\".join(retrieved_context))\n",
    "\n",
    "print(retrieved_context)\n",
    "print(answers)\n",
    "print(response)"
   ]
  }
 ],
 "metadata": {
  "kernelspec": {
   "display_name": "gtool",
   "language": "python",
   "name": "python3"
  },
  "language_info": {
   "codemirror_mode": {
    "name": "ipython",
    "version": 3
   },
   "file_extension": ".py",
   "mimetype": "text/x-python",
   "name": "python",
   "nbconvert_exporter": "python",
   "pygments_lexer": "ipython3",
   "version": "3.12.0"
  }
 },
 "nbformat": 4,
 "nbformat_minor": 5
}
