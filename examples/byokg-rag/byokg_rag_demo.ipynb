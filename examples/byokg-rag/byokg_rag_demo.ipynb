{
 "cells": [
  {
   "cell_type": "markdown",
   "id": "2ad881f1",
   "metadata": {},
   "source": [
    "# BYOKG RAG Demo\n",
    "This notebook demonstrates a RAG (Retrieval Augmented Generation) system built on top of a Knowledge Graph. The system allows querying a knowledge graph using natural language questions and retrieving relevant information to generate answers.\n",
    "\n",
    "1. **Graph Store**: Manages the knowledge graph data structure\n",
    "2. **KG Linker**: Links natural language queries to graph entities and paths\n",
    "3. **Entity Linker**: Matches entities from text to graph nodes\n",
    "4. **Triplet Retriever**: Retrieves relevant triplets from the graph\n",
    "5. **Path Retriever**: Finds paths between entities in the graph\n",
    "6. **Query Engine**: Orchestrates all components to answer questions"
   ]
  },
  {
   "cell_type": "code",
   "execution_count": 8,
   "id": "f008922f",
   "metadata": {},
   "outputs": [],
   "source": [
    "import sys\n",
    "import os\n",
    "\n",
    "# Add the project root to Python path\n",
    "current_file = os.path.abspath('__file__')\n",
    "project_root = os.path.dirname(os.path.dirname(os.path.dirname(current_file)))\n",
    "src_path = os.path.join(project_root, 'byokg-rag')\n",
    "sys.path.append(src_path)"
   ]
  },
  {
   "cell_type": "markdown",
   "id": "e8d4754e",
   "metadata": {},
   "source": [
    "### Graph Store\n",
    "The `LocalKGStore` class provides an interface to work with the knowledge graph. Here we\n",
    "1. Initialize the graph store\n",
    "2. Load data from a CSV file\n",
    "3. Get basic statistics about the graph\n",
    "4. Examine sample edges for a specific node (Wynton Marsalis)"
   ]
  },
  {
   "cell_type": "code",
   "execution_count": 9,
   "id": "bfae6b0c",
   "metadata": {},
   "outputs": [
    {
     "name": "stdout",
     "output_type": "stream",
     "text": [
      "The graph has 1691 nodes and 21911 edges.\n",
      "Some neighboring edges of node 'Wynton Marsalis' are:  [('people.person.nationality', [('Wynton Marsalis', 'people.person.nationality', 'United States of America')]), ('people.person.gender', [('Wynton Marsalis', 'people.person.gender', 'Male')]), ('freebase.valuenotation.is_reviewed', [('Wynton Marsalis', 'freebase.valuenotation.is_reviewed', 'Country of nationality'), ('Wynton Marsalis', 'freebase.valuenotation.is_reviewed', 'Date of birth'), ('Wynton Marsalis', 'freebase.valuenotation.is_reviewed', 'Gender'), ('Wynton Marsalis', 'freebase.valuenotation.is_reviewed', 'Place of birth')])]\n"
     ]
    }
   ],
   "source": [
    "from src.graphstore import LocalKGStore\n",
    "\n",
    "graph_store = LocalKGStore()\n",
    "graph_store.read_from_csv('data/freebase_tiny_kg.csv')\n",
    "# Print graph statistics\n",
    "schema = graph_store.get_schema()\n",
    "number_of_nodes = len(graph_store.nodes())\n",
    "number_of_edges = len(graph_store.get_triplets())\n",
    "print(f\"The graph has {number_of_nodes} nodes and {number_of_edges} edges.\")\n",
    "\n",
    "# Let's also see neighbor edges of node \"Wynton Marsalis\"\n",
    "import random\n",
    "sample_triplets = graph_store.get_one_hop_edges([\"Wynton Marsalis\"])\n",
    "sample_triplets = random.sample(list(sample_triplets[\"Wynton Marsalis\"].items()), 3)\n",
    "print(\"Some neighboring edges of node 'Wynton Marsalis' are: \", sample_triplets)\n"
   ]
  },
  {
   "cell_type": "markdown",
   "id": "2e4a06a1",
   "metadata": {},
   "source": [
    "### Question Answering\n",
    "\n",
    "We define a sample question and its ground truth answer to test our system. The question requires reasoning through multiple hops in the knowledge graph to find the answer."
   ]
  },
  {
   "cell_type": "code",
   "execution_count": 10,
   "id": "3965af5b",
   "metadata": {},
   "outputs": [],
   "source": [
    "question = \"What genre of film is associated with the place where Wynton Marsalis was born?\"\n",
    "answer = \"Backstage Musical\""
   ]
  },
  {
   "cell_type": "markdown",
   "id": "1401f060",
   "metadata": {},
   "source": [
    "### KG Linker\n",
    "The `KGLinker` uses an LLM (Claude 3.5 Sonnet) to:\n",
    "1. Extract entities from the question\n",
    "2. Identify potential relationship paths in the graph\n",
    "3. Generate initial responses based on its knowledge"
   ]
  },
  {
   "cell_type": "code",
   "execution_count": 11,
   "id": "5e6699b1",
   "metadata": {},
   "outputs": [
    {
     "data": {
      "text/plain": [
       "\"I understand that I need to analyze the given question, extract relevant entities, identify relationship paths, and provide potential answers based on the given schema. I'll proceed with each task as requested.\\n\\n### Task: Entity Extraction\\n\\n<entities>\\nWynton Marsalis\\n</entities>\\n\\n### Task: Relationship Path Identification\\n\\n<paths>\\npeople.person.place_of_birth -> location.location.containedby\\npeople.person.place_of_birth -> location.location.geolocation\\nfilm.film_location.featured_in_films -> film.film.genre\\n</paths>\\n\\n### Task: Question Answering\\n\\n<answers>\\n</answers>\\n\\nI cannot provide a definitive answer based solely on the given information and schema. The question requires knowledge about Wynton Marsalis's birthplace and its association with a film genre, which is not directly available in the provided schema or my knowledge base without additional context.\""
      ]
     },
     "execution_count": 11,
     "metadata": {},
     "output_type": "execute_result"
    }
   ],
   "source": [
    "\n",
    "from src.graph_connectors import KGLinker\n",
    "from src.llm import BedrockGenerator\n",
    "\n",
    "\n",
    "\n",
    "# Initialize llm\n",
    "llm_generator = BedrockGenerator(\n",
    "                model_name='us.anthropic.claude-3-5-sonnet-20240620-v1:0',\n",
    "                region_name='us-west-2')\n",
    "\n",
    "kg_linker = KGLinker(graph_store=graph_store, llm_generator=llm_generator)\n",
    "response = kg_linker.generate_response(\n",
    "                question=question,\n",
    "                schema=schema,\n",
    "                graph_context=\"Not provided. Use the above schema to understand the graph.\"\n",
    "            )\n",
    "response\n"
   ]
  },
  {
   "cell_type": "code",
   "execution_count": 12,
   "id": "9c42fb7e",
   "metadata": {},
   "outputs": [
    {
     "data": {
      "text/plain": [
       "{'entity-extraction': ['Wynton Marsalis'],\n",
       " 'path-extraction': ['people.person.place_of_birth -> location.location.containedby',\n",
       "  'people.person.place_of_birth -> location.location.geolocation',\n",
       "  'film.film_location.featured_in_films -> film.film.genre'],\n",
       " 'draft-answer-generation': []}"
      ]
     },
     "execution_count": 12,
     "metadata": {},
     "output_type": "execute_result"
    }
   ],
   "source": [
    "artifacts = kg_linker.parse_response(response)\n",
    "artifacts"
   ]
  },
  {
   "cell_type": "markdown",
   "id": "d5cfc82c",
   "metadata": {},
   "source": [
    "### Entity Linking\n",
    "The `EntityLinker` uses fuzzy string matching to\n",
    "1. Match extracted entities to actual nodes in the graph\n",
    "3. Link potential answers to graph nodes"
   ]
  },
  {
   "cell_type": "code",
   "execution_count": 13,
   "id": "dde72518",
   "metadata": {},
   "outputs": [
    {
     "data": {
      "text/plain": [
       "(['Wynton Marsalis'], [])"
      ]
     },
     "execution_count": 13,
     "metadata": {},
     "output_type": "execute_result"
    }
   ],
   "source": [
    "from src.indexing import FuzzyStringIndex\n",
    "from src.graph_retrievers import EntityLinker\n",
    "\n",
    "# Add graph nodes text for string matching\n",
    "string_index = FuzzyStringIndex()\n",
    "string_index.add(graph_store.nodes())\n",
    "retriever = string_index.as_entity_matcher()\n",
    "entity_linker = EntityLinker(retriever=retriever)\n",
    "\n",
    "linked_entities = entity_linker.link(artifacts[\"entity-extraction\"], return_dict=False)\n",
    "linked_answers = entity_linker.link(artifacts[\"draft-answer-generation\"], return_dict=False)\n",
    "linked_entities, linked_answers"
   ]
  },
  {
   "cell_type": "markdown",
   "id": "cb56d7d7",
   "metadata": {},
   "source": [
    "### Triplet Retrieval\n",
    "The `AgenticRetriever` uses an LLM to:\n",
    "1. Navigate the graph starting from linked entities\n",
    "2. Select relevant relations based on the question\n",
    "3. Expand those relations and decide which relevant entities to explore next.\n",
    "4. It returns the relevant (head->relation->tail) based on the question.\n"
   ]
  },
  {
   "cell_type": "code",
   "execution_count": 14,
   "id": "5438c866",
   "metadata": {},
   "outputs": [],
   "source": [
    "from src.graph_retrievers import AgenticRetriever\n",
    "from src.graph_retrievers import GTraversal, TripletGVerbalizer\n",
    "graph_traversal = GTraversal(graph_store)\n",
    "graph_verbalizer = TripletGVerbalizer()\n",
    "triplet_retriever = AgenticRetriever(\n",
    "    llm_generator=llm_generator, \n",
    "    graph_traversal=graph_traversal,\n",
    "    graph_verbalizer=graph_verbalizer)"
   ]
  },
  {
   "cell_type": "code",
   "execution_count": 15,
   "id": "91c66868",
   "metadata": {},
   "outputs": [
    {
     "data": {
      "text/plain": [
       "['Wynton Marsalis -> music.artist.genre -> Big Band | Jazz',\n",
       " 'Wynton Marsalis -> people.person.place_of_birth -> New Orleans',\n",
       " 'New Orleans -> location.location.containedby -> Louisiana | United States of America | Orleans Parish',\n",
       " 'New Orleans -> common.topic.notable_types -> Film | City/Town/Village',\n",
       " 'New Orleans -> film.film_location.featured_in_films -> Easy Rider',\n",
       " 'New Orleans -> film.film.genre -> Backstage Musical',\n",
       " 'Film -> common.topic.subjects -> Mervin Praison | Brian Keith Kennedy | Billy Sorrentino',\n",
       " 'Film -> common.topic.subject_of -> Mervin Praison | Billy Sorrentino',\n",
       " 'Film -> type.domain.types -> Film character | Film performance | Film writer',\n",
       " 'Film -> media_common.quotation_subject.quotations_about_this_subject -> Movies are a fad. Audiences really want to see live actors on a stage.']"
      ]
     },
     "execution_count": 15,
     "metadata": {},
     "output_type": "execute_result"
    }
   ],
   "source": [
    "triplet_context = triplet_retriever.retrieve(query=question, source_nodes=linked_entities)\n",
    "triplet_context"
   ]
  },
  {
   "cell_type": "markdown",
   "id": "d5da3c24",
   "metadata": {},
   "source": [
    "### Path Retrieval\n",
    "The `PathRetriever` uses the identified metapaths and candidate answers to:\n",
    "1. Retrieve actual paths in the graph following the metapath\n",
    "2. Retrieve shortest paths connecting question entities and candidate answers (if any) \n",
    "3. Verbalize the paths for context"
   ]
  },
  {
   "cell_type": "code",
   "execution_count": 16,
   "id": "7576abf8",
   "metadata": {},
   "outputs": [
    {
     "data": {
      "text/plain": [
       "['Wynton Marsalis -> people.person.place_of_birth > New Orleans-> location.location.containedby -> Orleans Parish | Louisiana | United States of America']"
      ]
     },
     "execution_count": 16,
     "metadata": {},
     "output_type": "execute_result"
    }
   ],
   "source": [
    "from src.graph_retrievers import PathRetriever\n",
    "from src.graph_retrievers import GTraversal, PathVerbalizer\n",
    "graph_traversal = GTraversal(graph_store)\n",
    "path_verbalizer = PathVerbalizer()\n",
    "path_retriever = PathRetriever(\n",
    "    graph_traversal=graph_traversal,\n",
    "    path_verbalizer=path_verbalizer)\n",
    "\n",
    "metapaths = [[component.strip() for component in path.split(\"->\")] for path in artifacts[\"path-extraction\"]]\n",
    "shortened_paths = []\n",
    "for path in metapaths:\n",
    "    if len(path) > 2:\n",
    "        shortened_paths.append(path[:2])\n",
    "metapaths += shortened_paths\n",
    "path_context = path_retriever.retrieve(linked_entities, metapaths, linked_answers)\n",
    "path_context"
   ]
  },
  {
   "cell_type": "markdown",
   "id": "a981d132",
   "metadata": {},
   "source": [
    "### Retrieval Evaluation\n",
    "\n",
    "We evaluate whether the answer is found in the retrieved context."
   ]
  },
  {
   "cell_type": "code",
   "execution_count": 17,
   "id": "07aee5c6",
   "metadata": {},
   "outputs": [
    {
     "name": "stdout",
     "output_type": "stream",
     "text": [
      "Success! Ground-truth answer `Backstage Musical` retrieved!\n"
     ]
    }
   ],
   "source": [
    "context = list(set(triplet_context + path_context))\n",
    "print(f\"Success! Ground-truth answer `{answer}` retrieved!\") if answer in '\\n'.join(context) else print(\"Failure..\")\n"
   ]
  },
  {
   "cell_type": "markdown",
   "id": "c6b5307b",
   "metadata": {},
   "source": [
    "### BYOKG RAG Pipeline\n",
    "\n",
    "The `ByoKGQueryEngine` combines all components to:\n",
    "1. Process natural language questions\n",
    "2. Retrieve relevant context from the graph\n",
    "3. Generate answers based on the retrieved information"
   ]
  },
  {
   "cell_type": "code",
   "execution_count": 18,
   "id": "eac11cfe",
   "metadata": {},
   "outputs": [],
   "source": [
    "from src.byokg_query_engine import ByoKGQueryEngine\n",
    "byokg_query_engine = ByoKGQueryEngine(\n",
    "    graph_store=graph_store,\n",
    "    kg_linker=kg_linker,\n",
    "    triplet_retriever=triplet_retriever,\n",
    "    path_retriever=path_retriever,\n",
    "    entity_linker=entity_linker\n",
    ")"
   ]
  },
  {
   "cell_type": "code",
   "execution_count": 20,
   "id": "914cc3c2",
   "metadata": {},
   "outputs": [
    {
     "name": "stdout",
     "output_type": "stream",
     "text": [
      "Retrieved context:  Wynton Marsalis -> music.artist.genre -> Big Band | Jazz\n",
      "Wynton Marsalis -> people.person.place_of_birth -> New Orleans\n",
      "New Orleans -> location.location.containedby -> Louisiana | United States of America | Orleans Parish\n",
      "New Orleans -> base.biblioness.bibs_location.state -> Louisiana\n",
      "New Orleans -> film.film_location.featured_in_films -> Easy Rider\n",
      "New Orleans -> film.film.genre -> Backstage Musical\n",
      "New Orleans -> base.biblioness.bibs_location.country -> United States of America\n",
      "Wynton Marsalis -> people.person.place_of_birth > New Orleans-> location.location.containedby -> Orleans Parish | Louisiana | United States of America\n",
      "Generated answers:  ['Backstage Musical']\n",
      "Success! Ground-truth answer `Backstage Musical` retrieved!\n"
     ]
    }
   ],
   "source": [
    "retrieved_context = byokg_query_engine.query(question)\n",
    "answers, response = byokg_query_engine.generate_response(question, \"\\n\".join(retrieved_context))\n",
    "\n",
    "print(\"Retrieved context: \", \"\\n\".join(retrieved_context))\n",
    "print(\"Generated answers: \", answers)\n",
    "print(f\"Success! Ground-truth answer `{answer}` retrieved!\") if answer in '\\n'.join(answers) else print(\"Failure..\")\n"
   ]
  },
  {
   "cell_type": "markdown",
   "id": "dd21e36a",
   "metadata": {},
   "source": [
    "### Testing with Another Question"
   ]
  },
  {
   "cell_type": "code",
   "execution_count": 28,
   "id": "44afebbb",
   "metadata": {},
   "outputs": [],
   "source": [
    "question=\"What are all airports in the city where New York Times is circulated?\"\n",
    "retrieved_context = byokg_query_engine.query(question)\n"
   ]
  },
  {
   "cell_type": "code",
   "execution_count": 29,
   "id": "daec40ef",
   "metadata": {},
   "outputs": [
    {
     "name": "stdout",
     "output_type": "stream",
     "text": [
      "Retrieved context:  Columbia Regional Airport -> aviation.airport.serves -> Columbia\n",
      "The New York Times -> book.newspaper.circulation_areas -> Staten Island | New York City | United States of America | Queens | Brooklyn\n",
      "Louis Armstrong New Orleans International Airport -> location.location.containedby -> United States of America\n",
      "Louis Armstrong New Orleans International Airport -> aviation.airport.serves -> New Orleans | Search Influence | Aquarium of the Americas | Courtyard New Orleans Downtown Near the French Quarter\n",
      "New York City -> periodicals.newspaper_circulation_area.newspapers -> Manhattan West Side Spirit | The West Side Spirit | Vaba Eesti Sõna | Nowy Dziennik | AM New York | Five Towns Jewish Times | Daily Worker | Spirit of the Times | Catholic Worker | Hoy | The National Sports Daily | The Campus | American Citizen | Il Progresso Italo-Americano | The Aquarian Weekly | Negro World | The Onion | The Sun | The Jewish Daily Forward | Morgen Freiheit | The Capitol | New York Press | New York Call | National Anti-Slavery Standard | El Diario La Prensa | The Morning Star | New York Communist | Columbia Daily Spectator | New Yorker Volkszeitung | Al-Hoda\n",
      "New York City -> location.location.nearby_airports -> LaGuardia Airport | Downtown Manhattan Heliport | East 34th Street Heliport | John F. Kennedy International Airport | Flushing Airport | New York Skyports Inc. Seaplane Base\n",
      "New York City -> location.location.containedby -> United States of America | New York\n",
      "New York City -> location.location.partially_containedby -> Area codes 212 and 646\n",
      "Generated response:  Based on the provided graph context, I can answer the question as follows:\n",
      "\n",
      "<answers>\n",
      "LaGuardia Airport\n",
      "Downtown Manhattan Heliport\n",
      "East 34th Street Heliport\n",
      "John F. Kennedy International Airport\n",
      "Flushing Airport\n",
      "New York Skyports Inc. Seaplane Base\n",
      "</answers>\n"
     ]
    }
   ],
   "source": [
    "print(\"Retrieved context: \", \"\\n\".join(retrieved_context))\n",
    "answers, response = byokg_query_engine.generate_response(question, \"\\n\".join(retrieved_context))\n",
    "print(\"Generated response: \", response)\n"
   ]
  }
 ],
 "metadata": {
  "kernelspec": {
   "display_name": "gtool",
   "language": "python",
   "name": "python3"
  },
  "language_info": {
   "codemirror_mode": {
    "name": "ipython",
    "version": 3
   },
   "file_extension": ".py",
   "mimetype": "text/x-python",
   "name": "python",
   "nbconvert_exporter": "python",
   "pygments_lexer": "ipython3",
   "version": "3.12.0"
  }
 },
 "nbformat": 4,
 "nbformat_minor": 5
}
