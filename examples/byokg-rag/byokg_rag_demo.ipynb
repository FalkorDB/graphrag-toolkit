{
 "cells": [
  {
   "cell_type": "markdown",
   "id": "2ad881f1",
   "metadata": {},
   "source": [
    "# BYOKG RAG Demo\n",
    "This notebook demonstrates a RAG (Retrieval Augmented Generation) system built on top of a Knowledge Graph. The system allows querying a knowledge graph using natural language questions and retrieving relevant information to generate answers.\n",
    "\n",
    "1. **Graph Store**: Manages the knowledge graph data structure\n",
    "2. **KG Linker**: Links natural language queries to graph entities and paths\n",
    "3. **Entity Linker**: Matches entities from text to graph nodes\n",
    "4. **Triplet Retriever**: Retrieves relevant triplets from the graph\n",
    "5. **Path Retriever**: Finds paths between entities in the graph\n",
    "6. **Query Engine**: Orchestrates all components to answer questions"
   ]
  },
  {
   "cell_type": "code",
   "execution_count": 15,
   "id": "f008922f",
   "metadata": {},
   "outputs": [],
   "source": [
    "import sys\n",
    "import os\n",
    "\n",
    "# Add the project root to Python path\n",
    "current_file = os.path.abspath('__file__')\n",
    "project_root = os.path.dirname(os.path.dirname(os.path.dirname(current_file)))\n",
    "src_path = os.path.join(project_root, 'byokg-rag')\n",
    "sys.path.append(src_path)"
   ]
  },
  {
   "cell_type": "markdown",
   "id": "e8d4754e",
   "metadata": {},
   "source": [
    "### Graph Store\n",
    "The `LocalKGStore` class provides an interface to work with the knowledge graph. Here we\n",
    "1. Initialize the graph store\n",
    "2. Load data from a CSV file\n",
    "3. Get basic statistics about the graph\n",
    "4. Examine sample edges for a specific node (Wynton Marsalis)"
   ]
  },
  {
   "cell_type": "code",
   "execution_count": 16,
   "id": "bfae6b0c",
   "metadata": {},
   "outputs": [
    {
     "name": "stdout",
     "output_type": "stream",
     "text": [
      "The graph has 1691 nodes and 21911 edges.\n",
      "Some neighboring edges of node 'Wynton Marsalis' are:  [('music.group_member.instruments_played', [('Wynton Marsalis', 'music.group_member.instruments_played', 'Trumpet')]), ('people.person.profession', [('Wynton Marsalis', 'people.person.profession', 'Trumpeter'), ('Wynton Marsalis', 'people.person.profession', 'Actor'), ('Wynton Marsalis', 'people.person.profession', 'Musician')]), ('people.person.place_of_birth', [('Wynton Marsalis', 'people.person.place_of_birth', 'New Orleans')])]\n"
     ]
    }
   ],
   "source": [
    "from src.graphstore import LocalKGStore\n",
    "\n",
    "graph_store = LocalKGStore()\n",
    "graph_store.read_from_csv('data/freebase_tiny_kg.csv')\n",
    "# Print graph statistics\n",
    "schema = graph_store.get_schema()\n",
    "number_of_nodes = len(graph_store.nodes())\n",
    "number_of_edges = len(graph_store.get_triplets())\n",
    "print(f\"The graph has {number_of_nodes} nodes and {number_of_edges} edges.\")\n",
    "\n",
    "# Let's also see neighbor edges of node \"Wynton Marsalis\"\n",
    "import random\n",
    "sample_triplets = graph_store.get_one_hop_edges([\"Wynton Marsalis\"])\n",
    "sample_triplets = random.sample(list(sample_triplets[\"Wynton Marsalis\"].items()), 3)\n",
    "print(\"Some neighboring edges of node 'Wynton Marsalis' are: \", sample_triplets)\n"
   ]
  },
  {
   "cell_type": "markdown",
   "id": "2e4a06a1",
   "metadata": {},
   "source": [
    "### Question Answering\n",
    "\n",
    "We define a sample question and its ground truth answer to test our system. The question requires reasoning through multiple hops in the knowledge graph to find the answer."
   ]
  },
  {
   "cell_type": "code",
   "execution_count": 3,
   "id": "3965af5b",
   "metadata": {},
   "outputs": [],
   "source": [
    "question = \"What genre of film is associated with the place where Wynton Marsalis was born?\"\n",
    "answer = \"Backstage Musical\""
   ]
  },
  {
   "cell_type": "markdown",
   "id": "1401f060",
   "metadata": {},
   "source": [
    "### KG Linker\n",
    "The `KGLinker` uses an LLM (Claude 3.5 Sonnet) to:\n",
    "1. Extract entities from the question\n",
    "2. Identify potential relationship paths in the graph\n",
    "3. Generate initial responses based on its knowledge"
   ]
  },
  {
   "cell_type": "code",
   "execution_count": 4,
   "id": "5e6699b1",
   "metadata": {},
   "outputs": [
    {
     "data": {
      "text/plain": [
       "\"I understand that I need to analyze the question, extract relevant entities, identify relationship paths, and provide potential answers based on the given schema. I'll address each task separately.\\n\\n### Task: Entity Extraction\\n\\n<entities>\\nWynton Marsalis\\n</entities>\\n\\n### Task: Relationship Path Identification\\n\\n<paths>\\npeople.person.place_of_birth -> location.location.containedby\\npeople.person.place_of_birth -> location.location.geolocation\\nmusic.artist.origin -> location.location.containedby\\nmusic.artist.origin -> location.location.geolocation\\n</paths>\\n\\n### Task: Question Answering\\n\\n<answers>\\n</answers>\\n\\nI cannot provide a definitive answer based solely on the given information and schema. The question asks about the genre of film associated with Wynton Marsalis' birthplace, but the schema doesn't provide a direct connection between a person's birthplace and film genres. To answer this question accurately, we would need additional information or data that links locations to specific film genres, which is not present in the provided schema.\""
      ]
     },
     "execution_count": 4,
     "metadata": {},
     "output_type": "execute_result"
    }
   ],
   "source": [
    "\n",
    "from src.graph_connectors import KGLinker\n",
    "from src.llm import BedrockGenerator\n",
    "\n",
    "\n",
    "\n",
    "# Initialize llm\n",
    "llm_generator = BedrockGenerator(\n",
    "                model_name='us.anthropic.claude-3-5-sonnet-20240620-v1:0',\n",
    "                region_name='us-west-2')\n",
    "\n",
    "kg_linker = KGLinker(graph_store=graph_store, llm_generator=llm_generator)\n",
    "response = kg_linker.generate_response(\n",
    "                question=question,\n",
    "                schema=schema,\n",
    "                graph_context=\"Not provided. Use the above schema to understand the graph.\"\n",
    "            )\n",
    "response\n"
   ]
  },
  {
   "cell_type": "code",
   "execution_count": 5,
   "id": "9c42fb7e",
   "metadata": {},
   "outputs": [
    {
     "data": {
      "text/plain": [
       "{'entity-extraction': ['Wynton Marsalis'],\n",
       " 'path-extraction': ['people.person.place_of_birth -> location.location.containedby',\n",
       "  'people.person.place_of_birth -> location.location.geolocation',\n",
       "  'music.artist.origin -> location.location.containedby',\n",
       "  'music.artist.origin -> location.location.geolocation'],\n",
       " 'answer-generation': []}"
      ]
     },
     "execution_count": 5,
     "metadata": {},
     "output_type": "execute_result"
    }
   ],
   "source": [
    "artifacts = kg_linker.parse_response(response)\n",
    "artifacts"
   ]
  },
  {
   "cell_type": "markdown",
   "id": "d5cfc82c",
   "metadata": {},
   "source": [
    "### Entity Linking\n",
    "The `EntityLinker` uses fuzzy string matching to\n",
    "1. Match extracted entities to actual nodes in the graph\n",
    "3. Link potential answers to graph nodes"
   ]
  },
  {
   "cell_type": "code",
   "execution_count": 6,
   "id": "dde72518",
   "metadata": {},
   "outputs": [
    {
     "name": "stderr",
     "output_type": "stream",
     "text": [
      "/opt/conda/envs/gtool/lib/python3.12/site-packages/tqdm/auto.py:21: TqdmWarning: IProgress not found. Please update jupyter and ipywidgets. See https://ipywidgets.readthedocs.io/en/stable/user_install.html\n",
      "  from .autonotebook import tqdm as notebook_tqdm\n"
     ]
    },
    {
     "data": {
      "text/plain": [
       "(['Wynton Marsalis'], [])"
      ]
     },
     "execution_count": 6,
     "metadata": {},
     "output_type": "execute_result"
    }
   ],
   "source": [
    "from src.indexing import FuzzyStringIndex\n",
    "from src.graph_retrievers import EntityLinker\n",
    "\n",
    "# Add graph nodes text for string matching\n",
    "string_index = FuzzyStringIndex()\n",
    "string_index.add(graph_store.nodes())\n",
    "retriever = string_index.as_entity_matcher()\n",
    "entity_linker = EntityLinker(retriever=retriever)\n",
    "\n",
    "linked_entities = entity_linker.link(artifacts[\"entity-extraction\"], return_dict=False)\n",
    "linked_answers = entity_linker.link(artifacts[\"answer-generation\"], return_dict=False)\n",
    "linked_entities, linked_answers"
   ]
  },
  {
   "cell_type": "markdown",
   "id": "cb56d7d7",
   "metadata": {},
   "source": [
    "### Triplet Retrieval\n",
    "The `AgenticRetriever` uses an LLM to:\n",
    "1. Navigate the graph starting from linked entities\n",
    "2. Select relevant relations based on the question\n",
    "3. Expand those relations and decide which relevant entities to explore next.\n",
    "4. It returns the relevant (head->relation->tail) based on the question.\n"
   ]
  },
  {
   "cell_type": "code",
   "execution_count": 7,
   "id": "5438c866",
   "metadata": {},
   "outputs": [],
   "source": [
    "from src.graph_retrievers import AgenticRetriever\n",
    "from src.graph_retrievers import GTraversal, TripletGVerbalizer\n",
    "graph_traversal = GTraversal(graph_store)\n",
    "graph_verbalizer = TripletGVerbalizer()\n",
    "triplet_retriever = AgenticRetriever(\n",
    "    llm_generator=llm_generator, \n",
    "    graph_traversal=graph_traversal,\n",
    "    graph_verbalizer=graph_verbalizer)"
   ]
  },
  {
   "cell_type": "code",
   "execution_count": 8,
   "id": "91c66868",
   "metadata": {},
   "outputs": [
    {
     "data": {
      "text/plain": [
       "['Wynton Marsalis -> music.artist.genre -> Big Band | Jazz',\n",
       " 'Wynton Marsalis -> people.person.nationality -> United States of America',\n",
       " 'Wynton Marsalis -> people.person.place_of_birth -> New Orleans',\n",
       " 'New Orleans -> location.location.containedby -> Orleans Parish | Louisiana | United States of America',\n",
       " 'New Orleans -> base.biblioness.bibs_location.state -> Louisiana',\n",
       " 'New Orleans -> base.biblioness.bibs_location.country -> United States of America',\n",
       " 'New Orleans -> film.film.genre -> Backstage Musical',\n",
       " 'New Orleans -> film.film_location.featured_in_films -> Easy Rider']"
      ]
     },
     "execution_count": 8,
     "metadata": {},
     "output_type": "execute_result"
    }
   ],
   "source": [
    "triplet_context = triplet_retriever.retrieve(query=question, source_nodes=linked_entities)\n",
    "triplet_context"
   ]
  },
  {
   "cell_type": "markdown",
   "id": "d5da3c24",
   "metadata": {},
   "source": [
    "### Path Retrieval\n",
    "The `PathRetriever` uses the identified metapaths and candidate answers to:\n",
    "1. Retrieve actual paths in the graph following the metapath\n",
    "2. Retrieve shortest paths connecting question entities and candidate answers (if any) \n",
    "3. Verbalize the paths for context"
   ]
  },
  {
   "cell_type": "code",
   "execution_count": 9,
   "id": "7576abf8",
   "metadata": {},
   "outputs": [
    {
     "data": {
      "text/plain": [
       "['Wynton Marsalis -> people.person.place_of_birth > New Orleans-> location.location.containedby -> Orleans Parish | Louisiana | United States of America']"
      ]
     },
     "execution_count": 9,
     "metadata": {},
     "output_type": "execute_result"
    }
   ],
   "source": [
    "from src.graph_retrievers import PathRetriever\n",
    "from src.graph_retrievers import GTraversal, PathVerbalizer\n",
    "graph_traversal = GTraversal(graph_store)\n",
    "path_verbalizer = PathVerbalizer()\n",
    "path_retriever = PathRetriever(\n",
    "    graph_traversal=graph_traversal,\n",
    "    path_verbalizer=path_verbalizer)\n",
    "\n",
    "metapaths = [[component.strip() for component in path.split(\"->\")] for path in artifacts[\"path-extraction\"]]\n",
    "shortened_paths = []\n",
    "for path in metapaths:\n",
    "    if len(path) > 2:\n",
    "        shortened_paths.append(path[:2])\n",
    "metapaths += shortened_paths\n",
    "path_context = path_retriever.retrieve(linked_entities, metapaths, linked_answers)\n",
    "path_context"
   ]
  },
  {
   "cell_type": "markdown",
   "id": "a981d132",
   "metadata": {},
   "source": [
    "### Retrieval Evaluation\n",
    "\n",
    "We evaluate whether the answer is found in the retrieved context."
   ]
  },
  {
   "cell_type": "code",
   "execution_count": 10,
   "id": "07aee5c6",
   "metadata": {},
   "outputs": [
    {
     "name": "stdout",
     "output_type": "stream",
     "text": [
      "Success! Ground-truth answer `Backstage Musical` retrieved!\n"
     ]
    }
   ],
   "source": [
    "context = list(set(triplet_context + path_context))\n",
    "print(f\"Success! Ground-truth answer `{answer}` retrieved!\") if answer in '\\n'.join(context) else print(\"Failure..\")\n"
   ]
  },
  {
   "cell_type": "markdown",
   "id": "c6b5307b",
   "metadata": {},
   "source": [
    "### BYOKG RAG Pipeline\n",
    "\n",
    "The `ByoKGQueryEngine` combines all components to:\n",
    "1. Process natural language questions\n",
    "2. Retrieve relevant context from the graph\n",
    "3. Generate answers based on the retrieved information"
   ]
  },
  {
   "cell_type": "code",
   "execution_count": 11,
   "id": "eac11cfe",
   "metadata": {},
   "outputs": [],
   "source": [
    "from src.byokg_query_engine import ByoKGQueryEngine\n",
    "byokg_query_engine = ByoKGQueryEngine(\n",
    "    graph_store=graph_store,\n",
    "    kg_linker=kg_linker,\n",
    "    triplet_retriever=triplet_retriever,\n",
    "    path_retriever=path_retriever,\n",
    "    entity_linker=entity_linker\n",
    ")"
   ]
  },
  {
   "cell_type": "code",
   "execution_count": 12,
   "id": "914cc3c2",
   "metadata": {},
   "outputs": [
    {
     "name": "stdout",
     "output_type": "stream",
     "text": [
      "Retrieved context:  Wynton Marsalis -> music.artist.genre -> Big Band | Jazz\n",
      "Wynton Marsalis -> people.person.nationality -> United States of America\n",
      "Wynton Marsalis -> people.person.place_of_birth -> New Orleans\n",
      "New Orleans -> location.location.containedby -> Orleans Parish | Louisiana | United States of America\n",
      "New Orleans -> base.biblioness.bibs_location.state -> Louisiana\n",
      "New Orleans -> base.biblioness.bibs_location.country -> United States of America\n",
      "New Orleans -> film.film.genre -> Backstage Musical\n",
      "New Orleans -> film.film_location.featured_in_films -> Easy Rider\n",
      "Wynton Marsalis -> people.person.place_of_birth > New Orleans-> location.location.containedby -> Orleans Parish | Louisiana | United States of America\n",
      "Generated answers:  ['Backstage Musical']\n",
      "Success! Ground-truth answer `Backstage Musical` retrieved!\n"
     ]
    }
   ],
   "source": [
    "retrieved_context, answers = byokg_query_engine.query(question)\n",
    "print(\"Retrieved context: \", \"\\n\".join(retrieved_context))\n",
    "print(\"Generated answers: \", answers)\n",
    "print(f\"Success! Ground-truth answer `{answer}` retrieved!\") if answer in '\\n'.join(answers) else print(\"Failure..\")\n"
   ]
  },
  {
   "cell_type": "markdown",
   "id": "dd21e36a",
   "metadata": {},
   "source": [
    "### Testing with Another Question"
   ]
  },
  {
   "cell_type": "code",
   "execution_count": 13,
   "id": "44afebbb",
   "metadata": {},
   "outputs": [],
   "source": [
    "question=\"What are all airports where New York Times is circulated?\"\n",
    "retrieved_context, answers = byokg_query_engine.query(question)\n"
   ]
  },
  {
   "cell_type": "code",
   "execution_count": 14,
   "id": "daec40ef",
   "metadata": {},
   "outputs": [
    {
     "name": "stdout",
     "output_type": "stream",
     "text": [
      "Retrieved context:  The New York Times -> book.newspaper.circulation_areas -> New York City | Staten Island | Queens | United States of America | Brooklyn\n",
      "Louis Armstrong New Orleans International Airport -> aviation.airport.serves -> Aquarium of the Americas | Search Influence | Courtyard New Orleans Downtown Near the French Quarter | New Orleans\n",
      "Columbia Regional Airport -> aviation.airport.serves -> Columbia\n",
      "Louis Armstrong New Orleans International Airport -> location.location.containedby -> United States of America\n",
      "United States of America -> location.location.partially_contains -> Pembina River | Boundary Butte | Kootenay River | Boundary Peak | Cascade Range | Great Lakes | Saint John River | Mount Quincy Adams | Red River of the North | White River | Souris River | Columbia River | Mount Fairweather | Kettle River | New River | Milk River | Saint Croix River | Santa Cruz River | Tijuana River | Halls Stream | Mount Hubbard | Alsek River | St. Clair River | Niagara Falls | Porcupine River | Good Neighbor Peak | Saint Francis River | Fortymile River | Stikine River | Similkameen River | Pacific Coast Ranges | Mount Alverstone | St. Marys River | Rio Grande | Aroostook River | Mount Cook | Meduxnekeag River | American Falls | Caribou Mountain | Richelieu River | Rocky Mountains | Skagit River | Okanogan River | Colorado River | Frenchman River | Missisquoi River | Pend Oreille River | Yukon River | Detroit River | Saint Lawrence River | Mount Augusta | Roseau River | Mount Saint Elias\n",
      "New York City -> periodicals.newspaper_circulation_area.newspapers -> The Morning Star | The Sun | Catholic Worker | Columbia Daily Spectator | National Anti-Slavery Standard | Al-Hoda | Spirit of the Times | Il Progresso Italo-Americano | Nowy Dziennik | American Citizen | The Capitol | Negro World | New Yorker Volkszeitung | The Campus | The Onion | New York Communist | The Jewish Daily Forward | The Aquarian Weekly | Manhattan West Side Spirit | The West Side Spirit | Vaba Eesti Sõna | The National Sports Daily | Five Towns Jewish Times | Hoy | New York Call | New York Press | Morgen Freiheit | AM New York | Daily Worker | El Diario La Prensa\n",
      "United States of America -> periodicals.newspaper_circulation_area.newspapers -> Nordstjernan | National Observer | Cóndor | Navy Times | Dziennik Związkowy | Industrial Worker | The Washington Times | The Washington Post | Laisvė | American Free Press | Draugas | North Star | Willamette Week | The Liberator | New York World | China Daily | Los Angeles Herald-Examiner | Malden Evening News | People's World | The New York Times | New Yorker Staats-Zeitung | The Economist | Los Angeles Times | Stars and Stripes | Union Jack | Memphis Business Journal | Gazette van Detroit | Weekly World News | Financial Times | Hunchak | USA Today | Zaman | Gazette of the United States | Film Daily | The Chronicle of Higher Education | JoongAng Ilbo | Morgen Freiheit | The Guardian Weekly | La Opinión | Den Danske Pioneer | Investor's Business Daily | New-York Tribune | Le Moniteur Universel | The Village Voice\n",
      "United States of America -> location.location.containedby -> DVD Region 1 | United States, with Territories | Americas\n",
      "New York City -> location.location.nearby_airports -> Downtown Manhattan Heliport | East 34th Street Heliport | LaGuardia Airport | John F. Kennedy International Airport | Flushing Airport | New York Skyports Inc. Seaplane Base\n",
      "New York City -> location.location.partially_contains -> Ellis Island\n",
      "New York City -> location.location.containedby -> United States of America | New York\n",
      "New York City -> location.location.geolocation -> m.0kfn9s\n",
      "United States of America -> location.location.geolocation -> m.046vxfq\n",
      "The New York Times -> book.newspaper.circulation_areas > New York City-> location.location.nearby_airports -> Flushing Airport | East 34th Street Heliport | Downtown Manhattan Heliport | New York Skyports Inc. Seaplane Base | John F. Kennedy International Airport | LaGuardia Airport\n",
      "Generated answers:  ['LaGuardia Airport', 'John F. Kennedy International Airport', 'Flushing Airport', 'Downtown Manhattan Heliport', 'East 34th Street Heliport', 'New York Skyports Inc. Seaplane Base']\n",
      "Success!\n"
     ]
    }
   ],
   "source": [
    "print(\"Retrieved context: \", \"\\n\".join(retrieved_context))\n",
    "print(\"Generated answers: \", answers)\n",
    "correct_answers = ['LaGuardia Airport', 'John F. Kennedy International Airport', 'East 34th Street Heliport', 'Downtown Manhattan Heliport', 'New York Skyports Inc. Seaplane Base', 'Flushing Airport']\n",
    "if set(correct_answers)==set(answers):\n",
    "    print(f\"Success!\") \n"
   ]
  }
 ],
 "metadata": {
  "kernelspec": {
   "display_name": "gtool",
   "language": "python",
   "name": "python3"
  },
  "language_info": {
   "codemirror_mode": {
    "name": "ipython",
    "version": 3
   },
   "file_extension": ".py",
   "mimetype": "text/x-python",
   "name": "python",
   "nbconvert_exporter": "python",
   "pygments_lexer": "ipython3",
   "version": "3.12.0"
  }
 },
 "nbformat": 4,
 "nbformat_minor": 5
}
