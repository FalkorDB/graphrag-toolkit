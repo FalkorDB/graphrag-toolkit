{
 "cells": [
  {
   "cell_type": "markdown",
   "id": "2ad881f1",
   "metadata": {},
   "source": [
    "# BYOKG RAG Demo\n",
    "This notebook demonstrates a RAG (Retrieval Augmented Generation) system built on top of a Knowledge Graph. The system allows querying a knowledge graph using natural language questions and retrieving relevant information to generate answers.\n",
    "\n",
    "1. **Graph Store**: Manages the knowledge graph data structure\n",
    "2. **KG Linker**: Links natural language queries to graph entities and paths\n",
    "3. **Entity Linker**: Matches entities from text to graph nodes\n",
    "4. **Triplet Retriever**: Retrieves relevant triplets from the graph\n",
    "5. **Path Retriever**: Finds paths between entities in the graph\n",
    "6. **Query Engine**: Orchestrates all components to answer questions"
   ]
  },
  {
   "cell_type": "markdown",
   "id": "1f71f996",
   "metadata": {},
   "source": [
    "#### Setup\n",
    "If you haven't already, install the toolkit and dependencies in [README.md](../../byokg-rag/README.md).\n",
    "Let's validate if the package is correctly installed."
   ]
  },
  {
   "cell_type": "code",
   "execution_count": 6,
   "id": "aceff478",
   "metadata": {},
   "outputs": [],
   "source": [
    "import graphrag_toolkit.byokg_rag"
   ]
  },
  {
   "cell_type": "code",
   "execution_count": 1,
   "id": "fcbdac31-35e0-4cd3-9456-2d7ab58a172e",
   "metadata": {},
   "outputs": [
    {
     "name": "stdout",
     "output_type": "stream",
     "text": [
      "Collecting https://github.com/awslabs/graphrag-toolkit/archive/refs/tags/v3.8.0.zip#subdirectory=byokg-rag\n",
      "  Downloading https://github.com/awslabs/graphrag-toolkit/archive/refs/tags/v3.8.0.zip\n",
      "\u001b[2K     \u001b[32m|\u001b[0m \u001b[32m2.7 MB\u001b[0m \u001b[31m16.2 MB/s\u001b[0m \u001b[33m0:00:00\u001b[0m\n",
      "\u001b[?25h  Installing build dependencies ... \u001b[?25ldone\n",
      "\u001b[?25h  Getting requirements to build wheel ... \u001b[?25ldone\n",
      "\u001b[?25h  Preparing metadata (pyproject.toml) ... \u001b[?25ldone\n",
      "\u001b[?25hRequirement already satisfied: boto3 in /home/ec2-user/anaconda3/envs/JupyterSystemEnv/lib/python3.10/site-packages (from graphrag-toolkit-byokg-rag==0.0.1) (1.38.1)\n",
      "Requirement already satisfied: colorama in /home/ec2-user/anaconda3/envs/JupyterSystemEnv/lib/python3.10/site-packages (from graphrag-toolkit-byokg-rag==0.0.1) (0.4.6)\n",
      "Collecting faiss-cpu==1.9.0 (from graphrag-toolkit-byokg-rag==0.0.1)\n",
      "  Downloading faiss_cpu-1.9.0-cp310-cp310-manylinux_2_17_x86_64.manylinux2014_x86_64.whl.metadata (4.4 kB)\n",
      "Requirement already satisfied: ipykernel in /home/ec2-user/anaconda3/envs/JupyterSystemEnv/lib/python3.10/site-packages (from graphrag-toolkit-byokg-rag==0.0.1) (6.29.5)\n",
      "Collecting langchain-huggingface (from graphrag-toolkit-byokg-rag==0.0.1)\n",
      "  Downloading langchain_huggingface-0.2.0-py3-none-any.whl.metadata (941 bytes)\n",
      "Collecting numpy>=1.26.4 (from graphrag-toolkit-byokg-rag==0.0.1)\n",
      "  Downloading numpy-2.2.6-cp310-cp310-manylinux_2_17_x86_64.manylinux2014_x86_64.whl.metadata (62 kB)\n",
      "Requirement already satisfied: pydantic>=2.8.2 in /home/ec2-user/anaconda3/envs/JupyterSystemEnv/lib/python3.10/site-packages (from graphrag-toolkit-byokg-rag==0.0.1) (2.11.3)\n",
      "Collecting pytest (from graphrag-toolkit-byokg-rag==0.0.1)\n",
      "  Downloading pytest-8.4.0-py3-none-any.whl.metadata (7.7 kB)\n",
      "Requirement already satisfied: pyyaml in /home/ec2-user/anaconda3/envs/JupyterSystemEnv/lib/python3.10/site-packages (from graphrag-toolkit-byokg-rag==0.0.1) (6.0.2)\n",
      "Collecting scipy>=1.15.3 (from graphrag-toolkit-byokg-rag==0.0.1)\n",
      "  Downloading scipy-1.15.3-cp310-cp310-manylinux_2_17_x86_64.manylinux2014_x86_64.whl.metadata (61 kB)\n",
      "Collecting thefuzz (from graphrag-toolkit-byokg-rag==0.0.1)\n",
      "  Downloading thefuzz-0.22.1-py3-none-any.whl.metadata (3.9 kB)\n",
      "Collecting torch (from graphrag-toolkit-byokg-rag==0.0.1)\n",
      "  Downloading torch-2.6.0-cp310-cp310-manylinux1_x86_64.whl.metadata (28 kB)\n",
      "Collecting transformers>=4.44.2 (from graphrag-toolkit-byokg-rag==0.0.1)\n",
      "  Downloading transformers-4.52.4-py3-none-any.whl.metadata (38 kB)\n",
      "Collecting xmltodict (from graphrag-toolkit-byokg-rag==0.0.1)\n",
      "  Downloading xmltodict-0.14.2-py2.py3-none-any.whl.metadata (8.0 kB)\n",
      "Requirement already satisfied: packaging in /home/ec2-user/anaconda3/envs/JupyterSystemEnv/lib/python3.10/site-packages (from faiss-cpu==1.9.0->graphrag-toolkit-byokg-rag==0.0.1) (24.2)\n",
      "Requirement already satisfied: annotated-types>=0.6.0 in /home/ec2-user/anaconda3/envs/JupyterSystemEnv/lib/python3.10/site-packages (from pydantic>=2.8.2->graphrag-toolkit-byokg-rag==0.0.1) (0.7.0)\n",
      "Requirement already satisfied: pydantic-core==2.33.1 in /home/ec2-user/anaconda3/envs/JupyterSystemEnv/lib/python3.10/site-packages (from pydantic>=2.8.2->graphrag-toolkit-byokg-rag==0.0.1) (2.33.1)\n",
      "Requirement already satisfied: typing-extensions>=4.12.2 in /home/ec2-user/anaconda3/envs/JupyterSystemEnv/lib/python3.10/site-packages (from pydantic>=2.8.2->graphrag-toolkit-byokg-rag==0.0.1) (4.13.2)\n",
      "Requirement already satisfied: typing-inspection>=0.4.0 in /home/ec2-user/anaconda3/envs/JupyterSystemEnv/lib/python3.10/site-packages (from pydantic>=2.8.2->graphrag-toolkit-byokg-rag==0.0.1) (0.4.0)\n",
      "Collecting filelock (from transformers>=4.44.2->graphrag-toolkit-byokg-rag==0.0.1)\n",
      "  Downloading filelock-3.18.0-py3-none-any.whl.metadata (2.9 kB)\n",
      "Collecting huggingface-hub<1.0,>=0.30.0 (from transformers>=4.44.2->graphrag-toolkit-byokg-rag==0.0.1)\n",
      "  Downloading huggingface_hub-0.32.4-py3-none-any.whl.metadata (14 kB)\n",
      "Collecting regex!=2019.12.17 (from transformers>=4.44.2->graphrag-toolkit-byokg-rag==0.0.1)\n",
      "  Downloading regex-2024.11.6-cp310-cp310-manylinux_2_17_x86_64.manylinux2014_x86_64.whl.metadata (40 kB)\n",
      "Requirement already satisfied: requests in /home/ec2-user/anaconda3/envs/JupyterSystemEnv/lib/python3.10/site-packages (from transformers>=4.44.2->graphrag-toolkit-byokg-rag==0.0.1) (2.32.2)\n",
      "Collecting tokenizers<0.22,>=0.21 (from transformers>=4.44.2->graphrag-toolkit-byokg-rag==0.0.1)\n",
      "  Downloading tokenizers-0.21.1-cp39-abi3-manylinux_2_17_x86_64.manylinux2014_x86_64.whl.metadata (6.8 kB)\n",
      "Collecting safetensors>=0.4.3 (from transformers>=4.44.2->graphrag-toolkit-byokg-rag==0.0.1)\n",
      "  Downloading safetensors-0.5.3-cp38-abi3-manylinux_2_17_x86_64.manylinux2014_x86_64.whl.metadata (3.8 kB)\n",
      "Requirement already satisfied: tqdm>=4.27 in /home/ec2-user/anaconda3/envs/JupyterSystemEnv/lib/python3.10/site-packages (from transformers>=4.44.2->graphrag-toolkit-byokg-rag==0.0.1) (4.67.1)\n",
      "Requirement already satisfied: botocore<1.39.0,>=1.38.1 in /home/ec2-user/anaconda3/envs/JupyterSystemEnv/lib/python3.10/site-packages (from boto3->graphrag-toolkit-byokg-rag==0.0.1) (1.38.1)\n",
      "Requirement already satisfied: jmespath<2.0.0,>=0.7.1 in /home/ec2-user/anaconda3/envs/JupyterSystemEnv/lib/python3.10/site-packages (from boto3->graphrag-toolkit-byokg-rag==0.0.1) (1.0.1)\n",
      "Requirement already satisfied: s3transfer<0.13.0,>=0.12.0 in /home/ec2-user/anaconda3/envs/JupyterSystemEnv/lib/python3.10/site-packages (from boto3->graphrag-toolkit-byokg-rag==0.0.1) (0.12.0)\n",
      "Requirement already satisfied: comm>=0.1.1 in /home/ec2-user/anaconda3/envs/JupyterSystemEnv/lib/python3.10/site-packages (from ipykernel->graphrag-toolkit-byokg-rag==0.0.1) (0.2.2)\n",
      "Requirement already satisfied: debugpy>=1.6.5 in /home/ec2-user/anaconda3/envs/JupyterSystemEnv/lib/python3.10/site-packages (from ipykernel->graphrag-toolkit-byokg-rag==0.0.1) (1.8.14)\n",
      "Requirement already satisfied: ipython>=7.23.1 in /home/ec2-user/anaconda3/envs/JupyterSystemEnv/lib/python3.10/site-packages (from ipykernel->graphrag-toolkit-byokg-rag==0.0.1) (8.10.0)\n",
      "Requirement already satisfied: jupyter-client>=6.1.12 in /home/ec2-user/anaconda3/envs/JupyterSystemEnv/lib/python3.10/site-packages (from ipykernel->graphrag-toolkit-byokg-rag==0.0.1) (8.6.2)\n",
      "Requirement already satisfied: jupyter-core!=5.0.*,>=4.12 in /home/ec2-user/anaconda3/envs/JupyterSystemEnv/lib/python3.10/site-packages (from ipykernel->graphrag-toolkit-byokg-rag==0.0.1) (5.7.2)\n",
      "Requirement already satisfied: matplotlib-inline>=0.1 in /home/ec2-user/anaconda3/envs/JupyterSystemEnv/lib/python3.10/site-packages (from ipykernel->graphrag-toolkit-byokg-rag==0.0.1) (0.1.7)\n",
      "Requirement already satisfied: nest-asyncio in /home/ec2-user/anaconda3/envs/JupyterSystemEnv/lib/python3.10/site-packages (from ipykernel->graphrag-toolkit-byokg-rag==0.0.1) (1.6.0)\n",
      "Requirement already satisfied: psutil in /home/ec2-user/anaconda3/envs/JupyterSystemEnv/lib/python3.10/site-packages (from ipykernel->graphrag-toolkit-byokg-rag==0.0.1) (7.0.0)\n",
      "Requirement already satisfied: pyzmq>=24 in /home/ec2-user/anaconda3/envs/JupyterSystemEnv/lib/python3.10/site-packages (from ipykernel->graphrag-toolkit-byokg-rag==0.0.1) (26.4.0)\n",
      "Requirement already satisfied: tornado>=6.1 in /home/ec2-user/anaconda3/envs/JupyterSystemEnv/lib/python3.10/site-packages (from ipykernel->graphrag-toolkit-byokg-rag==0.0.1) (6.4.2)\n",
      "Requirement already satisfied: traitlets>=5.4.0 in /home/ec2-user/anaconda3/envs/JupyterSystemEnv/lib/python3.10/site-packages (from ipykernel->graphrag-toolkit-byokg-rag==0.0.1) (5.14.3)\n",
      "Collecting langchain-core<1.0.0,>=0.3.59 (from langchain-huggingface->graphrag-toolkit-byokg-rag==0.0.1)\n",
      "  Downloading langchain_core-0.3.63-py3-none-any.whl.metadata (5.8 kB)\n",
      "Collecting sentence-transformers>=2.6.0 (from langchain-huggingface->graphrag-toolkit-byokg-rag==0.0.1)\n",
      "  Downloading sentence_transformers-4.1.0-py3-none-any.whl.metadata (13 kB)\n",
      "Requirement already satisfied: exceptiongroup>=1 in /home/ec2-user/anaconda3/envs/JupyterSystemEnv/lib/python3.10/site-packages (from pytest->graphrag-toolkit-byokg-rag==0.0.1) (1.2.2)\n",
      "Collecting iniconfig>=1 (from pytest->graphrag-toolkit-byokg-rag==0.0.1)\n",
      "  Downloading iniconfig-2.1.0-py3-none-any.whl.metadata (2.7 kB)\n",
      "Requirement already satisfied: pluggy<2,>=1.5 in /home/ec2-user/anaconda3/envs/JupyterSystemEnv/lib/python3.10/site-packages (from pytest->graphrag-toolkit-byokg-rag==0.0.1) (1.5.0)\n",
      "Requirement already satisfied: pygments>=2.7.2 in /home/ec2-user/anaconda3/envs/JupyterSystemEnv/lib/python3.10/site-packages (from pytest->graphrag-toolkit-byokg-rag==0.0.1) (2.19.1)\n",
      "Requirement already satisfied: tomli>=1 in /home/ec2-user/anaconda3/envs/JupyterSystemEnv/lib/python3.10/site-packages (from pytest->graphrag-toolkit-byokg-rag==0.0.1) (2.2.1)\n",
      "Collecting rapidfuzz<4.0.0,>=3.0.0 (from thefuzz->graphrag-toolkit-byokg-rag==0.0.1)\n",
      "  Downloading rapidfuzz-3.13.0-cp310-cp310-manylinux_2_17_x86_64.manylinux2014_x86_64.whl.metadata (12 kB)\n",
      "Requirement already satisfied: networkx in /home/ec2-user/anaconda3/envs/JupyterSystemEnv/lib/python3.10/site-packages (from torch->graphrag-toolkit-byokg-rag==0.0.1) (2.4)\n",
      "Requirement already satisfied: jinja2 in /home/ec2-user/anaconda3/envs/JupyterSystemEnv/lib/python3.10/site-packages (from torch->graphrag-toolkit-byokg-rag==0.0.1) (3.1.4)\n",
      "Requirement already satisfied: fsspec in /home/ec2-user/anaconda3/envs/JupyterSystemEnv/lib/python3.10/site-packages (from torch->graphrag-toolkit-byokg-rag==0.0.1) (2025.3.2)\n",
      "Collecting nvidia-cuda-nvrtc-cu12==12.4.127 (from torch->graphrag-toolkit-byokg-rag==0.0.1)\n",
      "  Downloading nvidia_cuda_nvrtc_cu12-12.4.127-py3-none-manylinux2014_x86_64.whl.metadata (1.5 kB)\n",
      "Collecting nvidia-cuda-runtime-cu12==12.4.127 (from torch->graphrag-toolkit-byokg-rag==0.0.1)\n",
      "  Downloading nvidia_cuda_runtime_cu12-12.4.127-py3-none-manylinux2014_x86_64.whl.metadata (1.5 kB)\n",
      "Collecting nvidia-cuda-cupti-cu12==12.4.127 (from torch->graphrag-toolkit-byokg-rag==0.0.1)\n",
      "  Downloading nvidia_cuda_cupti_cu12-12.4.127-py3-none-manylinux2014_x86_64.whl.metadata (1.6 kB)\n",
      "Collecting nvidia-cudnn-cu12==9.1.0.70 (from torch->graphrag-toolkit-byokg-rag==0.0.1)\n",
      "  Downloading nvidia_cudnn_cu12-9.1.0.70-py3-none-manylinux2014_x86_64.whl.metadata (1.6 kB)\n",
      "Collecting nvidia-cublas-cu12==12.4.5.8 (from torch->graphrag-toolkit-byokg-rag==0.0.1)\n",
      "  Downloading nvidia_cublas_cu12-12.4.5.8-py3-none-manylinux2014_x86_64.whl.metadata (1.5 kB)\n",
      "Collecting nvidia-cufft-cu12==11.2.1.3 (from torch->graphrag-toolkit-byokg-rag==0.0.1)\n",
      "  Downloading nvidia_cufft_cu12-11.2.1.3-py3-none-manylinux2014_x86_64.whl.metadata (1.5 kB)\n",
      "Collecting nvidia-curand-cu12==10.3.5.147 (from torch->graphrag-toolkit-byokg-rag==0.0.1)\n",
      "  Downloading nvidia_curand_cu12-10.3.5.147-py3-none-manylinux2014_x86_64.whl.metadata (1.5 kB)\n",
      "Collecting nvidia-cusolver-cu12==11.6.1.9 (from torch->graphrag-toolkit-byokg-rag==0.0.1)\n",
      "  Downloading nvidia_cusolver_cu12-11.6.1.9-py3-none-manylinux2014_x86_64.whl.metadata (1.6 kB)\n",
      "Collecting nvidia-cusparse-cu12==12.3.1.170 (from torch->graphrag-toolkit-byokg-rag==0.0.1)\n",
      "  Downloading nvidia_cusparse_cu12-12.3.1.170-py3-none-manylinux2014_x86_64.whl.metadata (1.6 kB)\n",
      "Collecting nvidia-cusparselt-cu12==0.6.2 (from torch->graphrag-toolkit-byokg-rag==0.0.1)\n",
      "  Downloading nvidia_cusparselt_cu12-0.6.2-py3-none-manylinux2014_x86_64.whl.metadata (6.8 kB)\n",
      "Collecting nvidia-nccl-cu12==2.21.5 (from torch->graphrag-toolkit-byokg-rag==0.0.1)\n",
      "  Downloading nvidia_nccl_cu12-2.21.5-py3-none-manylinux2014_x86_64.whl.metadata (1.8 kB)\n",
      "Collecting nvidia-nvtx-cu12==12.4.127 (from torch->graphrag-toolkit-byokg-rag==0.0.1)\n",
      "  Downloading nvidia_nvtx_cu12-12.4.127-py3-none-manylinux2014_x86_64.whl.metadata (1.7 kB)\n",
      "Collecting nvidia-nvjitlink-cu12==12.4.127 (from torch->graphrag-toolkit-byokg-rag==0.0.1)\n",
      "  Downloading nvidia_nvjitlink_cu12-12.4.127-py3-none-manylinux2014_x86_64.whl.metadata (1.5 kB)\n",
      "Collecting triton==3.2.0 (from torch->graphrag-toolkit-byokg-rag==0.0.1)\n",
      "  Downloading triton-3.2.0-cp310-cp310-manylinux_2_17_x86_64.manylinux2014_x86_64.whl.metadata (1.4 kB)\n",
      "Collecting sympy==1.13.1 (from torch->graphrag-toolkit-byokg-rag==0.0.1)\n",
      "  Downloading sympy-1.13.1-py3-none-any.whl.metadata (12 kB)\n",
      "Collecting mpmath<1.4,>=1.1.0 (from sympy==1.13.1->torch->graphrag-toolkit-byokg-rag==0.0.1)\n",
      "  Downloading mpmath-1.3.0-py3-none-any.whl.metadata (8.6 kB)\n",
      "Requirement already satisfied: python-dateutil<3.0.0,>=2.1 in /home/ec2-user/anaconda3/envs/JupyterSystemEnv/lib/python3.10/site-packages (from botocore<1.39.0,>=1.38.1->boto3->graphrag-toolkit-byokg-rag==0.0.1) (2.9.0.post0)\n",
      "Requirement already satisfied: urllib3!=2.2.0,<3,>=1.25.4 in /home/ec2-user/anaconda3/envs/JupyterSystemEnv/lib/python3.10/site-packages (from botocore<1.39.0,>=1.38.1->boto3->graphrag-toolkit-byokg-rag==0.0.1) (2.4.0)\n",
      "Collecting hf-xet<2.0.0,>=1.1.2 (from huggingface-hub<1.0,>=0.30.0->transformers>=4.44.2->graphrag-toolkit-byokg-rag==0.0.1)\n",
      "  Downloading hf_xet-1.1.3-cp37-abi3-manylinux_2_17_x86_64.manylinux2014_x86_64.whl.metadata (879 bytes)\n",
      "Requirement already satisfied: backcall in /home/ec2-user/anaconda3/envs/JupyterSystemEnv/lib/python3.10/site-packages (from ipython>=7.23.1->ipykernel->graphrag-toolkit-byokg-rag==0.0.1) (0.2.0)\n",
      "Requirement already satisfied: decorator in /home/ec2-user/anaconda3/envs/JupyterSystemEnv/lib/python3.10/site-packages (from ipython>=7.23.1->ipykernel->graphrag-toolkit-byokg-rag==0.0.1) (5.2.1)\n",
      "Requirement already satisfied: jedi>=0.16 in /home/ec2-user/anaconda3/envs/JupyterSystemEnv/lib/python3.10/site-packages (from ipython>=7.23.1->ipykernel->graphrag-toolkit-byokg-rag==0.0.1) (0.18.2)\n",
      "Requirement already satisfied: pickleshare in /home/ec2-user/anaconda3/envs/JupyterSystemEnv/lib/python3.10/site-packages (from ipython>=7.23.1->ipykernel->graphrag-toolkit-byokg-rag==0.0.1) (0.7.5)\n",
      "Requirement already satisfied: prompt-toolkit<3.1.0,>=3.0.30 in /home/ec2-user/anaconda3/envs/JupyterSystemEnv/lib/python3.10/site-packages (from ipython>=7.23.1->ipykernel->graphrag-toolkit-byokg-rag==0.0.1) (3.0.51)\n",
      "Requirement already satisfied: stack-data in /home/ec2-user/anaconda3/envs/JupyterSystemEnv/lib/python3.10/site-packages (from ipython>=7.23.1->ipykernel->graphrag-toolkit-byokg-rag==0.0.1) (0.6.3)\n",
      "Requirement already satisfied: pexpect>4.3 in /home/ec2-user/anaconda3/envs/JupyterSystemEnv/lib/python3.10/site-packages (from ipython>=7.23.1->ipykernel->graphrag-toolkit-byokg-rag==0.0.1) (4.9.0)\n",
      "Requirement already satisfied: platformdirs>=2.5 in /home/ec2-user/anaconda3/envs/JupyterSystemEnv/lib/python3.10/site-packages (from jupyter-core!=5.0.*,>=4.12->ipykernel->graphrag-toolkit-byokg-rag==0.0.1) (4.3.7)\n",
      "Collecting langsmith<0.4,>=0.1.126 (from langchain-core<1.0.0,>=0.3.59->langchain-huggingface->graphrag-toolkit-byokg-rag==0.0.1)\n",
      "  Downloading langsmith-0.3.44-py3-none-any.whl.metadata (15 kB)\n",
      "Collecting tenacity!=8.4.0,<10.0.0,>=8.1.0 (from langchain-core<1.0.0,>=0.3.59->langchain-huggingface->graphrag-toolkit-byokg-rag==0.0.1)\n",
      "  Downloading tenacity-9.1.2-py3-none-any.whl.metadata (1.2 kB)\n",
      "Collecting jsonpatch<2.0,>=1.33 (from langchain-core<1.0.0,>=0.3.59->langchain-huggingface->graphrag-toolkit-byokg-rag==0.0.1)\n",
      "  Downloading jsonpatch-1.33-py2.py3-none-any.whl.metadata (3.0 kB)\n",
      "Collecting scikit-learn (from sentence-transformers>=2.6.0->langchain-huggingface->graphrag-toolkit-byokg-rag==0.0.1)\n",
      "  Downloading scikit_learn-1.6.1-cp310-cp310-manylinux_2_17_x86_64.manylinux2014_x86_64.whl.metadata (18 kB)\n",
      "Collecting Pillow (from sentence-transformers>=2.6.0->langchain-huggingface->graphrag-toolkit-byokg-rag==0.0.1)\n",
      "  Downloading pillow-11.2.1-cp310-cp310-manylinux_2_17_x86_64.manylinux2014_x86_64.whl.metadata (8.9 kB)\n",
      "Requirement already satisfied: MarkupSafe>=2.0 in /home/ec2-user/anaconda3/envs/JupyterSystemEnv/lib/python3.10/site-packages (from jinja2->torch->graphrag-toolkit-byokg-rag==0.0.1) (3.0.2)\n",
      "Requirement already satisfied: charset-normalizer<4,>=2 in /home/ec2-user/anaconda3/envs/JupyterSystemEnv/lib/python3.10/site-packages (from requests->transformers>=4.44.2->graphrag-toolkit-byokg-rag==0.0.1) (3.4.1)\n",
      "Requirement already satisfied: idna<4,>=2.5 in /home/ec2-user/anaconda3/envs/JupyterSystemEnv/lib/python3.10/site-packages (from requests->transformers>=4.44.2->graphrag-toolkit-byokg-rag==0.0.1) (3.10)\n",
      "Requirement already satisfied: certifi>=2017.4.17 in /home/ec2-user/anaconda3/envs/JupyterSystemEnv/lib/python3.10/site-packages (from requests->transformers>=4.44.2->graphrag-toolkit-byokg-rag==0.0.1) (2025.1.31)\n",
      "Requirement already satisfied: parso<0.9.0,>=0.8.0 in /home/ec2-user/anaconda3/envs/JupyterSystemEnv/lib/python3.10/site-packages (from jedi>=0.16->ipython>=7.23.1->ipykernel->graphrag-toolkit-byokg-rag==0.0.1) (0.8.4)\n",
      "Requirement already satisfied: jsonpointer>=1.9 in /home/ec2-user/anaconda3/envs/JupyterSystemEnv/lib/python3.10/site-packages (from jsonpatch<2.0,>=1.33->langchain-core<1.0.0,>=0.3.59->langchain-huggingface->graphrag-toolkit-byokg-rag==0.0.1) (3.0.0)\n",
      "Requirement already satisfied: httpx<1,>=0.23.0 in /home/ec2-user/anaconda3/envs/JupyterSystemEnv/lib/python3.10/site-packages (from langsmith<0.4,>=0.1.126->langchain-core<1.0.0,>=0.3.59->langchain-huggingface->graphrag-toolkit-byokg-rag==0.0.1) (0.28.1)\n",
      "Collecting orjson<4.0.0,>=3.9.14 (from langsmith<0.4,>=0.1.126->langchain-core<1.0.0,>=0.3.59->langchain-huggingface->graphrag-toolkit-byokg-rag==0.0.1)\n",
      "  Downloading orjson-3.10.18-cp310-cp310-manylinux_2_17_x86_64.manylinux2014_x86_64.whl.metadata (41 kB)\n",
      "Collecting requests-toolbelt<2.0.0,>=1.0.0 (from langsmith<0.4,>=0.1.126->langchain-core<1.0.0,>=0.3.59->langchain-huggingface->graphrag-toolkit-byokg-rag==0.0.1)\n",
      "  Downloading requests_toolbelt-1.0.0-py2.py3-none-any.whl.metadata (14 kB)\n",
      "Requirement already satisfied: zstandard<0.24.0,>=0.23.0 in /home/ec2-user/anaconda3/envs/JupyterSystemEnv/lib/python3.10/site-packages (from langsmith<0.4,>=0.1.126->langchain-core<1.0.0,>=0.3.59->langchain-huggingface->graphrag-toolkit-byokg-rag==0.0.1) (0.23.0)\n",
      "Requirement already satisfied: ptyprocess>=0.5 in /home/ec2-user/anaconda3/envs/JupyterSystemEnv/lib/python3.10/site-packages (from pexpect>4.3->ipython>=7.23.1->ipykernel->graphrag-toolkit-byokg-rag==0.0.1) (0.7.0)\n",
      "Requirement already satisfied: wcwidth in /home/ec2-user/anaconda3/envs/JupyterSystemEnv/lib/python3.10/site-packages (from prompt-toolkit<3.1.0,>=3.0.30->ipython>=7.23.1->ipykernel->graphrag-toolkit-byokg-rag==0.0.1) (0.2.13)\n",
      "Requirement already satisfied: six>=1.5 in /home/ec2-user/anaconda3/envs/JupyterSystemEnv/lib/python3.10/site-packages (from python-dateutil<3.0.0,>=2.1->botocore<1.39.0,>=1.38.1->boto3->graphrag-toolkit-byokg-rag==0.0.1) (1.17.0)\n",
      "Collecting joblib>=1.2.0 (from scikit-learn->sentence-transformers>=2.6.0->langchain-huggingface->graphrag-toolkit-byokg-rag==0.0.1)\n",
      "  Downloading joblib-1.5.1-py3-none-any.whl.metadata (5.6 kB)\n",
      "Collecting threadpoolctl>=3.1.0 (from scikit-learn->sentence-transformers>=2.6.0->langchain-huggingface->graphrag-toolkit-byokg-rag==0.0.1)\n",
      "  Downloading threadpoolctl-3.6.0-py3-none-any.whl.metadata (13 kB)\n",
      "Requirement already satisfied: executing>=1.2.0 in /home/ec2-user/anaconda3/envs/JupyterSystemEnv/lib/python3.10/site-packages (from stack-data->ipython>=7.23.1->ipykernel->graphrag-toolkit-byokg-rag==0.0.1) (2.1.0)\n",
      "Requirement already satisfied: asttokens>=2.1.0 in /home/ec2-user/anaconda3/envs/JupyterSystemEnv/lib/python3.10/site-packages (from stack-data->ipython>=7.23.1->ipykernel->graphrag-toolkit-byokg-rag==0.0.1) (3.0.0)\n",
      "Requirement already satisfied: pure_eval in /home/ec2-user/anaconda3/envs/JupyterSystemEnv/lib/python3.10/site-packages (from stack-data->ipython>=7.23.1->ipykernel->graphrag-toolkit-byokg-rag==0.0.1) (0.2.3)\n",
      "Requirement already satisfied: anyio in /home/ec2-user/anaconda3/envs/JupyterSystemEnv/lib/python3.10/site-packages (from httpx<1,>=0.23.0->langsmith<0.4,>=0.1.126->langchain-core<1.0.0,>=0.3.59->langchain-huggingface->graphrag-toolkit-byokg-rag==0.0.1) (4.9.0)\n",
      "Requirement already satisfied: httpcore==1.* in /home/ec2-user/anaconda3/envs/JupyterSystemEnv/lib/python3.10/site-packages (from httpx<1,>=0.23.0->langsmith<0.4,>=0.1.126->langchain-core<1.0.0,>=0.3.59->langchain-huggingface->graphrag-toolkit-byokg-rag==0.0.1) (1.0.7)\n",
      "Requirement already satisfied: h11<0.15,>=0.13 in /home/ec2-user/anaconda3/envs/JupyterSystemEnv/lib/python3.10/site-packages (from httpcore==1.*->httpx<1,>=0.23.0->langsmith<0.4,>=0.1.126->langchain-core<1.0.0,>=0.3.59->langchain-huggingface->graphrag-toolkit-byokg-rag==0.0.1) (0.14.0)\n",
      "Requirement already satisfied: sniffio>=1.1 in /home/ec2-user/anaconda3/envs/JupyterSystemEnv/lib/python3.10/site-packages (from anyio->httpx<1,>=0.23.0->langsmith<0.4,>=0.1.126->langchain-core<1.0.0,>=0.3.59->langchain-huggingface->graphrag-toolkit-byokg-rag==0.0.1) (1.3.1)\n",
      "Downloading faiss_cpu-1.9.0-cp310-cp310-manylinux_2_17_x86_64.manylinux2014_x86_64.whl (27.5 MB)\n",
      "\u001b[2K   \u001b[90m━━━━━━━━━━━━━━━━━━━━━━━━━━━━━━━━━━━━━━━━\u001b[0m \u001b[32m27.5/27.5 MB\u001b[0m \u001b[31m197.1 MB/s\u001b[0m eta \u001b[36m0:00:00\u001b[0m\n",
      "\u001b[?25hDownloading numpy-2.2.6-cp310-cp310-manylinux_2_17_x86_64.manylinux2014_x86_64.whl (16.8 MB)\n",
      "\u001b[2K   \u001b[90m━━━━━━━━━━━━━━━━━━━━━━━━━━━━━━━━━━━━━━━━\u001b[0m \u001b[32m16.8/16.8 MB\u001b[0m \u001b[31m200.0 MB/s\u001b[0m eta \u001b[36m0:00:00\u001b[0m\n",
      "\u001b[?25hDownloading scipy-1.15.3-cp310-cp310-manylinux_2_17_x86_64.manylinux2014_x86_64.whl (37.7 MB)\n",
      "\u001b[2K   \u001b[90m━━━━━━━━━━━━━━━━━━━━━━━━━━━━━━━━━━━━━━━━\u001b[0m \u001b[32m37.7/37.7 MB\u001b[0m \u001b[31m224.4 MB/s\u001b[0m eta \u001b[36m0:00:00\u001b[0m\n",
      "\u001b[?25hDownloading transformers-4.52.4-py3-none-any.whl (10.5 MB)\n",
      "\u001b[2K   \u001b[90m━━━━━━━━━━━━━━━━━━━━━━━━━━━━━━━━━━━━━━━━\u001b[0m \u001b[32m10.5/10.5 MB\u001b[0m \u001b[31m193.0 MB/s\u001b[0m eta \u001b[36m0:00:00\u001b[0m\n",
      "\u001b[?25hDownloading langchain_huggingface-0.2.0-py3-none-any.whl (27 kB)\n",
      "Downloading pytest-8.4.0-py3-none-any.whl (363 kB)\n",
      "Downloading thefuzz-0.22.1-py3-none-any.whl (8.2 kB)\n",
      "Downloading torch-2.6.0-cp310-cp310-manylinux1_x86_64.whl (766.7 MB)\n",
      "\u001b[2K   \u001b[90m━━━━━━━━━━━━━━━━━━━━━━━━━━━━━━━━━━━━━━━━\u001b[0m \u001b[32m766.7/766.7 MB\u001b[0m \u001b[31m33.5 MB/s\u001b[0m eta \u001b[36m0:00:00\u001b[0m00:01\u001b[0m00:01\u001b[0m\n",
      "\u001b[?25hDownloading nvidia_cublas_cu12-12.4.5.8-py3-none-manylinux2014_x86_64.whl (363.4 MB)\n",
      "\u001b[2K   \u001b[90m━━━━━━━━━━━━━━━━━━━━━━━━━━━━━━━━━━━━━━━━\u001b[0m \u001b[32m363.4/363.4 MB\u001b[0m \u001b[31m45.3 MB/s\u001b[0m eta \u001b[36m0:00:00\u001b[0m00:01\u001b[0m00:01\u001b[0m\n",
      "\u001b[?25hDownloading nvidia_cuda_cupti_cu12-12.4.127-py3-none-manylinux2014_x86_64.whl (13.8 MB)\n",
      "\u001b[2K   \u001b[90m━━━━━━━━━━━━━━━━━━━━━━━━━━━━━━━━━━━━━━━━\u001b[0m \u001b[32m13.8/13.8 MB\u001b[0m \u001b[31m46.1 MB/s\u001b[0m eta \u001b[36m0:00:00\u001b[0m:00:01\u001b[0m\n",
      "\u001b[?25hDownloading nvidia_cuda_nvrtc_cu12-12.4.127-py3-none-manylinux2014_x86_64.whl (24.6 MB)\n",
      "\u001b[2K   \u001b[90m━━━━━━━━━━━━━━━━━━━━━━━━━━━━━━━━━━━━━━━━\u001b[0m \u001b[32m24.6/24.6 MB\u001b[0m \u001b[31m58.6 MB/s\u001b[0m eta \u001b[36m0:00:00\u001b[0m:00:01\u001b[0m\n",
      "\u001b[?25hDownloading nvidia_cuda_runtime_cu12-12.4.127-py3-none-manylinux2014_x86_64.whl (883 kB)\n",
      "\u001b[2K   \u001b[90m━━━━━━━━━━━━━━━━━━━━━━━━━━━━━━━━━━━━━━━━\u001b[0m \u001b[32m883.7/883.7 kB\u001b[0m \u001b[31m10.1 MB/s\u001b[0m eta \u001b[36m0:00:00\u001b[0m\n",
      "\u001b[?25hDownloading nvidia_cudnn_cu12-9.1.0.70-py3-none-manylinux2014_x86_64.whl (664.8 MB)\n",
      "\u001b[2K   \u001b[90m━━━━━━━━━━━━━━━━━━━━━━━━━━━━━━━━━━━━━━━━\u001b[0m \u001b[32m664.8/664.8 MB\u001b[0m \u001b[31m35.5 MB/s\u001b[0m eta \u001b[36m0:00:00\u001b[0m00:01\u001b[0m00:01\u001b[0m\n",
      "\u001b[?25hDownloading nvidia_cufft_cu12-11.2.1.3-py3-none-manylinux2014_x86_64.whl (211.5 MB)\n",
      "\u001b[2K   \u001b[90m━━━━━━━━━━━━━━━━━━━━━━━━━━━━━━━━━━━━━━━━\u001b[0m \u001b[32m211.5/211.5 MB\u001b[0m \u001b[31m78.9 MB/s\u001b[0m eta \u001b[36m0:00:00\u001b[0m00:01\u001b[0m00:01\u001b[0m\n",
      "\u001b[?25hDownloading nvidia_curand_cu12-10.3.5.147-py3-none-manylinux2014_x86_64.whl (56.3 MB)\n",
      "\u001b[2K   \u001b[90m━━━━━━━━━━━━━━━━━━━━━━━━━━━━━━━━━━━━━━━━\u001b[0m \u001b[32m56.3/56.3 MB\u001b[0m \u001b[31m56.2 MB/s\u001b[0m eta \u001b[36m0:00:00\u001b[0m:00:01\u001b[0m\n",
      "\u001b[?25hDownloading nvidia_cusolver_cu12-11.6.1.9-py3-none-manylinux2014_x86_64.whl (127.9 MB)\n",
      "\u001b[2K   \u001b[90m━━━━━━━━━━━━━━━━━━━━━━━━━━━━━━━━━━━━━━━━\u001b[0m \u001b[32m127.9/127.9 MB\u001b[0m \u001b[31m57.1 MB/s\u001b[0m eta \u001b[36m0:00:00\u001b[0m00:01\u001b[0m00:01\u001b[0m\n",
      "\u001b[?25hDownloading nvidia_cusparse_cu12-12.3.1.170-py3-none-manylinux2014_x86_64.whl (207.5 MB)\n",
      "\u001b[2K   \u001b[90m━━━━━━━━━━━━━━━━━━━━━━━━━━━━━━━━━━━━━━━━\u001b[0m \u001b[32m207.5/207.5 MB\u001b[0m \u001b[31m64.4 MB/s\u001b[0m eta \u001b[36m0:00:00\u001b[0m00:01\u001b[0m00:01\u001b[0m\n",
      "\u001b[?25hDownloading nvidia_cusparselt_cu12-0.6.2-py3-none-manylinux2014_x86_64.whl (150.1 MB)\n",
      "\u001b[2K   \u001b[90m━━━━━━━━━━━━━━━━━━━━━━━━━━━━━━━━━━━━━━━━\u001b[0m \u001b[32m150.1/150.1 MB\u001b[0m \u001b[31m59.0 MB/s\u001b[0m eta \u001b[36m0:00:00\u001b[0m00:01\u001b[0m00:01\u001b[0m\n",
      "\u001b[?25hDownloading nvidia_nccl_cu12-2.21.5-py3-none-manylinux2014_x86_64.whl (188.7 MB)\n",
      "\u001b[2K   \u001b[90m━━━━━━━━━━━━━━━━━━━━━━━━━━━━━━━━━━━━━━━\u001b[0m \u001b[32m188.7/188.7 MB\u001b[0m \u001b[31m134.5 MB/s\u001b[0m eta \u001b[36m0:00:00\u001b[0m00:01\u001b[0m00:01\u001b[0m\n",
      "\u001b[?25hDownloading nvidia_nvjitlink_cu12-12.4.127-py3-none-manylinux2014_x86_64.whl (21.1 MB)\n",
      "\u001b[2K   \u001b[90m━━━━━━━━━━━━━━━━━━━━━━━━━━━━━━━━━━━━━━━━\u001b[0m \u001b[32m21.1/21.1 MB\u001b[0m \u001b[31m171.8 MB/s\u001b[0m eta \u001b[36m0:00:00\u001b[0m\n",
      "\u001b[?25hDownloading nvidia_nvtx_cu12-12.4.127-py3-none-manylinux2014_x86_64.whl (99 kB)\n",
      "Downloading sympy-1.13.1-py3-none-any.whl (6.2 MB)\n",
      "\u001b[2K   \u001b[90m━━━━━━━━━━━━━━━━━━━━━━━━━━━━━━━━━━━━━━━━\u001b[0m \u001b[32m6.2/6.2 MB\u001b[0m \u001b[31m182.4 MB/s\u001b[0m eta \u001b[36m0:00:00\u001b[0m\n",
      "\u001b[?25hDownloading triton-3.2.0-cp310-cp310-manylinux_2_17_x86_64.manylinux2014_x86_64.whl (253.1 MB)\n",
      "\u001b[2K   \u001b[90m━━━━━━━━━━━━━━━━━━━━━━━━━━━━━━━━━━━━━━━━\u001b[0m \u001b[32m253.1/253.1 MB\u001b[0m \u001b[31m76.0 MB/s\u001b[0m eta \u001b[36m0:00:00\u001b[0m00:01\u001b[0m00:01\u001b[0m\n",
      "\u001b[?25hDownloading xmltodict-0.14.2-py2.py3-none-any.whl (10.0 kB)\n",
      "Downloading huggingface_hub-0.32.4-py3-none-any.whl (512 kB)\n",
      "Downloading iniconfig-2.1.0-py3-none-any.whl (6.0 kB)\n",
      "Downloading langchain_core-0.3.63-py3-none-any.whl (438 kB)\n",
      "Downloading rapidfuzz-3.13.0-cp310-cp310-manylinux_2_17_x86_64.manylinux2014_x86_64.whl (3.1 MB)\n",
      "\u001b[2K   \u001b[90m━━━━━━━━━━━━━━━━━━━━━━━━━━━━━━━━━━━━━━━━\u001b[0m \u001b[32m3.1/3.1 MB\u001b[0m \u001b[31m165.2 MB/s\u001b[0m eta \u001b[36m0:00:00\u001b[0m\n",
      "\u001b[?25hDownloading regex-2024.11.6-cp310-cp310-manylinux_2_17_x86_64.manylinux2014_x86_64.whl (781 kB)\n",
      "\u001b[2K   \u001b[90m━━━━━━━━━━━━━━━━━━━━━━━━━━━━━━━━━━━━━━━━\u001b[0m \u001b[32m781.7/781.7 kB\u001b[0m \u001b[31m78.0 MB/s\u001b[0m eta \u001b[36m0:00:00\u001b[0m\n",
      "\u001b[?25hDownloading safetensors-0.5.3-cp38-abi3-manylinux_2_17_x86_64.manylinux2014_x86_64.whl (471 kB)\n",
      "Downloading sentence_transformers-4.1.0-py3-none-any.whl (345 kB)\n",
      "Downloading tokenizers-0.21.1-cp39-abi3-manylinux_2_17_x86_64.manylinux2014_x86_64.whl (3.0 MB)\n",
      "\u001b[2K   \u001b[90m━━━━━━━━━━━━━━━━━━━━━━━━━━━━━━━━━━━━━━━━\u001b[0m \u001b[32m3.0/3.0 MB\u001b[0m \u001b[31m140.3 MB/s\u001b[0m eta \u001b[36m0:00:00\u001b[0m\n",
      "\u001b[?25hDownloading filelock-3.18.0-py3-none-any.whl (16 kB)\n",
      "Downloading hf_xet-1.1.3-cp37-abi3-manylinux_2_17_x86_64.manylinux2014_x86_64.whl (4.8 MB)\n",
      "\u001b[2K   \u001b[90m━━━━━━━━━━━━━━━━━━━━━━━━━━━━━━━━━━━━━━━━\u001b[0m \u001b[32m4.8/4.8 MB\u001b[0m \u001b[31m174.3 MB/s\u001b[0m eta \u001b[36m0:00:00\u001b[0m\n",
      "\u001b[?25hDownloading jsonpatch-1.33-py2.py3-none-any.whl (12 kB)\n",
      "Downloading langsmith-0.3.44-py3-none-any.whl (361 kB)\n",
      "Downloading mpmath-1.3.0-py3-none-any.whl (536 kB)\n",
      "\u001b[2K   \u001b[90m━━━━━━━━━━━━━━━━━━━━━━━━━━━━━━━━━━━━━━━━\u001b[0m \u001b[32m536.2/536.2 kB\u001b[0m \u001b[31m54.1 MB/s\u001b[0m eta \u001b[36m0:00:00\u001b[0m\n",
      "\u001b[?25hDownloading tenacity-9.1.2-py3-none-any.whl (28 kB)\n",
      "Downloading pillow-11.2.1-cp310-cp310-manylinux_2_17_x86_64.manylinux2014_x86_64.whl (4.5 MB)\n",
      "\u001b[2K   \u001b[90m━━━━━━━━━━━━━━━━━━━━━━━━━━━━━━━━━━━━━━━━\u001b[0m \u001b[32m4.5/4.5 MB\u001b[0m \u001b[31m177.3 MB/s\u001b[0m eta \u001b[36m0:00:00\u001b[0m\n",
      "\u001b[?25hDownloading scikit_learn-1.6.1-cp310-cp310-manylinux_2_17_x86_64.manylinux2014_x86_64.whl (13.5 MB)\n",
      "\u001b[2K   \u001b[90m━━━━━━━━━━━━━━━━━━━━━━━━━━━━━━━━━━━━━━━━\u001b[0m \u001b[32m13.5/13.5 MB\u001b[0m \u001b[31m188.0 MB/s\u001b[0m eta \u001b[36m0:00:00\u001b[0m\n",
      "\u001b[?25hDownloading joblib-1.5.1-py3-none-any.whl (307 kB)\n",
      "Downloading orjson-3.10.18-cp310-cp310-manylinux_2_17_x86_64.manylinux2014_x86_64.whl (132 kB)\n",
      "Downloading requests_toolbelt-1.0.0-py2.py3-none-any.whl (54 kB)\n",
      "Downloading threadpoolctl-3.6.0-py3-none-any.whl (18 kB)\n",
      "Building wheels for collected packages: graphrag-toolkit-byokg-rag\n",
      "  Building wheel for graphrag-toolkit-byokg-rag (pyproject.toml) ... \u001b[?25ldone\n",
      "\u001b[?25h  Created wheel for graphrag-toolkit-byokg-rag: filename=graphrag_toolkit_byokg_rag-0.0.1-py3-none-any.whl size=32177 sha256=ec261dd003caed613b766a0f34b711c9739754aaa2bbe5905e24a0ee78eb90f8\n",
      "  Stored in directory: /tmp/pip-ephem-wheel-cache-kr2sggmz/wheels/9e/3f/99/2c3a6b3c20d248e15fe75589e1e334d4702f50ba80cb5e67e0\n",
      "Successfully built graphrag-toolkit-byokg-rag\n",
      "Installing collected packages: triton, nvidia-cusparselt-cu12, mpmath, xmltodict, threadpoolctl, tenacity, sympy, safetensors, regex, rapidfuzz, Pillow, orjson, nvidia-nvtx-cu12, nvidia-nvjitlink-cu12, nvidia-nccl-cu12, nvidia-curand-cu12, nvidia-cufft-cu12, nvidia-cuda-runtime-cu12, nvidia-cuda-nvrtc-cu12, nvidia-cuda-cupti-cu12, nvidia-cublas-cu12, numpy, jsonpatch, joblib, iniconfig, hf-xet, filelock, thefuzz, scipy, requests-toolbelt, pytest, nvidia-cusparse-cu12, nvidia-cudnn-cu12, huggingface-hub, faiss-cpu, tokenizers, scikit-learn, nvidia-cusolver-cu12, langsmith, transformers, torch, langchain-core, sentence-transformers, langchain-huggingface, graphrag-toolkit-byokg-rag\n",
      "  Attempting uninstall: numpy\n",
      "    Found existing installation: numpy 1.23.5\n",
      "    Uninstalling numpy-1.23.5:\n",
      "      Successfully uninstalled numpy-1.23.5\n",
      "\u001b[31mERROR: pip's dependency resolver does not currently take into account all the packages that are installed. This behaviour is the source of the following dependency conflicts.\n",
      "graph-notebook 5.0.1 requires numpy<1.24.0,>=1.23.5, but you have numpy 2.2.6 which is incompatible.\n",
      "numba 0.60.0 requires numpy<2.1,>=1.22, but you have numpy 2.2.6 which is incompatible.\n",
      "sagemaker 2.243.3 requires numpy==1.26.4, but you have numpy 2.2.6 which is incompatible.\u001b[0m\u001b[31m\n",
      "\u001b[0mSuccessfully installed Pillow-11.2.1 faiss-cpu-1.9.0 filelock-3.18.0 graphrag-toolkit-byokg-rag-0.0.1 hf-xet-1.1.3 huggingface-hub-0.32.4 iniconfig-2.1.0 joblib-1.5.1 jsonpatch-1.33 langchain-core-0.3.63 langchain-huggingface-0.2.0 langsmith-0.3.44 mpmath-1.3.0 numpy-2.2.6 nvidia-cublas-cu12-12.4.5.8 nvidia-cuda-cupti-cu12-12.4.127 nvidia-cuda-nvrtc-cu12-12.4.127 nvidia-cuda-runtime-cu12-12.4.127 nvidia-cudnn-cu12-9.1.0.70 nvidia-cufft-cu12-11.2.1.3 nvidia-curand-cu12-10.3.5.147 nvidia-cusolver-cu12-11.6.1.9 nvidia-cusparse-cu12-12.3.1.170 nvidia-cusparselt-cu12-0.6.2 nvidia-nccl-cu12-2.21.5 nvidia-nvjitlink-cu12-12.4.127 nvidia-nvtx-cu12-12.4.127 orjson-3.10.18 pytest-8.4.0 rapidfuzz-3.13.0 regex-2024.11.6 requests-toolbelt-1.0.0 safetensors-0.5.3 scikit-learn-1.6.1 scipy-1.15.3 sentence-transformers-4.1.0 sympy-1.13.1 tenacity-9.1.2 thefuzz-0.22.1 threadpoolctl-3.6.0 tokenizers-0.21.1 torch-2.6.0 transformers-4.52.4 triton-3.2.0 xmltodict-0.14.2\n"
     ]
    }
   ],
   "source": [
    "!pip install https://github.com/awslabs/graphrag-toolkit/archive/refs/tags/v3.8.0.zip#subdirectory=byokg-rag"
   ]
  },
  {
   "cell_type": "markdown",
   "id": "e8d4754e",
   "metadata": {},
   "source": [
    "### Graph Store\n",
    "The `LocalKGStore` class provides an interface to work with the knowledge graph. Here we\n",
    "1. Initialize the graph store\n",
    "2. Load data from a CSV file\n",
    "3. Get basic statistics about the graph\n",
    "4. Examine sample edges for a specific node (Wynton Marsalis)"
   ]
  },
  {
   "cell_type": "code",
   "execution_count": 7,
   "id": "bfae6b0c",
   "metadata": {},
   "outputs": [
    {
     "name": "stdout",
     "output_type": "stream",
     "text": [
      "The graph has 1691 nodes and 21911 edges.\n",
      "Some neighboring edges of node 'Wynton Marsalis' are:  [('people.person.gender', [('Wynton Marsalis', 'people.person.gender', 'Male')]), ('music.group_member.instruments_played', [('Wynton Marsalis', 'music.group_member.instruments_played', 'Trumpet')]), ('people.person.profession', [('Wynton Marsalis', 'people.person.profession', 'Trumpeter'), ('Wynton Marsalis', 'people.person.profession', 'Actor'), ('Wynton Marsalis', 'people.person.profession', 'Musician')])]\n"
     ]
    }
   ],
   "source": [
    "from graphrag_toolkit.byokg_rag.graphstore import LocalKGStore\n",
    "\n",
    "graph_store = LocalKGStore()\n",
    "graph_store.read_from_csv('freebase_tiny_kg.csv')\n",
    "# Print graph statistics\n",
    "schema = graph_store.get_schema()\n",
    "number_of_nodes = len(graph_store.nodes())\n",
    "number_of_edges = len(graph_store.get_triplets())\n",
    "print(f\"The graph has {number_of_nodes} nodes and {number_of_edges} edges.\")\n",
    "\n",
    "# Let's also see neighbor edges of node \"Wynton Marsalis\"\n",
    "import random\n",
    "sample_triplets = graph_store.get_one_hop_edges([\"Wynton Marsalis\"])\n",
    "sample_triplets = random.sample(list(sample_triplets[\"Wynton Marsalis\"].items()), 3)\n",
    "print(\"Some neighboring edges of node 'Wynton Marsalis' are: \", sample_triplets)\n"
   ]
  },
  {
   "cell_type": "markdown",
   "id": "2e4a06a1",
   "metadata": {},
   "source": [
    "### Question Answering\n",
    "\n",
    "We define a sample question and its ground truth answer to test our system. The question requires reasoning through multiple hops in the knowledge graph to find the answer."
   ]
  },
  {
   "cell_type": "code",
   "execution_count": 8,
   "id": "3965af5b",
   "metadata": {},
   "outputs": [],
   "source": [
    "question = \"What genre of film is associated with the place where Wynton Marsalis was born?\"\n",
    "answer = \"Backstage Musical\""
   ]
  },
  {
   "cell_type": "markdown",
   "id": "1401f060",
   "metadata": {},
   "source": [
    "### KG Linker\n",
    "The `KGLinker` uses an LLM (Claude 3.5 Sonnet) to:\n",
    "1. Extract entities from the question\n",
    "2. Identify potential relationship paths in the graph\n",
    "3. Generate initial responses based on its knowledge"
   ]
  },
  {
   "cell_type": "code",
   "execution_count": 9,
   "id": "5e6699b1",
   "metadata": {},
   "outputs": [
    {
     "data": {
      "text/plain": [
       "\"I understand that I need to analyze the question, extract relevant entities, identify relationship paths, and provide potential answers based on the given schema. I'll address each task separately.\\n\\n### Task: Entity Extraction\\n\\n<entities>\\nWynton Marsalis\\n</entities>\\n\\n### Task: Relationship Path Identification\\n\\n<paths>\\npeople.person.place_of_birth -> location.location.featured_in_films -> film.film.genre\\npeople.person.place_of_birth -> location.location.contains -> film.film_location.featured_in_films -> film.film.genre\\npeople.person.place_of_birth -> location.location.partially_contains -> film.film_location.featured_in_films -> film.film.genre\\n</paths>\\n\\n### Task: Question Answering\\n\\n<answers>\\n</answers>\\n\\nI cannot provide a definitive answer based solely on the given schema and question. The schema does not contain direct information about genres associated with specific birthplaces. To answer this question accurately, we would need additional data about Wynton Marsalis's birthplace and films or genres associated with that location.\""
      ]
     },
     "execution_count": 9,
     "metadata": {},
     "output_type": "execute_result"
    }
   ],
   "source": [
    "\n",
    "from graphrag_toolkit.byokg_rag.graph_connectors import KGLinker\n",
    "from graphrag_toolkit.byokg_rag.llm import BedrockGenerator\n",
    "\n",
    "\n",
    "\n",
    "# Initialize llm\n",
    "llm_generator = BedrockGenerator(\n",
    "                model_name='us.anthropic.claude-3-5-sonnet-20240620-v1:0',\n",
    "                region_name='us-west-2')\n",
    "\n",
    "kg_linker = KGLinker(graph_store=graph_store, llm_generator=llm_generator)\n",
    "response = kg_linker.generate_response(\n",
    "                question=question,\n",
    "                schema=schema,\n",
    "                graph_context=\"Not provided. Use the above schema to understand the graph.\"\n",
    "            )\n",
    "response\n"
   ]
  },
  {
   "cell_type": "code",
   "execution_count": 10,
   "id": "9c42fb7e",
   "metadata": {},
   "outputs": [
    {
     "data": {
      "text/plain": [
       "{'entity-extraction': ['Wynton Marsalis'],\n",
       " 'path-extraction': ['people.person.place_of_birth -> location.location.featured_in_films -> film.film.genre',\n",
       "  'people.person.place_of_birth -> location.location.contains -> film.film_location.featured_in_films -> film.film.genre',\n",
       "  'people.person.place_of_birth -> location.location.partially_contains -> film.film_location.featured_in_films -> film.film.genre'],\n",
       " 'draft-answer-generation': []}"
      ]
     },
     "execution_count": 10,
     "metadata": {},
     "output_type": "execute_result"
    }
   ],
   "source": [
    "artifacts = kg_linker.parse_response(response)\n",
    "artifacts"
   ]
  },
  {
   "cell_type": "markdown",
   "id": "d5cfc82c",
   "metadata": {},
   "source": [
    "### Entity Linking\n",
    "The `EntityLinker` uses fuzzy string matching to\n",
    "1. Match extracted entities to actual nodes in the graph\n",
    "3. Link potential answers to graph nodes"
   ]
  },
  {
   "cell_type": "code",
   "execution_count": 11,
   "id": "dde72518",
   "metadata": {},
   "outputs": [
    {
     "data": {
      "text/plain": [
       "(['Wynton Marsalis'], [])"
      ]
     },
     "execution_count": 11,
     "metadata": {},
     "output_type": "execute_result"
    }
   ],
   "source": [
    "from graphrag_toolkit.byokg_rag.indexing import FuzzyStringIndex\n",
    "from graphrag_toolkit.byokg_rag.graph_retrievers import EntityLinker\n",
    "\n",
    "# Add graph nodes text for string matching\n",
    "string_index = FuzzyStringIndex()\n",
    "string_index.add(graph_store.nodes())\n",
    "retriever = string_index.as_entity_matcher()\n",
    "entity_linker = EntityLinker(retriever=retriever)\n",
    "\n",
    "linked_entities = entity_linker.link(artifacts[\"entity-extraction\"], return_dict=False)\n",
    "linked_answers = entity_linker.link(artifacts[\"draft-answer-generation\"], return_dict=False)\n",
    "linked_entities, linked_answers"
   ]
  },
  {
   "cell_type": "markdown",
   "id": "cb56d7d7",
   "metadata": {},
   "source": [
    "### Triplet Retrieval\n",
    "The `AgenticRetriever` uses an LLM to:\n",
    "1. Navigate the graph starting from linked entities\n",
    "2. Select relevant relations based on the question\n",
    "3. Expand those relations and decide which relevant entities to explore next.\n",
    "4. It returns the relevant (head->relation->tail) based on the question.\n"
   ]
  },
  {
   "cell_type": "code",
   "execution_count": 12,
   "id": "5438c866",
   "metadata": {},
   "outputs": [],
   "source": [
    "from graphrag_toolkit.byokg_rag.graph_retrievers import AgenticRetriever\n",
    "from graphrag_toolkit.byokg_rag.graph_retrievers import GTraversal, TripletGVerbalizer\n",
    "graph_traversal = GTraversal(graph_store)\n",
    "graph_verbalizer = TripletGVerbalizer()\n",
    "triplet_retriever = AgenticRetriever(\n",
    "    llm_generator=llm_generator, \n",
    "    graph_traversal=graph_traversal,\n",
    "    graph_verbalizer=graph_verbalizer)"
   ]
  },
  {
   "cell_type": "code",
   "execution_count": 13,
   "id": "91c66868",
   "metadata": {},
   "outputs": [
    {
     "data": {
      "text/plain": [
       "['Wynton Marsalis -> people.person.nationality -> United States of America',\n",
       " 'Wynton Marsalis -> music.artist.genre -> Big Band | Jazz',\n",
       " 'Wynton Marsalis -> people.person.place_of_birth -> New Orleans',\n",
       " 'New Orleans -> common.topic.notable_types -> City/Town/Village | Film',\n",
       " 'New Orleans -> film.film.genre -> Backstage Musical',\n",
       " 'New Orleans -> film.film_location.featured_in_films -> Easy Rider',\n",
       " 'New Orleans -> location.location.containedby -> United States of America | Louisiana | Orleans Parish']"
      ]
     },
     "execution_count": 13,
     "metadata": {},
     "output_type": "execute_result"
    }
   ],
   "source": [
    "triplet_context = triplet_retriever.retrieve(query=question, source_nodes=linked_entities)\n",
    "triplet_context"
   ]
  },
  {
   "cell_type": "markdown",
   "id": "d5da3c24",
   "metadata": {},
   "source": [
    "### Path Retrieval\n",
    "The `PathRetriever` uses the identified metapaths and candidate answers to:\n",
    "1. Retrieve actual paths in the graph following the metapath\n",
    "2. Retrieve shortest paths connecting question entities and candidate answers (if any) \n",
    "3. Verbalize the paths for context"
   ]
  },
  {
   "cell_type": "code",
   "execution_count": 23,
   "id": "7576abf8",
   "metadata": {},
   "outputs": [
    {
     "data": {
      "text/plain": [
       "['Wynton Marsalis -> people.person.place_of_birth -> New Orleans | New Orleans | New Orleans']"
      ]
     },
     "execution_count": 23,
     "metadata": {},
     "output_type": "execute_result"
    }
   ],
   "source": [
    "from graphrag_toolkit.byokg_rag.graph_retrievers import PathRetriever\n",
    "from graphrag_toolkit.byokg_rag.graph_retrievers import GTraversal, PathVerbalizer\n",
    "graph_traversal = GTraversal(graph_store)\n",
    "path_verbalizer = PathVerbalizer()\n",
    "path_retriever = PathRetriever(\n",
    "    graph_traversal=graph_traversal,\n",
    "    path_verbalizer=path_verbalizer)\n",
    "\n",
    "metapaths = [[component.strip() for component in path.split(\"->\")] for path in artifacts[\"path-extraction\"]]\n",
    "shortened_paths = []\n",
    "for path in metapaths:\n",
    "    if len(path) > 1:\n",
    "        shortened_paths.append(path[:1])\n",
    "for path in metapaths:\n",
    "    if len(path) > 2:\n",
    "        shortened_paths.append(path[:2])\n",
    "metapaths += shortened_paths\n",
    "path_context = path_retriever.retrieve(linked_entities, metapaths, linked_answers)\n",
    "path_context"
   ]
  },
  {
   "cell_type": "markdown",
   "id": "a981d132",
   "metadata": {},
   "source": [
    "### Retrieval Evaluation\n",
    "\n",
    "We evaluate whether the answer is found in the retrieved context."
   ]
  },
  {
   "cell_type": "code",
   "execution_count": 15,
   "id": "07aee5c6",
   "metadata": {},
   "outputs": [
    {
     "name": "stdout",
     "output_type": "stream",
     "text": [
      "Success! Ground-truth answer `Backstage Musical` retrieved!\n"
     ]
    }
   ],
   "source": [
    "context = list(set(triplet_context + path_context))\n",
    "print(f\"Success! Ground-truth answer `{answer}` retrieved!\") if answer in '\\n'.join(context) else print(\"Failure..\")\n"
   ]
  },
  {
   "cell_type": "markdown",
   "id": "c6b5307b",
   "metadata": {},
   "source": [
    "### BYOKG RAG Pipeline\n",
    "\n",
    "The `ByoKGQueryEngine` combines all components to:\n",
    "1. Process natural language questions\n",
    "2. Retrieve relevant context from the graph\n",
    "3. Generate answers based on the retrieved information"
   ]
  },
  {
   "cell_type": "code",
   "execution_count": 16,
   "id": "eac11cfe",
   "metadata": {},
   "outputs": [],
   "source": [
    "from graphrag_toolkit.byokg_rag.byokg_query_engine import ByoKGQueryEngine\n",
    "byokg_query_engine = ByoKGQueryEngine(\n",
    "    graph_store=graph_store,\n",
    "    kg_linker=kg_linker,\n",
    "    triplet_retriever=triplet_retriever,\n",
    "    path_retriever=path_retriever,\n",
    "    entity_linker=entity_linker\n",
    ")"
   ]
  },
  {
   "cell_type": "code",
   "execution_count": 17,
   "id": "914cc3c2",
   "metadata": {},
   "outputs": [
    {
     "name": "stdout",
     "output_type": "stream",
     "text": [
      "Retrieved context:  Wynton Marsalis -> people.person.nationality -> United States of America\n",
      "Wynton Marsalis -> music.artist.genre -> Big Band | Jazz\n",
      "Wynton Marsalis -> people.person.place_of_birth -> New Orleans\n",
      "New Orleans -> common.topic.notable_types -> City/Town/Village | Film\n",
      "New Orleans -> film.film.genre -> Backstage Musical\n",
      "New Orleans -> film.film_location.featured_in_films -> Easy Rider\n",
      "New Orleans -> location.location.containedby -> United States of America | Louisiana | Orleans Parish\n",
      "New Orleans -> location.location.events -> Capture of New Orleans | One More from the Road Tour\n",
      "Generated answers:  ['Backstage Musical']\n",
      "Success! Ground-truth answer `Backstage Musical` retrieved!\n"
     ]
    }
   ],
   "source": [
    "retrieved_context = byokg_query_engine.query(question)\n",
    "answers, response = byokg_query_engine.generate_response(question, \"\\n\".join(retrieved_context))\n",
    "\n",
    "print(\"Retrieved context: \", \"\\n\".join(retrieved_context))\n",
    "print(\"Generated answers: \", answers)\n",
    "print(f\"Success! Ground-truth answer `{answer}` retrieved!\") if answer in '\\n'.join(answers) else print(\"Failure..\")\n"
   ]
  },
  {
   "cell_type": "markdown",
   "id": "dd21e36a",
   "metadata": {},
   "source": [
    "### Testing with Another Question"
   ]
  },
  {
   "cell_type": "code",
   "execution_count": 18,
   "id": "44afebbb",
   "metadata": {},
   "outputs": [],
   "source": [
    "question=\"What are all airports in the city where New York Times is circulated?\"\n",
    "retrieved_context = byokg_query_engine.query(question)\n"
   ]
  },
  {
   "cell_type": "code",
   "execution_count": 19,
   "id": "daec40ef",
   "metadata": {},
   "outputs": [
    {
     "name": "stdout",
     "output_type": "stream",
     "text": [
      "Retrieved context:  Louis Armstrong New Orleans International Airport -> aviation.airport.serves -> Courtyard New Orleans Downtown Near the French Quarter | Search Influence | New Orleans | Aquarium of the Americas\n",
      "The New York Times -> book.newspaper.circulation_areas -> New York City | United States of America | Staten Island | Brooklyn | Queens\n",
      "Louis Armstrong New Orleans International Airport -> location.location.containedby -> United States of America\n",
      "Columbia Regional Airport -> aviation.airport.serves -> Columbia\n",
      "New York City -> periodicals.newspaper_circulation_area.newspapers -> Five Towns Jewish Times | El Diario La Prensa | Vaba Eesti Sõna | New York Call | Nowy Dziennik | The Onion | The National Sports Daily | Il Progresso Italo-Americano | Columbia Daily Spectator | The West Side Spirit | Spirit of the Times | Manhattan West Side Spirit | The Morning Star | Al-Hoda | The Jewish Daily Forward | The Sun | American Citizen | AM New York | New York Communist | National Anti-Slavery Standard | New York Press | Negro World | Catholic Worker | Daily Worker | The Aquarian Weekly | The Capitol | Morgen Freiheit | Hoy | New Yorker Volkszeitung | The Campus\n",
      "New York City -> location.location.nearby_airports -> Downtown Manhattan Heliport | New York Skyports Inc. Seaplane Base | John F. Kennedy International Airport | LaGuardia Airport | Flushing Airport | East 34th Street Heliport\n",
      "New York City -> location.location.partially_contains -> Ellis Island\n",
      "New York City -> location.location.partiallycontains -> m.0wg91t7\n",
      "New York City -> location.location.containedby -> New York | United States of America\n",
      "New York City -> location.location.geolocation -> m.0kfn9s\n",
      "The New York Times -> book.newspaper.circulation_areas > New York City-> location.location.nearby_airports -> Flushing Airport | East 34th Street Heliport | Downtown Manhattan Heliport | New York Skyports Inc. Seaplane Base | John F. Kennedy International Airport | LaGuardia Airport\n",
      "Generated response:  Based on the graph context provided, here are the airports in New York City where The New York Times is circulated:\n",
      "\n",
      "<answers>\n",
      "Downtown Manhattan Heliport\n",
      "New York Skyports Inc. Seaplane Base\n",
      "John F. Kennedy International Airport\n",
      "LaGuardia Airport\n",
      "Flushing Airport\n",
      "East 34th Street Heliport\n",
      "</answers>\n"
     ]
    }
   ],
   "source": [
    "print(\"Retrieved context: \", \"\\n\".join(retrieved_context))\n",
    "answers, response = byokg_query_engine.generate_response(question, \"\\n\".join(retrieved_context))\n",
    "print(\"Generated response: \", response)\n"
   ]
  },
  {
   "cell_type": "markdown",
   "id": "950e10dc",
   "metadata": {},
   "source": [
    "### Testing with Scoring-based Retriever"
   ]
  },
  {
   "cell_type": "code",
   "execution_count": 20,
   "id": "54d6d460",
   "metadata": {},
   "outputs": [
    {
     "name": "stderr",
     "output_type": "stream",
     "text": [
      "/opt/conda/envs/gtool/lib/python3.12/site-packages/tqdm/auto.py:21: TqdmWarning: IProgress not found. Please update jupyter and ipywidgets. See https://ipywidgets.readthedocs.io/en/stable/user_install.html\n",
      "  from .autonotebook import tqdm as notebook_tqdm\n"
     ]
    }
   ],
   "source": [
    "from graphrag_toolkit.byokg_rag.graph_retrievers import GraphScoringRetriever\n",
    "from graphrag_toolkit.byokg_rag.graph_retrievers import GTraversal, TripletGVerbalizer\n",
    "from graphrag_toolkit.byokg_rag.graph_retrievers import LocalGReranker\n",
    "graph_traversal = GTraversal(graph_store)\n",
    "graph_verbalizer = TripletGVerbalizer()\n",
    "\n",
    "device=\"cuda\" #change to device=\"cpu\" if no gpu available\n",
    "graph_reranker = LocalGReranker(model_name='BAAI/bge-reranker-v2-m3', topk=10, device=device)\n",
    "triplet_retriever = GraphScoringRetriever(\n",
    "    graph_traversal=graph_traversal,\n",
    "    graph_verbalizer=graph_verbalizer,\n",
    "    graph_reranker=graph_reranker\n",
    "    )"
   ]
  },
  {
   "cell_type": "code",
   "execution_count": 21,
   "id": "1663b9a1",
   "metadata": {},
   "outputs": [
    {
     "name": "stdout",
     "output_type": "stream",
     "text": [
      "Retrieved context:  Wynton Marsalis -> people.person.place_of_birth -> New Orleans\n",
      "Wynton Marsalis -> music.artist.genre -> Jazz | Big Band\n",
      "Wynton Marsalis -> freebase.valuenotation.is_reviewed -> Place of birth | Country of nationality | Gender | Date of birth\n",
      "Wynton Marsalis -> people.person.nationality -> United States of America\n",
      "Wynton Marsalis -> music.artist.label -> Columbia\n",
      "Wynton Marsalis -> people.person.profession -> Actor | Musician | Trumpeter\n",
      "TheJazzy1.com -> broadcast.content.artist -> Dee Dee Bridgewater | Modern Jazz Quartet | Eric Leeds | Pat Metheny | Judy Garland | Biréli Lagrène | Manfredo Fest | Mike Boone | Cannonball Adderley | Lonnie Liston Smith | Dave Grusin | Toots Thielemans | Weather Report | Rowland Kirk | Kenny Kirkland | Ron Carter | Bobby Hutcherson | Michel Camilo | Steve Coleman | Joe Chambers | Basia | Sadao Watanabe | Christian McBride | Ann Hampton Callaway | Etta Jones | Charlie Byrd | Patti Austin | MFSB | Kellye Gray | Charles Fambrough | Stanley Jordan | Louis Armstrong | John Klemmer | Barney Kessel | The Great Jazz Trio | Standards Trio | John Pizzarelli | Sylvia Shemwell | Courtney Pine | John Abercrombie | Stan Kenton | Bill Evans | The Howard Alden Trio | Art Farmer | Carla Bley | Hubert Laws | Kenny Barron | Lee Konitz | Wynton Marsalis | Gil Scott-Heron | Diana Krall | McCoy Tyner | Billie Holiday | Holly Cole | Joshua Redman Quartet | Curtis Fuller | Stan Getz | Oliver Nelson | Rickie Lee Jones | Ray Bryant | Jesse Davis | James Carter | Brad Mehldau | The Crusaders | Tony Bennett | Lee Ritenour | Joe Sample | Charlie Haden & Kenny Barron | Cyrus Chestnut | Kevin Mahogany | Wilton Felder | Mark Whitfield | Terence Blanchard | Jimmy Witherspoon | The Hoops Mccann Band | Jazz Futures\n",
      "Wynton Marsalis -> broadcast.artist.content -> TheJazzy1.com\n",
      "Wynton Marsalis -> people.person.ethnicity -> African American\n",
      "New Orleans -> film.film.genre -> Backstage Musical\n",
      "Success! Ground-truth answer `Backstage Musical` retrieved!\n"
     ]
    }
   ],
   "source": [
    "triplet_context = triplet_retriever.retrieve(query=\"What genre of film is associated with the place where Wynton Marsalis was born?\",\n",
    "                                            source_nodes=[\"Wynton Marsalis\"])\n",
    "print(\"Retrieved context: \", \"\\n\".join(triplet_context))\n",
    "answer = \"Backstage Musical\"\n",
    "print(f\"Success! Ground-truth answer `{answer}` retrieved!\") if answer in '\\n'.join(triplet_context) else print(\"Failure..\")\n"
   ]
  }
 ],
 "metadata": {
  "kernelspec": {
   "display_name": "Python 3",
   "language": "python",
   "name": "python3"
  },
  "language_info": {
   "codemirror_mode": {
    "name": "ipython",
    "version": 3
   },
   "file_extension": ".py",
   "mimetype": "text/x-python",
   "name": "python",
   "nbconvert_exporter": "python",
   "pygments_lexer": "ipython3",
   "version": "3.10.17"
  }
 },
 "nbformat": 4,
 "nbformat_minor": 5
}
